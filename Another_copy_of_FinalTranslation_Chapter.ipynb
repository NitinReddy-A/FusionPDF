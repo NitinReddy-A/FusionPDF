{
  "cells": [
    {
      "cell_type": "markdown",
      "metadata": {
        "id": "view-in-github",
        "colab_type": "text"
      },
      "source": [
        "<a href=\"https://colab.research.google.com/github/NitinReddy-A/FusionPDF/blob/main/Another_copy_of_FinalTranslation_Chapter.ipynb\" target=\"_parent\"><img src=\"https://colab.research.google.com/assets/colab-badge.svg\" alt=\"Open In Colab\"/></a>"
      ]
    },
    {
      "cell_type": "code",
      "execution_count": 1,
      "metadata": {
        "colab": {
          "base_uri": "https://localhost:8080/"
        },
        "id": "1D-kp0pLvR_e",
        "outputId": "1e88a518-b175-4cb8-edb6-6d710302d0f7"
      },
      "outputs": [
        {
          "output_type": "stream",
          "name": "stdout",
          "text": [
            "Collecting fitz\n",
            "  Downloading fitz-0.0.1.dev2-py2.py3-none-any.whl (20 kB)\n",
            "Collecting configobj (from fitz)\n",
            "  Downloading configobj-5.0.8-py2.py3-none-any.whl (36 kB)\n",
            "Collecting configparser (from fitz)\n",
            "  Downloading configparser-7.0.0-py3-none-any.whl (16 kB)\n",
            "Requirement already satisfied: httplib2 in /usr/local/lib/python3.10/dist-packages (from fitz) (0.22.0)\n",
            "Requirement already satisfied: nibabel in /usr/local/lib/python3.10/dist-packages (from fitz) (4.0.2)\n",
            "Collecting nipype (from fitz)\n",
            "  Downloading nipype-1.8.6-py3-none-any.whl (3.2 MB)\n",
            "\u001b[2K     \u001b[90m━━━━━━━━━━━━━━━━━━━━━━━━━━━━━━━━━━━━━━━━\u001b[0m \u001b[32m3.2/3.2 MB\u001b[0m \u001b[31m25.2 MB/s\u001b[0m eta \u001b[36m0:00:00\u001b[0m\n",
            "\u001b[?25hRequirement already satisfied: numpy in /usr/local/lib/python3.10/dist-packages (from fitz) (1.25.2)\n",
            "Requirement already satisfied: pandas in /usr/local/lib/python3.10/dist-packages (from fitz) (2.0.3)\n",
            "Collecting pyxnat (from fitz)\n",
            "  Downloading pyxnat-1.6.2-py3-none-any.whl (95 kB)\n",
            "\u001b[2K     \u001b[90m━━━━━━━━━━━━━━━━━━━━━━━━━━━━━━━━━━━━━━━━\u001b[0m \u001b[32m95.6/95.6 kB\u001b[0m \u001b[31m7.1 MB/s\u001b[0m eta \u001b[36m0:00:00\u001b[0m\n",
            "\u001b[?25hRequirement already satisfied: scipy in /usr/local/lib/python3.10/dist-packages (from fitz) (1.11.4)\n",
            "Requirement already satisfied: six in /usr/local/lib/python3.10/dist-packages (from configobj->fitz) (1.16.0)\n",
            "Requirement already satisfied: pyparsing!=3.0.0,!=3.0.1,!=3.0.2,!=3.0.3,<4,>=2.4.2 in /usr/local/lib/python3.10/dist-packages (from httplib2->fitz) (3.1.2)\n",
            "Requirement already satisfied: packaging>=17.0 in /usr/local/lib/python3.10/dist-packages (from nibabel->fitz) (24.1)\n",
            "Requirement already satisfied: setuptools in /usr/local/lib/python3.10/dist-packages (from nibabel->fitz) (67.7.2)\n",
            "Requirement already satisfied: click>=6.6.0 in /usr/local/lib/python3.10/dist-packages (from nipype->fitz) (8.1.7)\n",
            "Requirement already satisfied: networkx>=2.0 in /usr/local/lib/python3.10/dist-packages (from nipype->fitz) (3.3)\n",
            "Collecting prov>=1.5.2 (from nipype->fitz)\n",
            "  Downloading prov-2.0.1-py3-none-any.whl (421 kB)\n",
            "\u001b[2K     \u001b[90m━━━━━━━━━━━━━━━━━━━━━━━━━━━━━━━━━━━━━━━━\u001b[0m \u001b[32m421.5/421.5 kB\u001b[0m \u001b[31m13.3 MB/s\u001b[0m eta \u001b[36m0:00:00\u001b[0m\n",
            "\u001b[?25hRequirement already satisfied: pydot>=1.2.3 in /usr/local/lib/python3.10/dist-packages (from nipype->fitz) (1.4.2)\n",
            "Requirement already satisfied: python-dateutil>=2.2 in /usr/local/lib/python3.10/dist-packages (from nipype->fitz) (2.8.2)\n",
            "Collecting rdflib>=5.0.0 (from nipype->fitz)\n",
            "  Downloading rdflib-7.0.0-py3-none-any.whl (531 kB)\n",
            "\u001b[2K     \u001b[90m━━━━━━━━━━━━━━━━━━━━━━━━━━━━━━━━━━━━━━━━\u001b[0m \u001b[32m531.9/531.9 kB\u001b[0m \u001b[31m27.0 MB/s\u001b[0m eta \u001b[36m0:00:00\u001b[0m\n",
            "\u001b[?25hCollecting simplejson>=3.8.0 (from nipype->fitz)\n",
            "  Downloading simplejson-3.19.2-cp310-cp310-manylinux_2_5_x86_64.manylinux1_x86_64.manylinux_2_17_x86_64.manylinux2014_x86_64.whl (137 kB)\n",
            "\u001b[2K     \u001b[90m━━━━━━━━━━━━━━━━━━━━━━━━━━━━━━━━━━━━━━━━\u001b[0m \u001b[32m137.9/137.9 kB\u001b[0m \u001b[31m6.8 MB/s\u001b[0m eta \u001b[36m0:00:00\u001b[0m\n",
            "\u001b[?25hCollecting traits!=5.0,<6.4,>=4.6 (from nipype->fitz)\n",
            "  Downloading traits-6.3.2-cp310-cp310-manylinux_2_5_x86_64.manylinux1_x86_64.manylinux_2_12_x86_64.manylinux2010_x86_64.whl (5.1 MB)\n",
            "\u001b[2K     \u001b[90m━━━━━━━━━━━━━━━━━━━━━━━━━━━━━━━━━━━━━━━━\u001b[0m \u001b[32m5.1/5.1 MB\u001b[0m \u001b[31m55.6 MB/s\u001b[0m eta \u001b[36m0:00:00\u001b[0m\n",
            "\u001b[?25hRequirement already satisfied: filelock>=3.0.0 in /usr/local/lib/python3.10/dist-packages (from nipype->fitz) (3.15.4)\n",
            "Collecting etelemetry>=0.2.0 (from nipype->fitz)\n",
            "  Downloading etelemetry-0.3.1-py3-none-any.whl (6.4 kB)\n",
            "Collecting looseversion (from nipype->fitz)\n",
            "  Downloading looseversion-1.3.0-py2.py3-none-any.whl (8.2 kB)\n",
            "Requirement already satisfied: pytz>=2020.1 in /usr/local/lib/python3.10/dist-packages (from pandas->fitz) (2023.4)\n",
            "Requirement already satisfied: tzdata>=2022.1 in /usr/local/lib/python3.10/dist-packages (from pandas->fitz) (2024.1)\n",
            "Requirement already satisfied: lxml>=4.3 in /usr/local/lib/python3.10/dist-packages (from pyxnat->fitz) (4.9.4)\n",
            "Requirement already satisfied: requests>=2.20 in /usr/local/lib/python3.10/dist-packages (from pyxnat->fitz) (2.31.0)\n",
            "Requirement already satisfied: pathlib>=1.0 in /usr/local/lib/python3.10/dist-packages (from pyxnat->fitz) (1.0.1)\n",
            "Collecting ci-info>=0.2 (from etelemetry>=0.2.0->nipype->fitz)\n",
            "  Downloading ci_info-0.3.0-py3-none-any.whl (7.8 kB)\n",
            "Collecting rdflib>=5.0.0 (from nipype->fitz)\n",
            "  Downloading rdflib-6.3.2-py3-none-any.whl (528 kB)\n",
            "\u001b[2K     \u001b[90m━━━━━━━━━━━━━━━━━━━━━━━━━━━━━━━━━━━━━━━━\u001b[0m \u001b[32m528.1/528.1 kB\u001b[0m \u001b[31m28.4 MB/s\u001b[0m eta \u001b[36m0:00:00\u001b[0m\n",
            "\u001b[?25hCollecting isodate<0.7.0,>=0.6.0 (from rdflib>=5.0.0->nipype->fitz)\n",
            "  Downloading isodate-0.6.1-py2.py3-none-any.whl (41 kB)\n",
            "\u001b[2K     \u001b[90m━━━━━━━━━━━━━━━━━━━━━━━━━━━━━━━━━━━━━━━━\u001b[0m \u001b[32m41.7/41.7 kB\u001b[0m \u001b[31m2.1 MB/s\u001b[0m eta \u001b[36m0:00:00\u001b[0m\n",
            "\u001b[?25hRequirement already satisfied: charset-normalizer<4,>=2 in /usr/local/lib/python3.10/dist-packages (from requests>=2.20->pyxnat->fitz) (3.3.2)\n",
            "Requirement already satisfied: idna<4,>=2.5 in /usr/local/lib/python3.10/dist-packages (from requests>=2.20->pyxnat->fitz) (3.7)\n",
            "Requirement already satisfied: urllib3<3,>=1.21.1 in /usr/local/lib/python3.10/dist-packages (from requests>=2.20->pyxnat->fitz) (2.0.7)\n",
            "Requirement already satisfied: certifi>=2017.4.17 in /usr/local/lib/python3.10/dist-packages (from requests>=2.20->pyxnat->fitz) (2024.7.4)\n",
            "Installing collected packages: looseversion, traits, simplejson, isodate, configparser, configobj, ci-info, rdflib, pyxnat, etelemetry, prov, nipype, fitz\n",
            "Successfully installed ci-info-0.3.0 configobj-5.0.8 configparser-7.0.0 etelemetry-0.3.1 fitz-0.0.1.dev2 isodate-0.6.1 looseversion-1.3.0 nipype-1.8.6 prov-2.0.1 pyxnat-1.6.2 rdflib-6.3.2 simplejson-3.19.2 traits-6.3.2\n",
            "Collecting PyMuPDF\n",
            "  Downloading PyMuPDF-1.24.7-cp310-none-manylinux2014_x86_64.whl (3.5 MB)\n",
            "\u001b[2K     \u001b[90m━━━━━━━━━━━━━━━━━━━━━━━━━━━━━━━━━━━━━━━━\u001b[0m \u001b[32m3.5/3.5 MB\u001b[0m \u001b[31m19.1 MB/s\u001b[0m eta \u001b[36m0:00:00\u001b[0m\n",
            "\u001b[?25hCollecting PyMuPDFb==1.24.6 (from PyMuPDF)\n",
            "  Downloading PyMuPDFb-1.24.6-py3-none-manylinux2014_x86_64.manylinux_2_17_x86_64.whl (15.7 MB)\n",
            "\u001b[2K     \u001b[90m━━━━━━━━━━━━━━━━━━━━━━━━━━━━━━━━━━━━━━━━\u001b[0m \u001b[32m15.7/15.7 MB\u001b[0m \u001b[31m52.9 MB/s\u001b[0m eta \u001b[36m0:00:00\u001b[0m\n",
            "\u001b[?25hInstalling collected packages: PyMuPDFb, PyMuPDF\n",
            "Successfully installed PyMuPDF-1.24.7 PyMuPDFb-1.24.6\n",
            "Collecting convertapi\n",
            "  Downloading convertapi-1.8.0-py2.py3-none-any.whl (7.3 kB)\n",
            "Requirement already satisfied: requests>=2.4.2 in /usr/local/lib/python3.10/dist-packages (from convertapi) (2.31.0)\n",
            "Requirement already satisfied: charset-normalizer<4,>=2 in /usr/local/lib/python3.10/dist-packages (from requests>=2.4.2->convertapi) (3.3.2)\n",
            "Requirement already satisfied: idna<4,>=2.5 in /usr/local/lib/python3.10/dist-packages (from requests>=2.4.2->convertapi) (3.7)\n",
            "Requirement already satisfied: urllib3<3,>=1.21.1 in /usr/local/lib/python3.10/dist-packages (from requests>=2.4.2->convertapi) (2.0.7)\n",
            "Requirement already satisfied: certifi>=2017.4.17 in /usr/local/lib/python3.10/dist-packages (from requests>=2.4.2->convertapi) (2024.7.4)\n",
            "Installing collected packages: convertapi\n",
            "Successfully installed convertapi-1.8.0\n"
          ]
        }
      ],
      "source": [
        "!pip install fitz\n",
        "!pip install PyMuPDF\n",
        "!pip install convertapi"
      ]
    },
    {
      "cell_type": "code",
      "execution_count": null,
      "metadata": {
        "id": "o7NHvi_NBouD"
      },
      "outputs": [],
      "source": [
        "# ! pip install --upgrade --force-reinstall --root-user-action ignore pymupdf"
      ]
    },
    {
      "cell_type": "code",
      "execution_count": null,
      "metadata": {
        "id": "5-TJ3Yu4vA9m"
      },
      "outputs": [],
      "source": [
        "import fitz\n",
        "import pymupdf\n",
        "import os\n",
        "import convertapi\n",
        "import json"
      ]
    },
    {
      "cell_type": "code",
      "execution_count": null,
      "metadata": {
        "id": "x35tpwxPwx98"
      },
      "outputs": [],
      "source": [
        "pdf_path = r\"/content/OurPast_Chapter_1.pdf\"  #---------> Specify the input file\n",
        "new_pdf_path = r\"/content/Translated_OurPast_Chapter1.pdf\" #-----------> Specify the output file"
      ]
    },
    {
      "cell_type": "code",
      "execution_count": null,
      "metadata": {
        "id": "5MhzLvCz2InG"
      },
      "outputs": [],
      "source": [
        "doc = fitz.open()\n",
        "new_doc = fitz.open()"
      ]
    },
    {
      "cell_type": "code",
      "execution_count": null,
      "metadata": {
        "id": "V6bxYsuz2Nw9"
      },
      "outputs": [],
      "source": [
        "if not os.path.exists('/content/images/'):\n",
        "    os.mkdir('/content/images/')"
      ]
    },
    {
      "cell_type": "code",
      "execution_count": null,
      "metadata": {
        "colab": {
          "base_uri": "https://localhost:8080/"
        },
        "id": "DKpye6nU4Qkx",
        "outputId": "6a410ac7-5ebf-442b-9b62-01acc251700c"
      },
      "outputs": [
        {
          "output_type": "stream",
          "name": "stdout",
          "text": [
            "(23, 0, 159, 217, 8, 'DeviceCMYK', '', 'Im0', 'JPXDecode', 0)\n",
            "Image 0 on page 0: Rect(445.9007873535156, 174.948974609375, 522.1007690429688, 278.64886474609375)\n",
            "(59, 0, 993, 944, 8, 'DeviceCMYK', '', 'Im0', 'JPXDecode', 0)\n",
            "Image 0 on page 1: Rect(73.39991760253906, 254.8509521484375, 549.7999267578125, 708.0501098632812)\n",
            "(68, 0, 982, 279, 8, 'DeviceCMYK', '', 'Im0', 'JPXDecode', 0)\n",
            "Image 0 on page 3: Rect(67.3499984741211, 620.2000732421875, 539.3003540039062, 753.7499389648438)\n",
            "(73, 0, 533, 564, 8, 'DeviceCMYK', '', 'Im0', 'JPXDecode', 0)\n",
            "Image 0 on page 4: Rect(196.9000701904297, 338.60009765625, 452.74969482421875, 609.5001220703125)\n",
            "(81, 0, 283, 218, 8, 'DeviceCMYK', '', 'Im2', 'JPXDecode', 0)\n",
            "Image 0 on page 5: Rect(403.6488037109375, 209.80078125, 539.2987060546875, 314.30084228515625)\n",
            "(82, 0, 283, 213, 8, 'DeviceCMYK', '', 'Im1', 'JPXDecode', 0)\n",
            "Image 1 on page 5: Rect(403.6488037109375, 101.69927978515625, 539.2987060546875, 203.69927978515625)\n",
            "(83, 0, 402, 443, 8, 'DeviceCMYK', '', 'Im0', 'JPXDecode', 0)\n",
            "Image 2 on page 5: Rect(205.60006713867188, 101.700927734375, 398.2000732421875, 314.30084228515625)\n",
            "(95, 0, 1383, 731, 1, '', '', 'Im0', 'JBIG2Decode', 0)\n",
            "Image 0 on page 7: Rect(90.8500747680664, 492.75018310546875, 513.9004516601562, 716.3001098632812)\n",
            "(100, 0, 150, 180, 8, 'Indexed', '', 'Im1', 'FlateDecode', 0)\n",
            "Image 0 on page 8: Rect(389.2008056640625, 372.549560546875, 424.80072021484375, 415.2496337890625)\n",
            "(102, 0, 73, 88, 8, 'Indexed', '', 'Im0', 'JPXDecode', 0)\n",
            "An error occurred while extracting image: code=4: pixmap must be grayscale or rgb to write as png\n",
            "(113, 0, 77, 92, 8, 'Indexed', '', 'Im0', 'JPXDecode', 0)\n",
            "An error occurred while extracting image: code=4: pixmap must be grayscale or rgb to write as png\n",
            "(120, 0, 943, 1092, 8, 'DeviceCMYK', '', 'Im0', 'JPXDecode', 0)\n",
            "Image 0 on page 10: Rect(75.7000732421875, 147.6995849609375, 528.450439453125, 671.8499755859375)\n"
          ]
        }
      ],
      "source": [
        "for page_index in range(doc.page_count):\n",
        "    page = doc.load_page(page_index)\n",
        "    # Get the original page\n",
        "    original_page = doc.load_page(page_index)\n",
        "\n",
        "    # Create a new page with the same size as the original page\n",
        "    new_page = new_doc.new_page(width=original_page.rect.width, height=original_page.rect.height)\n",
        "\n",
        "    # Get the list of images on the page\n",
        "    image_list = page.get_images(full=True)\n",
        "\n",
        "    # Iterate through each image and save it in the images folder\n",
        "    for img_index, img in enumerate(image_list):\n",
        "        try:\n",
        "            if img[1] == 0:\n",
        "                print(img)\n",
        "                bbox = page.get_image_bbox(img)\n",
        "                xref = img[0] # get the XREF of the image\n",
        "                pix = pymupdf.Pixmap(doc, xref) # create a Pixmap\n",
        "                if pix.n - pix.alpha > 3: # CMYK: convert to RGB first\n",
        "                    pix = pymupdf.Pixmap(pymupdf.csRGB, pix)\n",
        "                pix.save(f\"images/page{page_index}-image{img_index}.png\") # save the image as png\n",
        "                pix = None\n",
        "                new_page.insert_image(bbox, stream=open(f\"images/page{page_index}-image{img_index}.png\", \"rb\").read())\n",
        "                print(f\"Image {img_index} on page {page_index}: {bbox}\")\n",
        "        except Exception as e:\n",
        "            print(f\"An error occurred while extracting image: {e}\")"
      ]
    },
    {
      "cell_type": "code",
      "execution_count": null,
      "metadata": {
        "id": "1_6LHLe54XTq"
      },
      "outputs": [],
      "source": [
        "new_doc.save(new_pdf_path)\n",
        "new_doc.close()"
      ]
    },
    {
      "cell_type": "code",
      "execution_count": null,
      "metadata": {
        "colab": {
          "base_uri": "https://localhost:8080/"
        },
        "id": "Nu5h-6bmiZhg",
        "outputId": "b990f9b3-e118-4631-b7aa-9ce309dd8c01"
      },
      "outputs": [
        {
          "output_type": "stream",
          "name": "stdout",
          "text": [
            "Cloning into 'indicTrans'...\n",
            "remote: Enumerating objects: 700, done.\u001b[K\n",
            "remote: Counting objects: 100% (403/403), done.\u001b[K\n",
            "remote: Compressing objects: 100% (163/163), done.\u001b[K\n",
            "remote: Total 700 (delta 280), reused 341 (delta 238), pack-reused 297\u001b[K\n",
            "Receiving objects: 100% (700/700), 2.64 MiB | 9.68 MiB/s, done.\n",
            "Resolving deltas: 100% (407/407), done.\n",
            "/content/indicTrans\n",
            "Cloning into 'indic_nlp_library'...\n",
            "remote: Enumerating objects: 1404, done.\u001b[K\n",
            "remote: Counting objects: 100% (185/185), done.\u001b[K\n",
            "remote: Compressing objects: 100% (58/58), done.\u001b[K\n",
            "remote: Total 1404 (delta 139), reused 152 (delta 124), pack-reused 1219\u001b[K\n",
            "Receiving objects: 100% (1404/1404), 9.57 MiB | 10.27 MiB/s, done.\n",
            "Resolving deltas: 100% (749/749), done.\n",
            "Cloning into 'indic_nlp_resources'...\n",
            "remote: Enumerating objects: 139, done.\u001b[K\n",
            "remote: Counting objects: 100% (13/13), done.\u001b[K\n",
            "remote: Compressing objects: 100% (13/13), done.\u001b[K\n",
            "remote: Total 139 (delta 2), reused 2 (delta 0), pack-reused 126\u001b[K\n",
            "Receiving objects: 100% (139/139), 149.77 MiB | 32.49 MiB/s, done.\n",
            "Resolving deltas: 100% (53/53), done.\n",
            "Updating files: 100% (28/28), done.\n",
            "Cloning into 'subword-nmt'...\n",
            "remote: Enumerating objects: 600, done.\u001b[K\n",
            "remote: Counting objects: 100% (24/24), done.\u001b[K\n",
            "remote: Compressing objects: 100% (20/20), done.\u001b[K\n",
            "remote: Total 600 (delta 10), reused 12 (delta 4), pack-reused 576\u001b[K\n",
            "Receiving objects: 100% (600/600), 253.58 KiB | 3.02 MiB/s, done.\n",
            "Resolving deltas: 100% (359/359), done.\n",
            "/content\n",
            "Collecting sacremoses\n",
            "  Downloading sacremoses-0.1.1-py3-none-any.whl (897 kB)\n",
            "\u001b[2K     \u001b[90m━━━━━━━━━━━━━━━━━━━━━━━━━━━━━━━━━━━━━━━━\u001b[0m \u001b[32m897.5/897.5 kB\u001b[0m \u001b[31m4.3 MB/s\u001b[0m eta \u001b[36m0:00:00\u001b[0m\n",
            "\u001b[?25hRequirement already satisfied: pandas in /usr/local/lib/python3.10/dist-packages (2.0.3)\n",
            "Collecting mock\n",
            "  Downloading mock-5.1.0-py3-none-any.whl (30 kB)\n",
            "Collecting sacrebleu\n",
            "  Downloading sacrebleu-2.4.2-py3-none-any.whl (106 kB)\n",
            "\u001b[2K     \u001b[90m━━━━━━━━━━━━━━━━━━━━━━━━━━━━━━━━━━━━━━━━\u001b[0m \u001b[32m106.7/106.7 kB\u001b[0m \u001b[31m13.0 MB/s\u001b[0m eta \u001b[36m0:00:00\u001b[0m\n",
            "\u001b[?25hCollecting tensorboardX\n",
            "  Downloading tensorboardX-2.6.2.2-py2.py3-none-any.whl (101 kB)\n",
            "\u001b[2K     \u001b[90m━━━━━━━━━━━━━━━━━━━━━━━━━━━━━━━━━━━━━━━━\u001b[0m \u001b[32m101.7/101.7 kB\u001b[0m \u001b[31m10.3 MB/s\u001b[0m eta \u001b[36m0:00:00\u001b[0m\n",
            "\u001b[?25hRequirement already satisfied: pyarrow in /usr/local/lib/python3.10/dist-packages (14.0.2)\n",
            "Collecting indic-nlp-library\n",
            "  Downloading indic_nlp_library-0.92-py3-none-any.whl (40 kB)\n",
            "\u001b[2K     \u001b[90m━━━━━━━━━━━━━━━━━━━━━━━━━━━━━━━━━━━━━━━━\u001b[0m \u001b[32m40.3/40.3 kB\u001b[0m \u001b[31m3.6 MB/s\u001b[0m eta \u001b[36m0:00:00\u001b[0m\n",
            "\u001b[?25hRequirement already satisfied: regex in /usr/local/lib/python3.10/dist-packages (from sacremoses) (2024.5.15)\n",
            "Requirement already satisfied: click in /usr/local/lib/python3.10/dist-packages (from sacremoses) (8.1.7)\n",
            "Requirement already satisfied: joblib in /usr/local/lib/python3.10/dist-packages (from sacremoses) (1.4.2)\n",
            "Requirement already satisfied: tqdm in /usr/local/lib/python3.10/dist-packages (from sacremoses) (4.66.4)\n",
            "Requirement already satisfied: python-dateutil>=2.8.2 in /usr/local/lib/python3.10/dist-packages (from pandas) (2.8.2)\n",
            "Requirement already satisfied: pytz>=2020.1 in /usr/local/lib/python3.10/dist-packages (from pandas) (2023.4)\n",
            "Requirement already satisfied: tzdata>=2022.1 in /usr/local/lib/python3.10/dist-packages (from pandas) (2024.1)\n",
            "Requirement already satisfied: numpy>=1.21.0 in /usr/local/lib/python3.10/dist-packages (from pandas) (1.25.2)\n",
            "Collecting portalocker (from sacrebleu)\n",
            "  Downloading portalocker-2.10.0-py3-none-any.whl (18 kB)\n",
            "Requirement already satisfied: tabulate>=0.8.9 in /usr/local/lib/python3.10/dist-packages (from sacrebleu) (0.9.0)\n",
            "Collecting colorama (from sacrebleu)\n",
            "  Downloading colorama-0.4.6-py2.py3-none-any.whl (25 kB)\n",
            "Requirement already satisfied: lxml in /usr/local/lib/python3.10/dist-packages (from sacrebleu) (4.9.4)\n",
            "Requirement already satisfied: packaging in /usr/local/lib/python3.10/dist-packages (from tensorboardX) (24.1)\n",
            "Requirement already satisfied: protobuf>=3.20 in /usr/local/lib/python3.10/dist-packages (from tensorboardX) (3.20.3)\n",
            "Collecting sphinx-argparse (from indic-nlp-library)\n",
            "  Downloading sphinx_argparse-0.4.0-py3-none-any.whl (12 kB)\n",
            "Collecting sphinx-rtd-theme (from indic-nlp-library)\n",
            "  Downloading sphinx_rtd_theme-2.0.0-py2.py3-none-any.whl (2.8 MB)\n",
            "\u001b[2K     \u001b[90m━━━━━━━━━━━━━━━━━━━━━━━━━━━━━━━━━━━━━━━━\u001b[0m \u001b[32m2.8/2.8 MB\u001b[0m \u001b[31m29.0 MB/s\u001b[0m eta \u001b[36m0:00:00\u001b[0m\n",
            "\u001b[?25hCollecting morfessor (from indic-nlp-library)\n",
            "  Downloading Morfessor-2.0.6-py3-none-any.whl (35 kB)\n",
            "Requirement already satisfied: six>=1.5 in /usr/local/lib/python3.10/dist-packages (from python-dateutil>=2.8.2->pandas) (1.16.0)\n",
            "Requirement already satisfied: sphinx>=1.2.0 in /usr/local/lib/python3.10/dist-packages (from sphinx-argparse->indic-nlp-library) (5.0.2)\n",
            "Requirement already satisfied: docutils<0.21 in /usr/local/lib/python3.10/dist-packages (from sphinx-rtd-theme->indic-nlp-library) (0.18.1)\n",
            "Collecting sphinxcontrib-jquery<5,>=4 (from sphinx-rtd-theme->indic-nlp-library)\n",
            "  Downloading sphinxcontrib_jquery-4.1-py2.py3-none-any.whl (121 kB)\n",
            "\u001b[2K     \u001b[90m━━━━━━━━━━━━━━━━━━━━━━━━━━━━━━━━━━━━━━━━\u001b[0m \u001b[32m121.1/121.1 kB\u001b[0m \u001b[31m11.9 MB/s\u001b[0m eta \u001b[36m0:00:00\u001b[0m\n",
            "\u001b[?25hRequirement already satisfied: sphinxcontrib-applehelp in /usr/local/lib/python3.10/dist-packages (from sphinx>=1.2.0->sphinx-argparse->indic-nlp-library) (1.0.8)\n",
            "Requirement already satisfied: sphinxcontrib-devhelp in /usr/local/lib/python3.10/dist-packages (from sphinx>=1.2.0->sphinx-argparse->indic-nlp-library) (1.0.6)\n",
            "Requirement already satisfied: sphinxcontrib-jsmath in /usr/local/lib/python3.10/dist-packages (from sphinx>=1.2.0->sphinx-argparse->indic-nlp-library) (1.0.1)\n",
            "Requirement already satisfied: sphinxcontrib-htmlhelp>=2.0.0 in /usr/local/lib/python3.10/dist-packages (from sphinx>=1.2.0->sphinx-argparse->indic-nlp-library) (2.0.5)\n",
            "Requirement already satisfied: sphinxcontrib-serializinghtml>=1.1.5 in /usr/local/lib/python3.10/dist-packages (from sphinx>=1.2.0->sphinx-argparse->indic-nlp-library) (1.1.10)\n",
            "Requirement already satisfied: sphinxcontrib-qthelp in /usr/local/lib/python3.10/dist-packages (from sphinx>=1.2.0->sphinx-argparse->indic-nlp-library) (1.0.7)\n",
            "Requirement already satisfied: Jinja2>=2.3 in /usr/local/lib/python3.10/dist-packages (from sphinx>=1.2.0->sphinx-argparse->indic-nlp-library) (3.1.4)\n",
            "Requirement already satisfied: Pygments>=2.0 in /usr/local/lib/python3.10/dist-packages (from sphinx>=1.2.0->sphinx-argparse->indic-nlp-library) (2.16.1)\n",
            "Requirement already satisfied: snowballstemmer>=1.1 in /usr/local/lib/python3.10/dist-packages (from sphinx>=1.2.0->sphinx-argparse->indic-nlp-library) (2.2.0)\n",
            "Requirement already satisfied: babel>=1.3 in /usr/local/lib/python3.10/dist-packages (from sphinx>=1.2.0->sphinx-argparse->indic-nlp-library) (2.15.0)\n",
            "Requirement already satisfied: alabaster<0.8,>=0.7 in /usr/local/lib/python3.10/dist-packages (from sphinx>=1.2.0->sphinx-argparse->indic-nlp-library) (0.7.16)\n",
            "Requirement already satisfied: imagesize in /usr/local/lib/python3.10/dist-packages (from sphinx>=1.2.0->sphinx-argparse->indic-nlp-library) (1.4.1)\n",
            "Requirement already satisfied: requests>=2.5.0 in /usr/local/lib/python3.10/dist-packages (from sphinx>=1.2.0->sphinx-argparse->indic-nlp-library) (2.31.0)\n",
            "Requirement already satisfied: MarkupSafe>=2.0 in /usr/local/lib/python3.10/dist-packages (from Jinja2>=2.3->sphinx>=1.2.0->sphinx-argparse->indic-nlp-library) (2.1.5)\n",
            "Requirement already satisfied: charset-normalizer<4,>=2 in /usr/local/lib/python3.10/dist-packages (from requests>=2.5.0->sphinx>=1.2.0->sphinx-argparse->indic-nlp-library) (3.3.2)\n",
            "Requirement already satisfied: idna<4,>=2.5 in /usr/local/lib/python3.10/dist-packages (from requests>=2.5.0->sphinx>=1.2.0->sphinx-argparse->indic-nlp-library) (3.7)\n",
            "Requirement already satisfied: urllib3<3,>=1.21.1 in /usr/local/lib/python3.10/dist-packages (from requests>=2.5.0->sphinx>=1.2.0->sphinx-argparse->indic-nlp-library) (2.0.7)\n",
            "Requirement already satisfied: certifi>=2017.4.17 in /usr/local/lib/python3.10/dist-packages (from requests>=2.5.0->sphinx>=1.2.0->sphinx-argparse->indic-nlp-library) (2024.7.4)\n",
            "Installing collected packages: morfessor, tensorboardX, sacremoses, portalocker, mock, colorama, sacrebleu, sphinxcontrib-jquery, sphinx-argparse, sphinx-rtd-theme, indic-nlp-library\n",
            "Successfully installed colorama-0.4.6 indic-nlp-library-0.92 mock-5.1.0 morfessor-2.0.6 portalocker-2.10.0 sacrebleu-2.4.2 sacremoses-0.1.1 sphinx-argparse-0.4.0 sphinx-rtd-theme-2.0.0 sphinxcontrib-jquery-4.1 tensorboardX-2.6.2.2\n",
            "Collecting mosestokenizer\n",
            "  Downloading mosestokenizer-1.2.1.tar.gz (37 kB)\n",
            "  Preparing metadata (setup.py) ... \u001b[?25l\u001b[?25hdone\n",
            "Collecting subword-nmt\n",
            "  Downloading subword_nmt-0.3.8-py3-none-any.whl (27 kB)\n",
            "Collecting docopt (from mosestokenizer)\n",
            "  Downloading docopt-0.6.2.tar.gz (25 kB)\n",
            "  Preparing metadata (setup.py) ... \u001b[?25l\u001b[?25hdone\n",
            "Collecting openfile (from mosestokenizer)\n",
            "  Downloading openfile-0.0.7-py3-none-any.whl (2.4 kB)\n",
            "Collecting uctools (from mosestokenizer)\n",
            "  Downloading uctools-1.3.0.tar.gz (4.6 kB)\n",
            "  Preparing metadata (setup.py) ... \u001b[?25l\u001b[?25hdone\n",
            "Collecting toolwrapper (from mosestokenizer)\n",
            "  Downloading toolwrapper-2.1.0.tar.gz (3.2 kB)\n",
            "  Preparing metadata (setup.py) ... \u001b[?25l\u001b[?25hdone\n",
            "Requirement already satisfied: mock in /usr/local/lib/python3.10/dist-packages (from subword-nmt) (5.1.0)\n",
            "Requirement already satisfied: tqdm in /usr/local/lib/python3.10/dist-packages (from subword-nmt) (4.66.4)\n",
            "Building wheels for collected packages: mosestokenizer, docopt, toolwrapper, uctools\n",
            "  Building wheel for mosestokenizer (setup.py) ... \u001b[?25l\u001b[?25hdone\n",
            "  Created wheel for mosestokenizer: filename=mosestokenizer-1.2.1-py3-none-any.whl size=49171 sha256=8a4b96970963419637ad5e48580df04e2f4552766f2a342002709ac4a6593d3b\n",
            "  Stored in directory: /root/.cache/pip/wheels/80/d8/15/4c5ebbe883513f003cb055a0369c77c9df857023a706f39e70\n",
            "  Building wheel for docopt (setup.py) ... \u001b[?25l\u001b[?25hdone\n",
            "  Created wheel for docopt: filename=docopt-0.6.2-py2.py3-none-any.whl size=13706 sha256=2d81f47de898a4fedd8b551020c313c6cdcb15e08b6f74496c0e7ee8a37a3d87\n",
            "  Stored in directory: /root/.cache/pip/wheels/fc/ab/d4/5da2067ac95b36618c629a5f93f809425700506f72c9732fac\n",
            "  Building wheel for toolwrapper (setup.py) ... \u001b[?25l\u001b[?25hdone\n",
            "  Created wheel for toolwrapper: filename=toolwrapper-2.1.0-py3-none-any.whl size=3336 sha256=f61ea13672ea7745e4bc0f2c51eaea75e4422c4baa6685275d04a9e6972217e5\n",
            "  Stored in directory: /root/.cache/pip/wheels/e1/af/b1/99b57a06dda78fdcee86d2e22c64743f3b8df8f31cfc04baf7\n",
            "  Building wheel for uctools (setup.py) ... \u001b[?25l\u001b[?25hdone\n",
            "  Created wheel for uctools: filename=uctools-1.3.0-py3-none-any.whl size=6146 sha256=e30458eed73afeef3c16406e8db4524d8684c71809736af43fad12bde5b54992\n",
            "  Stored in directory: /root/.cache/pip/wheels/05/ee/10/33257b0801ac6a912c841939032c16da1eb3db377afe1443e5\n",
            "Successfully built mosestokenizer docopt toolwrapper uctools\n",
            "Installing collected packages: toolwrapper, openfile, docopt, uctools, subword-nmt, mosestokenizer\n",
            "Successfully installed docopt-0.6.2 mosestokenizer-1.2.1 openfile-0.0.7 subword-nmt-0.3.8 toolwrapper-2.1.0 uctools-1.3.0\n",
            "Cloning into 'fairseq'...\n",
            "remote: Enumerating objects: 35203, done.\u001b[K\n",
            "remote: Counting objects: 100% (120/120), done.\u001b[K\n",
            "remote: Compressing objects: 100% (72/72), done.\u001b[K\n",
            "remote: Total 35203 (delta 66), reused 80 (delta 48), pack-reused 35083\u001b[K\n",
            "Receiving objects: 100% (35203/35203), 25.23 MiB | 22.42 MiB/s, done.\n",
            "Resolving deltas: 100% (25556/25556), done.\n",
            "/content/fairseq\n",
            "Processing /content/fairseq\n",
            "  Installing build dependencies ... \u001b[?25l\u001b[?25hdone\n",
            "  Getting requirements to build wheel ... \u001b[?25l\u001b[?25hdone\n",
            "  Preparing metadata (pyproject.toml) ... \u001b[?25l\u001b[?25hdone\n",
            "Requirement already satisfied: cffi in /usr/local/lib/python3.10/dist-packages (from fairseq==0.12.2) (1.16.0)\n",
            "Requirement already satisfied: cython in /usr/local/lib/python3.10/dist-packages (from fairseq==0.12.2) (3.0.10)\n",
            "Collecting hydra-core<1.1,>=1.0.7 (from fairseq==0.12.2)\n",
            "  Downloading hydra_core-1.0.7-py3-none-any.whl (123 kB)\n",
            "\u001b[2K     \u001b[90m━━━━━━━━━━━━━━━━━━━━━━━━━━━━━━━━━━━━━━━━\u001b[0m \u001b[32m123.8/123.8 kB\u001b[0m \u001b[31m1.2 MB/s\u001b[0m eta \u001b[36m0:00:00\u001b[0m\n",
            "\u001b[?25hCollecting omegaconf<2.1 (from fairseq==0.12.2)\n",
            "  Downloading omegaconf-2.0.6-py3-none-any.whl (36 kB)\n",
            "Requirement already satisfied: numpy>=1.21.3 in /usr/local/lib/python3.10/dist-packages (from fairseq==0.12.2) (1.25.2)\n",
            "Requirement already satisfied: regex in /usr/local/lib/python3.10/dist-packages (from fairseq==0.12.2) (2024.5.15)\n",
            "Requirement already satisfied: sacrebleu>=1.4.12 in /usr/local/lib/python3.10/dist-packages (from fairseq==0.12.2) (2.4.2)\n",
            "Requirement already satisfied: torch>=1.13 in /usr/local/lib/python3.10/dist-packages (from fairseq==0.12.2) (2.3.0+cu121)\n",
            "Requirement already satisfied: tqdm in /usr/local/lib/python3.10/dist-packages (from fairseq==0.12.2) (4.66.4)\n",
            "Collecting bitarray (from fairseq==0.12.2)\n",
            "  Downloading bitarray-2.9.2-cp310-cp310-manylinux_2_17_x86_64.manylinux2014_x86_64.whl (288 kB)\n",
            "\u001b[2K     \u001b[90m━━━━━━━━━━━━━━━━━━━━━━━━━━━━━━━━━━━━━━━━\u001b[0m \u001b[32m288.3/288.3 kB\u001b[0m \u001b[31m4.9 MB/s\u001b[0m eta \u001b[36m0:00:00\u001b[0m\n",
            "\u001b[?25hRequirement already satisfied: torchaudio>=0.8.0 in /usr/local/lib/python3.10/dist-packages (from fairseq==0.12.2) (2.3.0+cu121)\n",
            "Requirement already satisfied: scikit-learn in /usr/local/lib/python3.10/dist-packages (from fairseq==0.12.2) (1.2.2)\n",
            "Requirement already satisfied: packaging in /usr/local/lib/python3.10/dist-packages (from fairseq==0.12.2) (24.1)\n",
            "Collecting antlr4-python3-runtime==4.8 (from hydra-core<1.1,>=1.0.7->fairseq==0.12.2)\n",
            "  Downloading antlr4-python3-runtime-4.8.tar.gz (112 kB)\n",
            "\u001b[2K     \u001b[90m━━━━━━━━━━━━━━━━━━━━━━━━━━━━━━━━━━━━━━━━\u001b[0m \u001b[32m112.4/112.4 kB\u001b[0m \u001b[31m9.3 MB/s\u001b[0m eta \u001b[36m0:00:00\u001b[0m\n",
            "\u001b[?25h  Preparing metadata (setup.py) ... \u001b[?25l\u001b[?25hdone\n",
            "Requirement already satisfied: PyYAML>=5.1.* in /usr/local/lib/python3.10/dist-packages (from omegaconf<2.1->fairseq==0.12.2) (6.0.1)\n",
            "Requirement already satisfied: typing-extensions in /usr/local/lib/python3.10/dist-packages (from omegaconf<2.1->fairseq==0.12.2) (4.12.2)\n",
            "Requirement already satisfied: portalocker in /usr/local/lib/python3.10/dist-packages (from sacrebleu>=1.4.12->fairseq==0.12.2) (2.10.0)\n",
            "Requirement already satisfied: tabulate>=0.8.9 in /usr/local/lib/python3.10/dist-packages (from sacrebleu>=1.4.12->fairseq==0.12.2) (0.9.0)\n",
            "Requirement already satisfied: colorama in /usr/local/lib/python3.10/dist-packages (from sacrebleu>=1.4.12->fairseq==0.12.2) (0.4.6)\n",
            "Requirement already satisfied: lxml in /usr/local/lib/python3.10/dist-packages (from sacrebleu>=1.4.12->fairseq==0.12.2) (4.9.4)\n",
            "Requirement already satisfied: filelock in /usr/local/lib/python3.10/dist-packages (from torch>=1.13->fairseq==0.12.2) (3.15.4)\n",
            "Requirement already satisfied: sympy in /usr/local/lib/python3.10/dist-packages (from torch>=1.13->fairseq==0.12.2) (1.13.0)\n",
            "Requirement already satisfied: networkx in /usr/local/lib/python3.10/dist-packages (from torch>=1.13->fairseq==0.12.2) (3.3)\n",
            "Requirement already satisfied: jinja2 in /usr/local/lib/python3.10/dist-packages (from torch>=1.13->fairseq==0.12.2) (3.1.4)\n",
            "Requirement already satisfied: fsspec in /usr/local/lib/python3.10/dist-packages (from torch>=1.13->fairseq==0.12.2) (2023.6.0)\n",
            "Collecting nvidia-cuda-nvrtc-cu12==12.1.105 (from torch>=1.13->fairseq==0.12.2)\n",
            "  Using cached nvidia_cuda_nvrtc_cu12-12.1.105-py3-none-manylinux1_x86_64.whl (23.7 MB)\n",
            "Collecting nvidia-cuda-runtime-cu12==12.1.105 (from torch>=1.13->fairseq==0.12.2)\n",
            "  Using cached nvidia_cuda_runtime_cu12-12.1.105-py3-none-manylinux1_x86_64.whl (823 kB)\n",
            "Collecting nvidia-cuda-cupti-cu12==12.1.105 (from torch>=1.13->fairseq==0.12.2)\n",
            "  Using cached nvidia_cuda_cupti_cu12-12.1.105-py3-none-manylinux1_x86_64.whl (14.1 MB)\n",
            "Collecting nvidia-cudnn-cu12==8.9.2.26 (from torch>=1.13->fairseq==0.12.2)\n",
            "  Using cached nvidia_cudnn_cu12-8.9.2.26-py3-none-manylinux1_x86_64.whl (731.7 MB)\n",
            "Collecting nvidia-cublas-cu12==12.1.3.1 (from torch>=1.13->fairseq==0.12.2)\n",
            "  Using cached nvidia_cublas_cu12-12.1.3.1-py3-none-manylinux1_x86_64.whl (410.6 MB)\n",
            "Collecting nvidia-cufft-cu12==11.0.2.54 (from torch>=1.13->fairseq==0.12.2)\n",
            "  Using cached nvidia_cufft_cu12-11.0.2.54-py3-none-manylinux1_x86_64.whl (121.6 MB)\n",
            "Collecting nvidia-curand-cu12==10.3.2.106 (from torch>=1.13->fairseq==0.12.2)\n",
            "  Using cached nvidia_curand_cu12-10.3.2.106-py3-none-manylinux1_x86_64.whl (56.5 MB)\n",
            "Collecting nvidia-cusolver-cu12==11.4.5.107 (from torch>=1.13->fairseq==0.12.2)\n",
            "  Using cached nvidia_cusolver_cu12-11.4.5.107-py3-none-manylinux1_x86_64.whl (124.2 MB)\n",
            "Collecting nvidia-cusparse-cu12==12.1.0.106 (from torch>=1.13->fairseq==0.12.2)\n",
            "  Using cached nvidia_cusparse_cu12-12.1.0.106-py3-none-manylinux1_x86_64.whl (196.0 MB)\n",
            "Collecting nvidia-nccl-cu12==2.20.5 (from torch>=1.13->fairseq==0.12.2)\n",
            "  Using cached nvidia_nccl_cu12-2.20.5-py3-none-manylinux2014_x86_64.whl (176.2 MB)\n",
            "Collecting nvidia-nvtx-cu12==12.1.105 (from torch>=1.13->fairseq==0.12.2)\n",
            "  Using cached nvidia_nvtx_cu12-12.1.105-py3-none-manylinux1_x86_64.whl (99 kB)\n",
            "Requirement already satisfied: triton==2.3.0 in /usr/local/lib/python3.10/dist-packages (from torch>=1.13->fairseq==0.12.2) (2.3.0)\n",
            "Collecting nvidia-nvjitlink-cu12 (from nvidia-cusolver-cu12==11.4.5.107->torch>=1.13->fairseq==0.12.2)\n",
            "  Using cached nvidia_nvjitlink_cu12-12.5.82-py3-none-manylinux2014_x86_64.whl (21.3 MB)\n",
            "Requirement already satisfied: pycparser in /usr/local/lib/python3.10/dist-packages (from cffi->fairseq==0.12.2) (2.22)\n",
            "Requirement already satisfied: scipy>=1.3.2 in /usr/local/lib/python3.10/dist-packages (from scikit-learn->fairseq==0.12.2) (1.11.4)\n",
            "Requirement already satisfied: joblib>=1.1.1 in /usr/local/lib/python3.10/dist-packages (from scikit-learn->fairseq==0.12.2) (1.4.2)\n",
            "Requirement already satisfied: threadpoolctl>=2.0.0 in /usr/local/lib/python3.10/dist-packages (from scikit-learn->fairseq==0.12.2) (3.5.0)\n",
            "Requirement already satisfied: MarkupSafe>=2.0 in /usr/local/lib/python3.10/dist-packages (from jinja2->torch>=1.13->fairseq==0.12.2) (2.1.5)\n",
            "Requirement already satisfied: mpmath<1.4,>=1.1.0 in /usr/local/lib/python3.10/dist-packages (from sympy->torch>=1.13->fairseq==0.12.2) (1.3.0)\n",
            "Building wheels for collected packages: fairseq, antlr4-python3-runtime\n",
            "  Building wheel for fairseq (pyproject.toml) ... \u001b[?25l\u001b[?25hdone\n",
            "  Created wheel for fairseq: filename=fairseq-0.12.2-cp310-cp310-linux_x86_64.whl size=19926396 sha256=85873a702d5c974162a618e998010bbd302e46e6c96aad4686fe542fafa5db93\n",
            "  Stored in directory: /tmp/pip-ephem-wheel-cache-r2pogerw/wheels/c6/d7/db/bc419b1daa8266aa8de2a7c4d29f62dbfa814e8701fe4695a2\n",
            "  Building wheel for antlr4-python3-runtime (setup.py) ... \u001b[?25l\u001b[?25hdone\n",
            "  Created wheel for antlr4-python3-runtime: filename=antlr4_python3_runtime-4.8-py3-none-any.whl size=141211 sha256=1f2458f86b2cbb7e896f4d90fd50216a2f7a920f1829df7ddd62239f34c1f1be\n",
            "  Stored in directory: /root/.cache/pip/wheels/a7/20/bd/e1477d664f22d99989fd28ee1a43d6633dddb5cb9e801350d5\n",
            "Successfully built fairseq antlr4-python3-runtime\n",
            "Installing collected packages: bitarray, antlr4-python3-runtime, omegaconf, nvidia-nvtx-cu12, nvidia-nvjitlink-cu12, nvidia-nccl-cu12, nvidia-curand-cu12, nvidia-cufft-cu12, nvidia-cuda-runtime-cu12, nvidia-cuda-nvrtc-cu12, nvidia-cuda-cupti-cu12, nvidia-cublas-cu12, nvidia-cusparse-cu12, nvidia-cudnn-cu12, hydra-core, nvidia-cusolver-cu12, fairseq\n",
            "Successfully installed antlr4-python3-runtime-4.8 bitarray-2.9.2 fairseq-0.12.2 hydra-core-1.0.7 nvidia-cublas-cu12-12.1.3.1 nvidia-cuda-cupti-cu12-12.1.105 nvidia-cuda-nvrtc-cu12-12.1.105 nvidia-cuda-runtime-cu12-12.1.105 nvidia-cudnn-cu12-8.9.2.26 nvidia-cufft-cu12-11.0.2.54 nvidia-curand-cu12-10.3.2.106 nvidia-cusolver-cu12-11.4.5.107 nvidia-cusparse-cu12-12.1.0.106 nvidia-nccl-cu12-2.20.5 nvidia-nvjitlink-cu12-12.5.82 nvidia-nvtx-cu12-12.1.105 omegaconf-2.0.6\n",
            "Collecting xformers\n",
            "  Downloading xformers-0.0.27-cp310-cp310-manylinux2014_x86_64.whl (164.1 MB)\n",
            "\u001b[2K     \u001b[90m━━━━━━━━━━━━━━━━━━━━━━━━━━━━━━━━━━━━━━━━\u001b[0m \u001b[32m164.1/164.1 MB\u001b[0m \u001b[31m2.1 MB/s\u001b[0m eta \u001b[36m0:00:00\u001b[0m\n",
            "\u001b[?25hRequirement already satisfied: numpy in /usr/local/lib/python3.10/dist-packages (from xformers) (1.25.2)\n",
            "Collecting torch==2.3.1 (from xformers)\n",
            "  Using cached torch-2.3.1-cp310-cp310-manylinux1_x86_64.whl (779.1 MB)\n",
            "Requirement already satisfied: filelock in /usr/local/lib/python3.10/dist-packages (from torch==2.3.1->xformers) (3.15.4)\n",
            "Requirement already satisfied: typing-extensions>=4.8.0 in /usr/local/lib/python3.10/dist-packages (from torch==2.3.1->xformers) (4.12.2)\n",
            "Requirement already satisfied: sympy in /usr/local/lib/python3.10/dist-packages (from torch==2.3.1->xformers) (1.13.0)\n",
            "Requirement already satisfied: networkx in /usr/local/lib/python3.10/dist-packages (from torch==2.3.1->xformers) (3.3)\n",
            "Requirement already satisfied: jinja2 in /usr/local/lib/python3.10/dist-packages (from torch==2.3.1->xformers) (3.1.4)\n",
            "Requirement already satisfied: fsspec in /usr/local/lib/python3.10/dist-packages (from torch==2.3.1->xformers) (2023.6.0)\n",
            "Requirement already satisfied: nvidia-cuda-nvrtc-cu12==12.1.105 in /usr/local/lib/python3.10/dist-packages (from torch==2.3.1->xformers) (12.1.105)\n",
            "Requirement already satisfied: nvidia-cuda-runtime-cu12==12.1.105 in /usr/local/lib/python3.10/dist-packages (from torch==2.3.1->xformers) (12.1.105)\n",
            "Requirement already satisfied: nvidia-cuda-cupti-cu12==12.1.105 in /usr/local/lib/python3.10/dist-packages (from torch==2.3.1->xformers) (12.1.105)\n",
            "Requirement already satisfied: nvidia-cudnn-cu12==8.9.2.26 in /usr/local/lib/python3.10/dist-packages (from torch==2.3.1->xformers) (8.9.2.26)\n",
            "Requirement already satisfied: nvidia-cublas-cu12==12.1.3.1 in /usr/local/lib/python3.10/dist-packages (from torch==2.3.1->xformers) (12.1.3.1)\n",
            "Requirement already satisfied: nvidia-cufft-cu12==11.0.2.54 in /usr/local/lib/python3.10/dist-packages (from torch==2.3.1->xformers) (11.0.2.54)\n",
            "Requirement already satisfied: nvidia-curand-cu12==10.3.2.106 in /usr/local/lib/python3.10/dist-packages (from torch==2.3.1->xformers) (10.3.2.106)\n",
            "Requirement already satisfied: nvidia-cusolver-cu12==11.4.5.107 in /usr/local/lib/python3.10/dist-packages (from torch==2.3.1->xformers) (11.4.5.107)\n",
            "Requirement already satisfied: nvidia-cusparse-cu12==12.1.0.106 in /usr/local/lib/python3.10/dist-packages (from torch==2.3.1->xformers) (12.1.0.106)\n",
            "Requirement already satisfied: nvidia-nccl-cu12==2.20.5 in /usr/local/lib/python3.10/dist-packages (from torch==2.3.1->xformers) (2.20.5)\n",
            "Requirement already satisfied: nvidia-nvtx-cu12==12.1.105 in /usr/local/lib/python3.10/dist-packages (from torch==2.3.1->xformers) (12.1.105)\n",
            "Collecting triton==2.3.1 (from torch==2.3.1->xformers)\n",
            "  Using cached triton-2.3.1-cp310-cp310-manylinux_2_17_x86_64.manylinux2014_x86_64.whl (168.1 MB)\n",
            "Requirement already satisfied: nvidia-nvjitlink-cu12 in /usr/local/lib/python3.10/dist-packages (from nvidia-cusolver-cu12==11.4.5.107->torch==2.3.1->xformers) (12.5.82)\n",
            "Requirement already satisfied: MarkupSafe>=2.0 in /usr/local/lib/python3.10/dist-packages (from jinja2->torch==2.3.1->xformers) (2.1.5)\n",
            "Requirement already satisfied: mpmath<1.4,>=1.1.0 in /usr/local/lib/python3.10/dist-packages (from sympy->torch==2.3.1->xformers) (1.3.0)\n",
            "Installing collected packages: triton, torch, xformers\n",
            "  Attempting uninstall: triton\n",
            "    Found existing installation: triton 2.3.0\n",
            "    Uninstalling triton-2.3.0:\n",
            "      Successfully uninstalled triton-2.3.0\n",
            "  Attempting uninstall: torch\n",
            "    Found existing installation: torch 2.3.0+cu121\n",
            "    Uninstalling torch-2.3.0+cu121:\n",
            "      Successfully uninstalled torch-2.3.0+cu121\n",
            "\u001b[31mERROR: pip's dependency resolver does not currently take into account all the packages that are installed. This behaviour is the source of the following dependency conflicts.\n",
            "torchaudio 2.3.0+cu121 requires torch==2.3.0, but you have torch 2.3.1 which is incompatible.\n",
            "torchvision 0.18.0+cu121 requires torch==2.3.0, but you have torch 2.3.1 which is incompatible.\u001b[0m\u001b[31m\n",
            "\u001b[0mSuccessfully installed torch-2.3.1 triton-2.3.1 xformers-0.0.27\n",
            "/content\n",
            "--2024-07-13 22:39:46--  https://ai4b-public-nlu-nlg.objectstore.e2enetworks.net/en2indic.zip\n",
            "Resolving ai4b-public-nlu-nlg.objectstore.e2enetworks.net (ai4b-public-nlu-nlg.objectstore.e2enetworks.net)... 101.53.136.18, 164.52.210.58, 164.52.210.97, ...\n",
            "Connecting to ai4b-public-nlu-nlg.objectstore.e2enetworks.net (ai4b-public-nlu-nlg.objectstore.e2enetworks.net)|101.53.136.18|:443... connected.\n",
            "HTTP request sent, awaiting response... 200 OK\n",
            "Length: 4811880516 (4.5G) [application/zip]\n",
            "Saving to: ‘en2indic.zip’\n",
            "\n",
            "en2indic.zip        100%[===================>]   4.48G  9.97MB/s    in 7m 55s  \n",
            "\n",
            "2024-07-13 22:47:43 (9.66 MB/s) - ‘en2indic.zip’ saved [4811880516/4811880516]\n",
            "\n",
            "Archive:  en2indic.zip\n",
            "   creating: en-indic/\n",
            "   creating: en-indic/vocab/\n",
            "  inflating: en-indic/vocab/bpe_codes.32k.SRC  \n",
            "  inflating: en-indic/vocab/vocab.SRC  \n",
            "  inflating: en-indic/vocab/vocab.TGT  \n",
            "  inflating: en-indic/vocab/bpe_codes.32k.TGT  \n",
            "   creating: en-indic/final_bin/\n",
            "  inflating: en-indic/final_bin/preprocess.log  \n",
            "  inflating: en-indic/final_bin/dict.TGT.txt  \n",
            "  inflating: en-indic/final_bin/test.SRC-TGT.SRC.idx  \n",
            "  inflating: en-indic/final_bin/test.SRC-TGT.TGT.idx  \n",
            "  inflating: en-indic/final_bin/train.SRC-TGT.SRC.idx  \n",
            "  inflating: en-indic/final_bin/dict.SRC.txt  \n",
            "  inflating: en-indic/final_bin/valid.SRC-TGT.TGT.idx  \n",
            "  inflating: en-indic/final_bin/test.SRC-TGT.TGT.bin  \n",
            "  inflating: en-indic/final_bin/valid.SRC-TGT.TGT.bin  \n",
            "  inflating: en-indic/final_bin/train.SRC-TGT.TGT.idx  \n",
            "  inflating: en-indic/final_bin/train.SRC-TGT.TGT.bin  \n",
            "  inflating: en-indic/final_bin/valid.SRC-TGT.SRC.idx  \n",
            "  inflating: en-indic/final_bin/train.SRC-TGT.SRC.bin  \n",
            "  inflating: en-indic/final_bin/valid.SRC-TGT.SRC.bin  \n",
            "  inflating: en-indic/final_bin/test.SRC-TGT.SRC.bin  \n",
            "   creating: en-indic/model/\n",
            "  inflating: en-indic/model/checkpoint_best.pt  \n",
            "/content/indicTrans\n"
          ]
        },
        {
          "output_type": "stream",
          "name": "stderr",
          "text": [
            "WARNING:xformers:Triton is not available, some optimizations will not be enabled.\n",
            "This is just a warning: triton is not available\n"
          ]
        },
        {
          "output_type": "stream",
          "name": "stdout",
          "text": [
            "Initializing vocab and bpe\n",
            "Initializing model for translation\n"
          ]
        }
      ],
      "source": [
        "# clone the repo for running evaluation\n",
        "!git clone https://github.com/AI4Bharat/indicTrans.git\n",
        "%cd indicTrans\n",
        "# clone requirements repositories\n",
        "!git clone https://github.com/anoopkunchukuttan/indic_nlp_library.git\n",
        "!git clone https://github.com/anoopkunchukuttan/indic_nlp_resources.git\n",
        "!git clone https://github.com/rsennrich/subword-nmt.git\n",
        "%cd ..\n",
        "# Install requirements\n",
        "!pip install sacremoses pandas mock sacrebleu tensorboardX pyarrow indic-nlp-library\n",
        "!pip install mosestokenizer subword-nmt\n",
        "# Install fairseq from source\n",
        "!git clone https://github.com/pytorch/fairseq.git\n",
        "%cd fairseq\n",
        "# xformers\n",
        "!pip install ./\n",
        "! pip install xformers\n",
        "%cd ..\n",
        "# download the en2indic model\n",
        "!wget https://ai4b-public-nlu-nlg.objectstore.e2enetworks.net/en2indic.zip\n",
        "!unzip en2indic.zip\n",
        "%cd indicTrans\n",
        "# add fairseq folder to python path\n",
        "import os\n",
        "os.environ['PYTHONPATH'] += \":/content/fairseq/\"\n",
        "# sanity check to see if fairseq is installed\n",
        "from fairseq import checkpoint_utils, distributed_utils, options, tasks, utils\n",
        "from indicTrans.inference.engine import Model\n",
        "en2indic_model = Model(expdir='../en-indic')"
      ]
    },
    {
      "cell_type": "code",
      "execution_count": null,
      "metadata": {
        "id": "ZZ79obB74oL8"
      },
      "outputs": [],
      "source": [
        "def translate_text(text, dest_language='kn'):  # Change 'kn' to your desired language code\n",
        "    try:\n",
        "        translated = en2indic_model.translate_paragraph(text, 'en', dest_language)\n",
        "        print(\"Translated:\", translated)\n",
        "        return translated\n",
        "    except Exception as e:\n",
        "        print(f\"Error in translation: {e}\")\n",
        "        return text"
      ]
    },
    {
      "cell_type": "code",
      "source": [
        "# Define the path to the output JSON file\n",
        "output_json_path = r\"extracted_text_with_coordinates.json\"\n",
        "\n",
        "# Dictionary to store text with coordinates and character count\n",
        "extracted_data = {}\n",
        "\n",
        "# Create a document object\n",
        "doc = fitz.open(pdf_path)\n",
        "\n",
        "# Extract the number of pages\n",
        "#print(f\"Number of pages: {doc.page_count}\")\n",
        "\n",
        "# Extract metadata\n",
        "#print(\"Metadata:\", doc.metadata)\n",
        "\n",
        "# Iterate through all pages\n",
        "for i in range(doc.page_count):\n",
        "    # Get the page\n",
        "    page = doc.load_page(i)  # or page = doc[i]\n",
        "\n",
        "    # Extract text blocks from the page\n",
        "    blocks = page.get_text(\"dict\", flags=11)[\"blocks\"]\n",
        "\n",
        "    blocks1 = page.get_text(\"blocks\")\n",
        "\n",
        "    # List to store text and coordinates for the current page\n",
        "    page_data = []\n",
        "\n",
        "\n",
        "\n",
        "    for b in blocks:\n",
        "        bbox = b[\"bbox\"]\n",
        "        for l in b[\"lines\"]:  # iterate through the text lines\n",
        "            for s in l[\"spans\"]:  # iterate through the text spans\n",
        "                #text = s[\"text\"]\n",
        "                #origin = s[\"origin\"]\n",
        "                font_size = s[\"size\"]\n",
        "                #character_count = len(text)\n",
        "\n",
        "        # Append to the result\n",
        "        page_data.append({\n",
        "            \"coordinates\": bbox,\n",
        "            #\"text\": text,\n",
        "            #\"IniCharacter_count\": character_count,\n",
        "            \"IniFontsize\": font_size,\n",
        "        })\n",
        "\n",
        "    # Add the page data to the extracted data dictionary\n",
        "    extracted_data[i+1] = page_data\n",
        "\n",
        "# Save the extracted data to a JSON file\n",
        "with open(output_json_path, \"w\", encoding=\"utf-8\") as json_file:\n",
        "    json.dump(extracted_data, json_file, ensure_ascii=False, indent=4)\n"
      ],
      "metadata": {
        "id": "jl3zqt2GXEjJ"
      },
      "execution_count": null,
      "outputs": []
    },
    {
      "cell_type": "code",
      "source": [
        "# Define the path to the output JSON file\n",
        "json_path = r\"extracted_text_with_coordinates.json\""
      ],
      "metadata": {
        "id": "JXTHHnn61E2t"
      },
      "execution_count": null,
      "outputs": []
    },
    {
      "cell_type": "code",
      "execution_count": null,
      "metadata": {
        "colab": {
          "base_uri": "https://localhost:8080/"
        },
        "id": "jYFCel1m4uLr",
        "outputId": "f98337da-0ad9-4505-e623-4fec427eb040"
      },
      "outputs": [
        {
          "metadata": {
            "tags": null
          },
          "name": "stderr",
          "output_type": "stream",
          "text": [
            "100%|██████████| 1/1 [00:00<00:00, 2169.84it/s]\n"
          ]
        },
        {
          "metadata": {
            "tags": null
          },
          "name": "stdout",
          "output_type": "stream",
          "text": [
            "Translated: 1 ಎನ್\n"
          ]
        },
        {
          "metadata": {
            "tags": null
          },
          "name": "stderr",
          "output_type": "stream",
          "text": [
            "100%|██████████| 1/1 [00:00<00:00, 2164.24it/s]\n"
          ]
        },
        {
          "metadata": {
            "tags": null
          },
          "name": "stdout",
          "output_type": "stream",
          "text": [
            "Translated: ರಾಧಾಕೃಷ್ಣನ್ ಪ್ರಶ್ನೆ\n"
          ]
        },
        {
          "metadata": {
            "tags": null
          },
          "name": "stderr",
          "output_type": "stream",
          "text": [
            "100%|██████████| 4/4 [00:00<00:00, 1407.60it/s]\n"
          ]
        },
        {
          "metadata": {
            "tags": null
          },
          "name": "stdout",
          "output_type": "stream",
          "text": [
            "Translated: ರಶೀದಾ ಪತ್ರಿಕೆ ಓದುತ್ತಾ ಕುಳಿತಿದ್ದಳು. ಇದ್ದಕ್ಕಿದ್ದಂತೆ, ಅವಳ ಕಣ್ಣುಗಳು ಒಂದು ಸಣ್ಣ ಶೀರ್ಷಿಕೆಯ ಮೇಲೆ ಬಂದವುಃ ನೂರು ವರ್ಷಗಳ ಹಿಂದೆ. “ ಇಷ್ಟು ವರ್ಷಗಳ ಹಿಂದೆ ಏನಾಯಿತು ಎಂದು ಯಾರಿಗಾದರೂ ಹೇಗೆ ಗೊತ್ತು? ”\n"
          ]
        },
        {
          "metadata": {
            "tags": null
          },
          "name": "stderr",
          "output_type": "stream",
          "text": [
            "100%|██████████| 1/1 [00:00<00:00, 2219.21it/s]\n"
          ]
        },
        {
          "metadata": {
            "tags": null
          },
          "name": "stdout",
          "output_type": "stream",
          "text": [
            "Translated: ಏನಾಯಿತು ಎಂಬುದನ್ನು ಕಂಡುಹಿಡಿಯುವುದು\n"
          ]
        },
        {
          "metadata": {
            "tags": null
          },
          "name": "stderr",
          "output_type": "stream",
          "text": [
            "100%|██████████| 6/6 [00:00<00:00, 2801.49it/s]\n"
          ]
        },
        {
          "metadata": {
            "tags": null
          },
          "name": "stdout",
          "output_type": "stream",
          "text": [
            "Translated: ನಿನ್ನೆ: ನೀವು ರೇಡಿಯೊವನ್ನು ಕೇಳಬಹುದು, ಟಿವಿ ನೋಡಬಹುದು, ಪತ್ರಿಕೆಯನ್ನು ಓದಬಹುದು. ಕಳೆದ ವರ್ಷಃ ನೆನಪಿಡುವ ಯಾರನ್ನಾದರೂ ಕೇಳಿ. ಆದರೆ ಬಹಳ ಹಿಂದೆಯೇ ಏನಾಯಿತು? ಇದನ್ನು ಹೇಗೆ ಮಾಡಬಹುದೆಂದು ನೋಡೋಣ.\n"
          ]
        },
        {
          "metadata": {
            "tags": null
          },
          "name": "stderr",
          "output_type": "stream",
          "text": [
            "100%|██████████| 1/1 [00:00<00:00, 2023.30it/s]\n"
          ]
        },
        {
          "metadata": {
            "tags": null
          },
          "name": "stdout",
          "output_type": "stream",
          "text": [
            "Translated: ನಾವು ಹಿಂದಿನ ಬಗ್ಗೆ ಏನು ತಿಳಿಯಬಹುದು?\n"
          ]
        },
        {
          "metadata": {
            "tags": null
          },
          "name": "stderr",
          "output_type": "stream",
          "text": [
            "100%|██████████| 3/3 [00:00<00:00, 1621.51it/s]\n"
          ]
        },
        {
          "metadata": {
            "tags": null
          },
          "name": "stdout",
          "output_type": "stream",
          "text": [
            "Translated: ಜನರು ಏನು ತಿನ್ನುತ್ತಾರೆ, ಅವರು ಯಾವ ರೀತಿಯ ಬಟ್ಟೆಗಳನ್ನು ಧರಿಸುತ್ತಾರೆ, ಅವರು ವಾಸಿಸುತ್ತಿದ್ದ ಮನೆಗಳಿವೆ ಎಂದು ನಾವು ಕಂಡುಹಿಡಿಯಬಹುದಾದ ಹಲವಾರು ವಿಷಯಗಳಿವೆ. ನಾವು ಬೇಟೆಗಾರರು, ಪಶುಪಾಲಕರು, ರೈತರು, ಆಡಳಿತಗಾರರು, ವ್ಯಾಪಾರಿಗಳು, ಪುರೋಹಿತರು, ಕರಕುಶಲಕರ್ಮಿಗಳು, ಕಲಾವಿದರು, ಸಂಗೀತಗಾರರು ಮತ್ತು ವಿಜ್ಞಾನಿಗಳ ಜೀವನದ ಬಗ್ಗೆ ತಿಳಿದುಕೊಳ್ಳಬಹುದು. ಮಕ್ಕಳು ಆಡಿದ ಆಟಗಳು, ಅವರು ಕೇಳಿದ ಕಥೆಗಳು, ಅವರು ನೋಡಿದ ನಾಟಕಗಳು, ಅವರು ಹಾಡಿದ ಹಾಡುಗಳ ಬಗ್ಗೆಯೂ ನಾವು ತಿಳಿದುಕೊಳ್ಳಬಹುದು.\n"
          ]
        },
        {
          "metadata": {
            "tags": null
          },
          "name": "stderr",
          "output_type": "stream",
          "text": [
            "100%|██████████| 1/1 [00:00<00:00, 991.33it/s]\n"
          ]
        },
        {
          "metadata": {
            "tags": null
          },
          "name": "stdout",
          "output_type": "stream",
          "text": [
            "Translated: ಜನರು ಎಲ್ಲಿ ವಾಸಿಸುತ್ತಿದ್ದರು?\n"
          ]
        },
        {
          "metadata": {
            "tags": null
          },
          "name": "stderr",
          "output_type": "stream",
          "text": [
            "100%|██████████| 5/5 [00:00<00:00, 1570.19it/s]\n"
          ]
        },
        {
          "metadata": {
            "tags": null
          },
          "name": "stdout",
          "output_type": "stream",
          "text": [
            "Translated: ನಕ್ಷೆ 1 ರಲ್ಲಿ ನರ್ಮದಾ ನದಿಯನ್ನು ಹುಡುಕಿ (ಪುಟ 2). ನೂರಾರು ವರ್ಷಗಳಿಂದ ಜನರು ಈ ನದಿಯ ದಡದಲ್ಲಿ ವಾಸಿಸುತ್ತಿದ್ದಾರೆ. ಇಲ್ಲಿ ವಾಸಿಸುತ್ತಿದ್ದ ಕೆಲವು ಆರಂಭಿಕ ಜನರು ಕುಶಲ ಸಂಗ್ರಹಿಸುವವರಾಗಿದ್ದರು, ಅಂದರೆ ತಮ್ಮ ಆಹಾರವನ್ನು ಸಂಗ್ರಹಿಸಿದ ಜನರು. ಸುತ್ತಮುತ್ತಲಿನ ಕಾಡುಗಳಲ್ಲಿನ ಸಸ್ಯಗಳ ಅಗಾಧ ಸಂಪತ್ತಿನ ಬಗ್ಗೆ ಅವರಿಗೆ ತಿಳಿದಿತ್ತು, ಮತ್ತು ತಮ್ಮ ಆಹಾರಕ್ಕಾಗಿ ಬೇರುಗಳು, ಹಣ್ಣುಗಳು ಮತ್ತು ಇತರ ಅರಣ್ಯ ಉತ್ಪನ್ನಗಳನ್ನು ಸಂಗ್ರಹಿಸಿದರು. ಅವರು ಪ್ರಾಣಿಗಳನ್ನೂ ಬೇಟೆಯಾಡುತ್ತಿದ್ದರು.\n"
          ]
        },
        {
          "metadata": {
            "tags": null
          },
          "name": "stderr",
          "output_type": "stream",
          "text": [
            "100%|██████████| 1/1 [00:00<00:00, 965.32it/s]\n"
          ]
        },
        {
          "metadata": {
            "tags": null
          },
          "name": "stdout",
          "output_type": "stream",
          "text": [
            "Translated: ಅಧ್ಯಾಯ 1 ಏನು, ಎಲ್ಲಿ, ಹೇಗೆ ಮತ್ತು ಯಾವಾಗ?\n"
          ]
        },
        {
          "metadata": {
            "tags": null
          },
          "name": "stderr",
          "output_type": "stream",
          "text": [
            "100%|██████████| 1/1 [00:00<00:00, 857.91it/s]\n"
          ]
        },
        {
          "metadata": {
            "tags": null
          },
          "name": "stdout",
          "output_type": "stream",
          "text": [
            "Translated: ಏನು, ಎಲ್ಲಿ, ಹೇಗೆ ಮತ್ತು ಯಾವಾಗ?\n"
          ]
        },
        {
          "metadata": {
            "tags": null
          },
          "name": "stderr",
          "output_type": "stream",
          "text": [
            "100%|██████████| 1/1 [00:00<00:00, 2381.77it/s]\n"
          ]
        },
        {
          "metadata": {
            "tags": null
          },
          "name": "stdout",
          "output_type": "stream",
          "text": [
            "Translated: 2018-19 ನೇ ಸಾಲಿನಲ್ಲಿ ಶೇ.\n"
          ]
        },
        {
          "metadata": {
            "tags": null
          },
          "name": "stderr",
          "output_type": "stream",
          "text": [
            "100%|██████████| 2/2 [00:00<00:00, 517.85it/s]\n"
          ]
        },
        {
          "metadata": {
            "tags": null
          },
          "name": "stdout",
          "output_type": "stream",
          "text": [
            "Translated: thumb | left | upright | 250px | upright | ಕಾಲಕ್ರಮೇಣ ಕಾಲಕ್ರಮೇಣ ಕಾಲಕ್ರಮೇಣ ಕಾಲಕ್ರಮೇಣ ಕಾಲಕ್ರಮೇಣ ಕಾಲಕ್ರಮೇಣ ಕಾಲಕ್ರಮೇಣ ಕಾಲಕ್ರಮೇಣವಾಗತೊಡಗಿತು. ಒರಿಸ್ಸಾ, ಜಾರ್ಖಂಡ್, ಜಾರ್ಖಂಡ್, ಛತ್ತೀಸ್ಗಢ, ಮಧ್ಯಪ್ರದೇಶ, ಛತ್ತೀಸ್ಗಢ, ಛತ್ತೀಸ್ಗಢ, ರಾಜಸ್ಥಾನ, ಮಧ್ಯಪ್ರದೇಶ, ಮಹಾರಾಷ್ಟ್ರ, ಛತ್ತೀಸ್ಗಢ, ಒಡಿಸ್ಸಾ, ಜಾರ್ಖಂಡ್, ಮಧ್ಯಪ್ರದೇಶ, ಛತ್ತೀಸ್ಗಢ, ಛತ್ತೀಸ್ಗಢ, ರಾಜಸ್ಥಾನ, ಮಧ್ಯಪ್ರದೇಶ, ಮಹಾರಾಷ್ಟ್ರ, ಛತ್ತೀಸ್ಗಢ, ಒಡಿಸ್ಸಾ, ಜಾರ್ಖಂಡ್, ಛತ್ತೀಸ್ಗಢ, ಜಾರ್ಖಂಡ್, ಜಾರ್ಖಂಡ್, ಮಧ್ಯಪ್ರದೇಶ, ಮಹಾರಾಷ್ಟ್ರ, ಒಡಿಸ್ಸಾ, ಜಾರ್ಖಂಡ್, ಛತ್ತೀಸ್ಗಢ, ಮಧ್ಯಪ್ರದೇಶ, ರಾಜಸ್ಥಾನ, ಮಧ್ಯಪ್ರದೇಶ, ಛತ್ತೀಸ್ಗಢ, ಜಮ್ಮು ಮತ್ತು ಕಾಶ್ಮೀರ, ಒಡಿಸ್ಸಾ, ಜಾರ್ಖಂಡ್, ಜಾರ್ಖಂಡ್, ಜಾರ್ಖಂಡ್, ಜಾರ್ಖಂಡ್, ಜಾರ್ಖಂಡ್, ಜಾರ್ಖಂಡ್, ಜಾರ್ಖಂಡ್, ಮಧ್ಯಪ್ರದೇಶ, ಜಾರ್ಖಂಡ್, ಛತ್ತೀಸ್ಗಢ, ಒಡಿಸ್ಸಾ, ಜಾರ್ಖಂಡ್, ಛತ್ತೀಸ್ಗಢ, ಜಾರ್ಖಂಡ್, ಜಾರ್ಖಂಡ್, ಛತ್ತೀಸ್ಗಢ, ಮಧ್ಯಪ್ರದೇಶ, ಜಾರ್ಖಂಡ್, ರಾಜಸ್ಥಾನ, ಮಧ್ಯಪ್ರದೇಶ, ಒಡಿಸ್ಸಾ, ಜಾರ್ಖಂಡ್, ಛತ್ತೀಸ್ಗಢ, ಒಡಿಸ್ಸಾ, ಜಾರ್ಖಂಡ್, ಜಾರ್ಖಂಡ್ ಮತ್ತು\n"
          ]
        },
        {
          "metadata": {
            "tags": null
          },
          "name": "stderr",
          "output_type": "stream",
          "text": [
            "100%|██████████| 1/1 [00:00<00:00, 392.95it/s]"
          ]
        },
        {
          "metadata": {
            "tags": null
          },
          "name": "stdout",
          "output_type": "stream",
          "text": [
            "WARNING: Sentence __src__en__ __tgt__kn__ ಜ@@ ನ@@ ರ@@ .... ಹ@@ ು@@ ದ@@ ು . truncated to 200 tokens as it exceeds maximum length limit\n"
          ]
        },
        {
          "metadata": {
            "tags": null
          },
          "name": "stderr",
          "output_type": "stream",
          "text": [
            "\n"
          ]
        },
        {
          "metadata": {
            "tags": null
          },
          "name": "stdout",
          "output_type": "stream",
          "text": [
            "Translated: ಒರಿಸ್ಸಾ, ಜಾರ್ಖಂಡ್, ಛತ್ತೀಸ್ ಗಢ, ಜಾರ್ಖಂಡ್, ಛತ್ತೀಸ್ಗಢ, ಮಧ್ಯಪ್ರದೇಶ, ಉತ್ತರಖಂಡ್, ಛತ್ತೀಸ್ಗಢ, ರಾಜಸ್ಥಾನ, ಮಧ್ಯಪ್ರದೇಶ, ಮಹಾರಾಷ್ಟ್ರ, ಒಡಿಸ್ಸಾ, ಛತ್ತೀಸ್ಗಢ, ಜಾರ್ಖಂಡ್, ಬಿಹಾರ, ಜಾರ್ಖಂಡ್, ಜಾರ್ಖಂಡ್, ಮಧ್ಯಪ್ರದೇಶ, ಮಹಾರಾಷ್ಟ್ರ, ಉತ್ತರಖಂಡ್, ಮಧ್ಯಪ್ರದೇಶ, ಉತ್ತರಖಂಡ್, ಛತ್ತೀಸ್ಗಢ, ಒಡಿಸ್ಸಾ, ಛತ್ತೀಸ್ಗಢ, ಮಧ್ಯಪ್ರದೇಶ, ರಾಜಸ್ಥಾನ, ಮಧ್ಯಪ್ರದೇಶ, ಮಹಾರಾಷ್ಟ್ರ, ಒಡಿಸ್ಸಾ, ಛತ್ತೀಸ್ಗಢ, ಮಧ್ಯಪ್ರದೇಶ, ರಾಜಸ್ಥಾನ, ಮಧ್ಯಪ್ರದೇಶ, ಛತ್ತೀಸ್ಗಢ, ಮಧ್ಯಪ್ರದೇಶ, ಮಹಾರಾಷ್ಟ್ರ, ಒಡಿಸ್ಸಾ, ಜಾರ್ಖಂಡ್, ಛತ್ತೀಸ್ಗಢ, ಮಧ್ಯಪ್ರದೇಶ, ರಾಜಸ್ಥಾನ, ಮಧ್ಯಪ್ರದೇಶ, ಛತ್ತೀಸ್ಗಢ, ಮಧ್ಯಪ್ರದೇಶ, ಮಹಾರಾಷ್ಟ್ರ, ಒಡಿಸ್ಸಾ, ಜಾರ್ಖಂಡ್, ಮಧ್ಯಪ್ರದೇಶ, ಛತ್ತೀಸ್ಗಢ, ಛತ್ತೀಸ್ಗಢ, ಒಡಿಸ್ಸಾ, ಒಡಿಸ್ಸಾ, ಜಾರ್ಖಂಡ್, ಛತ್ತೀಸ್ಗಢ, ಛತ್ತೀಸ್ಗಢ, ಒಡಿಸ್ಸಾ, ಜಾರ್ಖಂಡ್, ಜಾರ್ಖಂಡ್, ಛತ್ತೀಸ್ಗಢ, ಒಡಿಸ್ಸಾ, ಜಾರ್ಖಂಡ್, ಜಾರ್ಖಂಡ್, ಛತ್ತೀಸ್ಗಢ, ಒಡಿಸ್ಸಾ, ಮಧ್ಯಪ್ರದೇಶ\n"
          ]
        },
        {
          "metadata": {
            "tags": null
          },
          "name": "stderr",
          "output_type": "stream",
          "text": [
            "100%|██████████| 1/1 [00:00<00:00, 235.90it/s]"
          ]
        },
        {
          "metadata": {
            "tags": null
          },
          "name": "stdout",
          "output_type": "stream",
          "text": [
            "WARNING: Sentence __src__en__ __tgt__kn__ ನ@@ ಕ@@ ್@@ .... ್@@ ದ@@ ರ@@ ು . truncated to 200 tokens as it exceeds maximum length limit\n"
          ]
        },
        {
          "metadata": {
            "tags": null
          },
          "name": "stderr",
          "output_type": "stream",
          "text": [
            "\n"
          ]
        },
        {
          "metadata": {
            "tags": null
          },
          "name": "stdout",
          "output_type": "stream",
          "text": [
            "Translated: ಸಂಚಿಕೆ-ಸಂಚಿಕೆ-ಸಂಚಿಕೆ-ಸಂಚಿಕೆ-ಸಂಚಿಕೆ-ಸಂಚಿಕೆ-ಸಂಚಿಕೆ-ಸಂಚಿಕೆ-ಸಂಚಿಕೆ-ಸಂಚಿಕೆ-ಸಂಚಿಕೆ-ಸಂಚಿಕೆ-ಸಂಚಿಕೆ-ಸಂಚಿಕೆ-ಸಂಚಿಕೆ-ಸಂಚಿಕೆ-ಸಂಚಿಕೆ-ಸಂಚಿಕೆ-ಸಂಚಿಕೆ-ಸಂಚಿಕೆ-ಸಂಚಿಕೆ-ಸಂಚಿಕೆ-ಸಂಚಿಕೆ-ಸಂಚಿಕೆ-ಸಂಚಿಕೆ-ಸಂಚಿಕೆ-ಸಂಚಿಕೆ-ಸಂಚಿಕೆ-ಸಂಚಿಕೆ-ಸಂಚಿಕೆ-ಸಂಚಿಕೆ-ಸಂಚಿಕೆ-ಸಂಚಿಕೆ-ಸಂಚಿಕೆ-ಸಂಚಿಕೆ-ಸಂಚಿಕೆ-ಸಂಚಿಕೆ-ಸಂಚಿಕೆ-ಸಂಚಿಕೆ-ಸಂಚಿಕೆ-ಸಂಚಿಕೆ-ಸಂಚಿಕೆ-ಸಂಚಿಕೆ-ಸಂಚಿಕೆ-ಸಂಚಿಕೆ-ಸಂಚಿಕೆ-ಸಂಚಿಕೆ-ಸಂಚಿಕೆ-ಸಂಚಿಕೆ-ಸಂಚಿಕೆ -\n"
          ]
        },
        {
          "metadata": {
            "tags": null
          },
          "name": "stderr",
          "output_type": "stream",
          "text": [
            "100%|██████████| 1/1 [00:00<00:00, 831.54it/s]\n"
          ]
        },
        {
          "metadata": {
            "tags": null
          },
          "name": "stdout",
          "output_type": "stream",
          "text": [
            "Translated: \"\" \"\" \"\" \"\" \"\" \"\" \"\" \"\" \"\" \"\" \"\" \"\" \"\" \"\" \"\" \"\" \"\" \"\" \"\" \"\" \"\" \"\" \"\" \"\" \"\" \"\" \"\" \"\" \"\" \"\" \"\" \"\" \"\" \"\" \"\" \"\" \"\" \"\" \"\" \"\" \"\" \"\" \"\" \"\" \"\" \"\" \"\" \"\" \"\" \"\" \"\" \"\" \"\" \"\" \"\" \"\" \"\" \"\" \"\" \"\" \"\" \"\" \"\" \"\" \"\" \"\" \"\" \"\" \"\" \"\" \"\" \"\" \"\" \"\" \"\" \"\" \"\" \"\" \"\" \"\" \"\" \"\" \"\" \"\" \"\" \"\" \"\" \"\" \"\" \"\" \"\" \"\" \"\" \"\" \"\" \"\" \"\" \"\" \"\" \"\"\n"
          ]
        },
        {
          "metadata": {
            "tags": null
          },
          "name": "stderr",
          "output_type": "stream",
          "text": [
            "100%|██████████| 2/2 [00:00<00:00, 1121.62it/s]\n"
          ]
        },
        {
          "metadata": {
            "tags": null
          },
          "name": "stdout",
          "output_type": "stream",
          "text": [
            "Translated: thumb | left | upright | 250px | upright | ಕಾಲಕ್ರಮೇಣ ಕಾಲಕ್ರಮೇಣ ಕಾಲಕ್ರಮೇಣ ಕಾಲಕ್ರಮೇಣ ಕಾಲಕ್ರಮೇಣ ಕಾಲಕ್ರಮೇಣ ಕಾಲಕ್ರಮೇಣ ಕಾಲಕ್ರಮೇಣವಾಗತೊಡಗಿತು. ಒರಿಸ್ಸಾ, ಜಾರ್ಖಂಡ್, ಜಾರ್ಖಂಡ್, ಛತ್ತೀಸ್ಗಢ, ಮಧ್ಯಪ್ರದೇಶ, ಛತ್ತೀಸ್ಗಢ, ಛತ್ತೀಸ್ಗಢ, ರಾಜಸ್ಥಾನ, ಮಧ್ಯಪ್ರದೇಶ, ಮಹಾರಾಷ್ಟ್ರ, ಛತ್ತೀಸ್ಗಢ, ಒಡಿಸ್ಸಾ, ಜಾರ್ಖಂಡ್, ಮಧ್ಯಪ್ರದೇಶ, ಛತ್ತೀಸ್ಗಢ, ಛತ್ತೀಸ್ಗಢ, ರಾಜಸ್ಥಾನ, ಮಧ್ಯಪ್ರದೇಶ, ಮಹಾರಾಷ್ಟ್ರ, ಛತ್ತೀಸ್ಗಢ, ಒಡಿಸ್ಸಾ, ಜಾರ್ಖಂಡ್, ಛತ್ತೀಸ್ಗಢ, ಜಾರ್ಖಂಡ್, ಜಾರ್ಖಂಡ್, ಮಧ್ಯಪ್ರದೇಶ, ಮಹಾರಾಷ್ಟ್ರ, ಒಡಿಸ್ಸಾ, ಜಾರ್ಖಂಡ್, ಛತ್ತೀಸ್ಗಢ, ಮಧ್ಯಪ್ರದೇಶ, ರಾಜಸ್ಥಾನ, ಮಧ್ಯಪ್ರದೇಶ, ಛತ್ತೀಸ್ಗಢ, ಜಮ್ಮು ಮತ್ತು ಕಾಶ್ಮೀರ, ಒಡಿಸ್ಸಾ, ಜಾರ್ಖಂಡ್, ಜಾರ್ಖಂಡ್, ಜಾರ್ಖಂಡ್, ಜಾರ್ಖಂಡ್, ಜಾರ್ಖಂಡ್, ಜಾರ್ಖಂಡ್, ಜಾರ್ಖಂಡ್, ಮಧ್ಯಪ್ರದೇಶ, ಜಾರ್ಖಂಡ್, ಛತ್ತೀಸ್ಗಢ, ಒಡಿಸ್ಸಾ, ಜಾರ್ಖಂಡ್, ಛತ್ತೀಸ್ಗಢ, ಜಾರ್ಖಂಡ್, ಜಾರ್ಖಂಡ್, ಛತ್ತೀಸ್ಗಢ, ಮಧ್ಯಪ್ರದೇಶ, ಜಾರ್ಖಂಡ್, ರಾಜಸ್ಥಾನ, ಮಧ್ಯಪ್ರದೇಶ, ಒಡಿಸ್ಸಾ, ಜಾರ್ಖಂಡ್, ಛತ್ತೀಸ್ಗಢ, ಒಡಿಸ್ಸಾ, ಜಾರ್ಖಂಡ್, ಜಾರ್ಖಂಡ್ ಮತ್ತು\n"
          ]
        },
        {
          "metadata": {
            "tags": null
          },
          "name": "stderr",
          "output_type": "stream",
          "text": [
            "100%|██████████| 1/1 [00:00<00:00, 266.29it/s]"
          ]
        },
        {
          "metadata": {
            "tags": null
          },
          "name": "stdout",
          "output_type": "stream",
          "text": [
            "WARNING: Sentence __src__en__ __tgt__kn__ ಜ@@ ನ@@ ರ@@ .... ಹ@@ ು@@ ದ@@ ು . truncated to 200 tokens as it exceeds maximum length limit\n"
          ]
        },
        {
          "metadata": {
            "tags": null
          },
          "name": "stderr",
          "output_type": "stream",
          "text": [
            "\n"
          ]
        },
        {
          "metadata": {
            "tags": null
          },
          "name": "stdout",
          "output_type": "stream",
          "text": [
            "Translated: ಒರಿಸ್ಸಾ, ಜಾರ್ಖಂಡ್, ಛತ್ತೀಸ್ ಗಢ, ಜಾರ್ಖಂಡ್, ಛತ್ತೀಸ್ಗಢ, ಮಧ್ಯಪ್ರದೇಶ, ಉತ್ತರಖಂಡ್, ಛತ್ತೀಸ್ಗಢ, ರಾಜಸ್ಥಾನ, ಮಧ್ಯಪ್ರದೇಶ, ಮಹಾರಾಷ್ಟ್ರ, ಒಡಿಸ್ಸಾ, ಛತ್ತೀಸ್ಗಢ, ಜಾರ್ಖಂಡ್, ಬಿಹಾರ, ಜಾರ್ಖಂಡ್, ಜಾರ್ಖಂಡ್, ಮಧ್ಯಪ್ರದೇಶ, ಮಹಾರಾಷ್ಟ್ರ, ಉತ್ತರಖಂಡ್, ಮಧ್ಯಪ್ರದೇಶ, ಉತ್ತರಖಂಡ್, ಛತ್ತೀಸ್ಗಢ, ಒಡಿಸ್ಸಾ, ಛತ್ತೀಸ್ಗಢ, ಮಧ್ಯಪ್ರದೇಶ, ರಾಜಸ್ಥಾನ, ಮಧ್ಯಪ್ರದೇಶ, ಮಹಾರಾಷ್ಟ್ರ, ಒಡಿಸ್ಸಾ, ಛತ್ತೀಸ್ಗಢ, ಮಧ್ಯಪ್ರದೇಶ, ರಾಜಸ್ಥಾನ, ಮಧ್ಯಪ್ರದೇಶ, ಛತ್ತೀಸ್ಗಢ, ಮಧ್ಯಪ್ರದೇಶ, ಮಹಾರಾಷ್ಟ್ರ, ಒಡಿಸ್ಸಾ, ಜಾರ್ಖಂಡ್, ಛತ್ತೀಸ್ಗಢ, ಮಧ್ಯಪ್ರದೇಶ, ರಾಜಸ್ಥಾನ, ಮಧ್ಯಪ್ರದೇಶ, ಛತ್ತೀಸ್ಗಢ, ಮಧ್ಯಪ್ರದೇಶ, ಮಹಾರಾಷ್ಟ್ರ, ಒಡಿಸ್ಸಾ, ಜಾರ್ಖಂಡ್, ಮಧ್ಯಪ್ರದೇಶ, ಛತ್ತೀಸ್ಗಢ, ಛತ್ತೀಸ್ಗಢ, ಒಡಿಸ್ಸಾ, ಒಡಿಸ್ಸಾ, ಜಾರ್ಖಂಡ್, ಛತ್ತೀಸ್ಗಢ, ಛತ್ತೀಸ್ಗಢ, ಒಡಿಸ್ಸಾ, ಜಾರ್ಖಂಡ್, ಜಾರ್ಖಂಡ್, ಛತ್ತೀಸ್ಗಢ, ಒಡಿಸ್ಸಾ, ಜಾರ್ಖಂಡ್, ಜಾರ್ಖಂಡ್, ಛತ್ತೀಸ್ಗಢ, ಒಡಿಸ್ಸಾ, ಮಧ್ಯಪ್ರದೇಶ\n"
          ]
        },
        {
          "metadata": {
            "tags": null
          },
          "name": "stderr",
          "output_type": "stream",
          "text": [
            "100%|██████████| 1/1 [00:00<00:00, 396.62it/s]"
          ]
        },
        {
          "metadata": {
            "tags": null
          },
          "name": "stdout",
          "output_type": "stream",
          "text": [
            "WARNING: Sentence __src__en__ __tgt__kn__ ನ@@ ಕ@@ ್@@ .... ್@@ ದ@@ ರ@@ ು . truncated to 200 tokens as it exceeds maximum length limit\n"
          ]
        },
        {
          "metadata": {
            "tags": null
          },
          "name": "stderr",
          "output_type": "stream",
          "text": [
            "\n"
          ]
        },
        {
          "metadata": {
            "tags": null
          },
          "name": "stdout",
          "output_type": "stream",
          "text": [
            "Translated: ಸಂಚಿಕೆ-ಸಂಚಿಕೆ-ಸಂಚಿಕೆ-ಸಂಚಿಕೆ-ಸಂಚಿಕೆ-ಸಂಚಿಕೆ-ಸಂಚಿಕೆ-ಸಂಚಿಕೆ-ಸಂಚಿಕೆ-ಸಂಚಿಕೆ-ಸಂಚಿಕೆ-ಸಂಚಿಕೆ-ಸಂಚಿಕೆ-ಸಂಚಿಕೆ-ಸಂಚಿಕೆ-ಸಂಚಿಕೆ-ಸಂಚಿಕೆ-ಸಂಚಿಕೆ-ಸಂಚಿಕೆ-ಸಂಚಿಕೆ-ಸಂಚಿಕೆ-ಸಂಚಿಕೆ-ಸಂಚಿಕೆ-ಸಂಚಿಕೆ-ಸಂಚಿಕೆ-ಸಂಚಿಕೆ-ಸಂಚಿಕೆ-ಸಂಚಿಕೆ-ಸಂಚಿಕೆ-ಸಂಚಿಕೆ-ಸಂಚಿಕೆ-ಸಂಚಿಕೆ-ಸಂಚಿಕೆ-ಸಂಚಿಕೆ-ಸಂಚಿಕೆ-ಸಂಚಿಕೆ-ಸಂಚಿಕೆ-ಸಂಚಿಕೆ-ಸಂಚಿಕೆ-ಸಂಚಿಕೆ-ಸಂಚಿಕೆ-ಸಂಚಿಕೆ-ಸಂಚಿಕೆ-ಸಂಚಿಕೆ-ಸಂಚಿಕೆ-ಸಂಚಿಕೆ-ಸಂಚಿಕೆ-ಸಂಚಿಕೆ-ಸಂಚಿಕೆ-ಸಂಚಿಕೆ -\n"
          ]
        },
        {
          "metadata": {
            "tags": null
          },
          "name": "stderr",
          "output_type": "stream",
          "text": [
            "100%|██████████| 1/1 [00:00<00:00, 1661.77it/s]\n"
          ]
        },
        {
          "metadata": {
            "tags": null
          },
          "name": "stdout",
          "output_type": "stream",
          "text": [
            "Translated: \"\" \"\" \"\" \"\" \"\" \"\" \"\" \"\" \"\" \"\" \"\" \"\" \"\" \"\" \"\" \"\" \"\" \"\" \"\" \"\" \"\" \"\" \"\" \"\" \"\" \"\" \"\" \"\" \"\" \"\" \"\" \"\" \"\" \"\" \"\" \"\" \"\" \"\" \"\" \"\" \"\" \"\" \"\" \"\" \"\" \"\" \"\" \"\" \"\" \"\" \"\" \"\" \"\" \"\" \"\" \"\" \"\" \"\" \"\" \"\" \"\" \"\" \"\" \"\" \"\" \"\" \"\" \"\" \"\" \"\" \"\" \"\" \"\" \"\" \"\" \"\" \"\" \"\" \"\" \"\" \"\" \"\" \"\" \"\" \"\" \"\" \"\" \"\" \"\" \"\" \"\" \"\" \"\" \"\" \"\" \"\" \"\" \"\" \"\" \"\"\n"
          ]
        },
        {
          "metadata": {
            "tags": null
          },
          "name": "stderr",
          "output_type": "stream",
          "text": [
            "100%|██████████| 1/1 [00:00<00:00, 692.93it/s]"
          ]
        },
        {
          "metadata": {
            "tags": null
          },
          "name": "stdout",
          "output_type": "stream",
          "text": [
            "WARNING: Sentence __src__en__ __tgt__kn__ ಸ@@ ಂ@@ ಚ@@ .... ಚ@@ ಿ@@ ಕ@@ ೆ - truncated to 200 tokens as it exceeds maximum length limit\n"
          ]
        },
        {
          "metadata": {
            "tags": null
          },
          "name": "stderr",
          "output_type": "stream",
          "text": [
            "\n"
          ]
        },
        {
          "metadata": {
            "tags": null
          },
          "name": "stdout",
          "output_type": "stream",
          "text": [
            "Translated: ಸಿಲ್ಚರ್ ಸಿಲ್ಚರ್ ಸಿಲ್ಚರ್ ಸಿಲ್ಚರ್ ಸಿಲ್ಚರ್ ಸಿಲ್ಚರ್ ಸಿಲ್ಚರ್ ಸಿಲ್ಚರ್ ಸಿಲ್ಚರ್ ಸಿಲ್ಚರ್ ಸಿಲ್ಚರ್ ಸಿಲ್ಚರ್ ಸಿಲ್ಚರ್ ಸಿಲ್ಚರ್ ಸಿಲ್ಚರ್ ಸಿಲ್ಚರ್ ಸಿಲ್ಚರ್ ಸಿಲ್ಚರ್ ಸಿಲ್ಚರ್ ಸಿಲ್ಚರ್ ಸಿಲ್ಚರ್ ಸಿಲ್ಚರ್ ಸಿಲ್ಚರ್ ಸಿಲ್ಚರ್ ಸಿಲ್ಚರ್ ಸಿಲ್ಚರ್ ಸಿಲ್ಚರ್ ಸಿಲ್ಚರ್ ಸಿಲ್ಚರ್ ಸಿಲ್ಚರ್ ಸಿಲ್ಚರ್ ಸಿಲ್ಚರ್ ಸಿಲ್ಚರ್ ಸಿಲ್ಚರ್ ಸಿಲ್ಚರ್ ಸಿಲ್ಚರ್ ಸಿಲ್ಚರ್ ಸಿಲ್ಚರ್ ಸಿಲ್ಚರ್ ಸಿಲ್ಚರ್ ಸಿಲ್ಚರ್ ಸಿಲ್ಚರ್ ಸಿಲ್ಚರ್ ಸಿಲ್ಚರ್ ಸಿಲ್ಚರ್ ಸಿಲ್ಚರ್ ಸಿಲ್ಚರ್ ಸಿಲ್ಚರ್ ಸಿಲ್ಚರ್ ಸಿಲ್ಚರ್ ಸಿಲ್ಚರ್ ಸಿಲ್ಚರ್ ಸಿಲ್ಚರ್ ಸಿಲ್ಚರ್ ಸಿಲ್ಚರ್ ಸಿಲ್ಚರ್ ಸಿಲ್ಚರ್ ಸಿಲ್ಚರ್ ಸಿಲ್ಚರ್ ಸಿಲ್ಚರ್ ಸಿಲ್ಚರ್ ಸಿಲ್ಚರ್ ಸಿಲ್ಚರ್ ಸಿಲ್ಚರ್ ಸಿಲ್ಚರ್ ಸಿಲ್ಚರ್ ಸಿಲ್ಚ\n"
          ]
        },
        {
          "metadata": {
            "tags": null
          },
          "name": "stderr",
          "output_type": "stream",
          "text": [
            "100%|██████████| 1/1 [00:00<00:00, 2325.00it/s]\n"
          ]
        },
        {
          "metadata": {
            "tags": null
          },
          "name": "stdout",
          "output_type": "stream",
          "text": [
            "Translated: n 2\n"
          ]
        },
        {
          "metadata": {
            "tags": null
          },
          "name": "stderr",
          "output_type": "stream",
          "text": [
            "100%|██████████| 1/1 [00:00<00:00, 465.00it/s]\n"
          ]
        },
        {
          "metadata": {
            "tags": null
          },
          "name": "stdout",
          "output_type": "stream",
          "text": [
            "Translated: ನಮ್ಮ ಪಾಸ್-I\n"
          ]
        },
        {
          "metadata": {
            "tags": null
          },
          "name": "stderr",
          "output_type": "stream",
          "text": [
            "100%|██████████| 2/2 [00:00<00:00, 1448.56it/s]\n"
          ]
        },
        {
          "metadata": {
            "tags": null
          },
          "name": "stdout",
          "output_type": "stream",
          "text": [
            "Translated: ಎಂಎಪಿ: 1 ಉಪಖಂಡದ ಭೌತಿಕ ನಕ್ಷೆ\n"
          ]
        },
        {
          "metadata": {
            "tags": null
          },
          "name": "stderr",
          "output_type": "stream",
          "text": [
            "100%|██████████| 5/5 [00:00<00:00, 2662.37it/s]\n"
          ]
        },
        {
          "metadata": {
            "tags": null
          },
          "name": "stdout",
          "output_type": "stream",
          "text": [
            "Translated: ಈಗ ವಾಯುವ್ಯ ದಿಕ್ಕಿನಲ್ಲಿರುವ ಸುಲೇಮಾನ್ ಮತ್ತು ಕಿರ್ತಾರ್ ಬೆಟ್ಟಗಳನ್ನು ಕಂಡುಕೊಳ್ಳಿ. ಮಹಿಳೆಯರು ಮತ್ತು ಪುರುಷರು ಸುಮಾರು 8000 ವರ್ಷಗಳ ಹಿಂದೆ ಗೋಧಿ ಮತ್ತು ಬಾರ್ಲಿಯಂತಹ ಬೆಳೆಗಳನ್ನು ಬೆಳೆಯಲು ಪ್ರಾರಂಭಿಸಿದ ಕೆಲವು ಪ್ರದೇಶಗಳು ಇಲ್ಲಿವೆ. ಜನರು ಕುರಿ, ಮೇಕೆ ಮತ್ತು ಜಾನುವಾರುಗಳಂತಹ ಪ್ರಾಣಿಗಳನ್ನು ಸಾಕಲು ಪ್ರಾರಂಭಿಸಿದರು ಮತ್ತು ಹಳ್ಳಿಗಳಲ್ಲಿ ವಾಸಿಸುತ್ತಿದ್ದರು. ಈಶಾನ್ಯದಲ್ಲಿ ಗಾರೋ ಬೆಟ್ಟಗಳು ಮತ್ತು ಮಧ್ಯ ಭಾರತದಲ್ಲಿ ವಿಂಧ್ಯ ಪರ್ವತಗಳನ್ನು ಗುರುತಿಸಿ. ಇವು ಇತರ ಕೆಲವು ಕ್ಷೇತ್ರಗಳಾಗಿದ್ದವು.\n"
          ]
        },
        {
          "metadata": {
            "tags": null
          },
          "name": "stderr",
          "output_type": "stream",
          "text": [
            "100%|██████████| 1/1 [00:00<00:00, 982.50it/s]\n"
          ]
        },
        {
          "metadata": {
            "tags": null
          },
          "name": "stdout",
          "output_type": "stream",
          "text": [
            "Translated: 2018-19 ನೇ ಸಾಲಿನಲ್ಲಿ ಶೇ.\n"
          ]
        },
        {
          "metadata": {
            "tags": null
          },
          "name": "stderr",
          "output_type": "stream",
          "text": [
            "100%|██████████| 2/2 [00:00<00:00, 2824.45it/s]\n"
          ]
        },
        {
          "metadata": {
            "tags": null
          },
          "name": "stdout",
          "output_type": "stream",
          "text": [
            "Translated: thumb | left | 250px | upright | upright | 250px | ನೀಲಂಬಿತವಾದ ನೀಲಂಬಿತವಾದ ನೀಲಂಬಿತವಾದ ನೀಲಂಬಿತವಾದ 1 indianarmy indianarmy indianarmy indianarmy indianarmy indianarmy indianarmy indianarmy indianarmy indianarmy indianarmy indianarmy\n"
          ]
        },
        {
          "metadata": {
            "tags": null
          },
          "name": "stderr",
          "output_type": "stream",
          "text": [
            "100%|██████████| 1/1 [00:00<00:00, 219.09it/s]"
          ]
        },
        {
          "metadata": {
            "tags": null
          },
          "name": "stdout",
          "output_type": "stream",
          "text": [
            "WARNING: Sentence __src__en__ __tgt__kn__ ಈ@@ ಗ ವ@@ .... ್@@ ದ@@ ವ@@ ು . truncated to 200 tokens as it exceeds maximum length limit\n"
          ]
        },
        {
          "metadata": {
            "tags": null
          },
          "name": "stderr",
          "output_type": "stream",
          "text": [
            "\n"
          ]
        },
        {
          "metadata": {
            "tags": null
          },
          "name": "stdout",
          "output_type": "stream",
          "text": [
            "Translated: ಒರಿಸ್ಸಾ, ಜಾರ್ಖಂಡ್, ಛತ್ತೀಸ್ಗಢ, ಒಡಿಶಾ, ಒಡಿಶಾ, ಮಧ್ಯಪ್ರದೇಶ, ಬಿಹಾರ, ಜಾರ್ಖಂಡ್, ಛತ್ತೀಸ್ಗಢ, ರಾಜಸ್ಥಾನ, ಮಧ್ಯಪ್ರದೇಶ, ಮಹಾರಾಷ್ಟ್ರ, ಛತ್ತೀಸ್ಗಢ, ಒಡಿಸ್ಸಾ, ಜಾರ್ಖಂಡ್, ರಾಜಸ್ಥಾನ, ಮಧ್ಯಪ್ರದೇಶ, ಮಹಾರಾಷ್ಟ್ರ, ಮಧ್ಯಪ್ರದೇಶ, ಬಿಹಾರ, ಜಾರ್ಖಂಡ್, ಛತ್ತೀಸ್ಗಢ, ಜಾರ್ಖಂಡ್, ಛತ್ತೀಸ್ಗಢ, ಒಡಿಸ್ಸಾ, ಜಾರ್ಖಂಡ್, ಜಾರ್ಖಂಡ್, ಜಾರ್ಖಂಡ್, ಛತ್ತೀಸ್ಗಢ, ಮಧ್ಯಪ್ರದೇಶ, ರಾಜಸ್ಥಾನ, ಮಹಾರಾಷ್ಟ್ರ, ಮಧ್ಯಪ್ರದೇಶ, ಛತ್ತೀಸ್ಗಢ, ಮಧ್ಯಪ್ರದೇಶ, ರಾಜಸ್ಥಾನ, ಮಧ್ಯಪ್ರದೇಶ, ಮಹಾರಾಷ್ಟ್ರ, ಛತ್ತೀಸ್ಗಢ, ಮಧ್ಯಪ್ರದೇಶ, ರಾಜಸ್ಥಾನ, ಮಧ್ಯಪ್ರದೇಶ, ಮಹಾರಾಷ್ಟ್ರ, ಮಧ್ಯಪ್ರದೇಶ, ಛತ್ತೀಸ್ಗಢ, ಮಧ್ಯಪ್ರದೇಶ, ರಾಜಸ್ಥಾನ, ಮಧ್ಯಪ್ರದೇಶ, ಛತ್ತೀಸ್ಗಢ, ಮಧ್ಯಪ್ರದೇಶ, ರಾಜಸ್ಥಾನ, ಮಧ್ಯಪ್ರದೇಶ, ಮಹಾರಾಷ್ಟ್ರ, ಮಧ್ಯಪ್ರದೇಶ, ಮಧ್ಯಪ್ರದೇಶ, ಛತ್ತೀಸ್ಗಢ, ಮಧ್ಯಪ್ರದೇಶ, ಛತ್ತೀಸ್ಗಢ, ಮಧ್ಯಪ್ರದೇಶ, ಛತ್ತೀಸ್ಗಢ, ಛತ್ತೀಸ್ಗಢ, ಒಡಿಸ್ಸಾ, ಒಡಿಸ್ಸಾ, ಜಾರ್ಖಂಡ್, ಒಡಿಸ್ಸಾ, ಜಾರ್ಖಂಡ್, ಜಾರ್ಖಂಡ್, ಛತ್ತೀಸ್ಗಢ, ಮಧ್ಯಪ್ರದೇಶ, ಮಧ್ಯಪ್ರದೇಶ, ಛತ್ತೀಸ್ಗಢ, ಒಡಿಸ್ಸಾ, ಛತ್ತೀಸ್ಗಢ\n"
          ]
        },
        {
          "metadata": {
            "tags": null
          },
          "name": "stderr",
          "output_type": "stream",
          "text": [
            "100%|██████████| 2/2 [00:00<00:00, 2866.92it/s]\n"
          ]
        },
        {
          "metadata": {
            "tags": null
          },
          "name": "stdout",
          "output_type": "stream",
          "text": [
            "Translated: thumb | left | 250px | upright | upright | 250px | ನೀಲಂಬಿತವಾದ ನೀಲಂಬಿತವಾದ ನೀಲಂಬಿತವಾದ ನೀಲಂಬಿತವಾದ 1 indianarmy indianarmy indianarmy indianarmy indianarmy indianarmy indianarmy indianarmy indianarmy indianarmy indianarmy indianarmy\n"
          ]
        },
        {
          "metadata": {
            "tags": null
          },
          "name": "stderr",
          "output_type": "stream",
          "text": [
            "100%|██████████| 1/1 [00:00<00:00, 139.93it/s]"
          ]
        },
        {
          "metadata": {
            "tags": null
          },
          "name": "stdout",
          "output_type": "stream",
          "text": [
            "WARNING: Sentence __src__en__ __tgt__kn__ ಈ@@ ಗ ವ@@ .... ್@@ ದ@@ ವ@@ ು . truncated to 200 tokens as it exceeds maximum length limit\n"
          ]
        },
        {
          "metadata": {
            "tags": null
          },
          "name": "stderr",
          "output_type": "stream",
          "text": [
            "\n"
          ]
        },
        {
          "metadata": {
            "tags": null
          },
          "name": "stdout",
          "output_type": "stream",
          "text": [
            "Translated: ಒರಿಸ್ಸಾ, ಜಾರ್ಖಂಡ್, ಛತ್ತೀಸ್ಗಢ, ಒಡಿಶಾ, ಒಡಿಶಾ, ಮಧ್ಯಪ್ರದೇಶ, ಬಿಹಾರ, ಜಾರ್ಖಂಡ್, ಛತ್ತೀಸ್ಗಢ, ರಾಜಸ್ಥಾನ, ಮಧ್ಯಪ್ರದೇಶ, ಮಹಾರಾಷ್ಟ್ರ, ಛತ್ತೀಸ್ಗಢ, ಒಡಿಸ್ಸಾ, ಜಾರ್ಖಂಡ್, ರಾಜಸ್ಥಾನ, ಮಧ್ಯಪ್ರದೇಶ, ಮಹಾರಾಷ್ಟ್ರ, ಮಧ್ಯಪ್ರದೇಶ, ಬಿಹಾರ, ಜಾರ್ಖಂಡ್, ಛತ್ತೀಸ್ಗಢ, ಜಾರ್ಖಂಡ್, ಛತ್ತೀಸ್ಗಢ, ಒಡಿಸ್ಸಾ, ಜಾರ್ಖಂಡ್, ಜಾರ್ಖಂಡ್, ಜಾರ್ಖಂಡ್, ಛತ್ತೀಸ್ಗಢ, ಮಧ್ಯಪ್ರದೇಶ, ರಾಜಸ್ಥಾನ, ಮಹಾರಾಷ್ಟ್ರ, ಮಧ್ಯಪ್ರದೇಶ, ಛತ್ತೀಸ್ಗಢ, ಮಧ್ಯಪ್ರದೇಶ, ರಾಜಸ್ಥಾನ, ಮಧ್ಯಪ್ರದೇಶ, ಮಹಾರಾಷ್ಟ್ರ, ಛತ್ತೀಸ್ಗಢ, ಮಧ್ಯಪ್ರದೇಶ, ರಾಜಸ್ಥಾನ, ಮಧ್ಯಪ್ರದೇಶ, ಮಹಾರಾಷ್ಟ್ರ, ಮಧ್ಯಪ್ರದೇಶ, ಛತ್ತೀಸ್ಗಢ, ಮಧ್ಯಪ್ರದೇಶ, ರಾಜಸ್ಥಾನ, ಮಧ್ಯಪ್ರದೇಶ, ಛತ್ತೀಸ್ಗಢ, ಮಧ್ಯಪ್ರದೇಶ, ರಾಜಸ್ಥಾನ, ಮಧ್ಯಪ್ರದೇಶ, ಮಹಾರಾಷ್ಟ್ರ, ಮಧ್ಯಪ್ರದೇಶ, ಮಧ್ಯಪ್ರದೇಶ, ಛತ್ತೀಸ್ಗಢ, ಮಧ್ಯಪ್ರದೇಶ, ಛತ್ತೀಸ್ಗಢ, ಮಧ್ಯಪ್ರದೇಶ, ಛತ್ತೀಸ್ಗಢ, ಛತ್ತೀಸ್ಗಢ, ಒಡಿಸ್ಸಾ, ಒಡಿಸ್ಸಾ, ಜಾರ್ಖಂಡ್, ಒಡಿಸ್ಸಾ, ಜಾರ್ಖಂಡ್, ಜಾರ್ಖಂಡ್, ಛತ್ತೀಸ್ಗಢ, ಮಧ್ಯಪ್ರದೇಶ, ಮಧ್ಯಪ್ರದೇಶ, ಛತ್ತೀಸ್ಗಢ, ಒಡಿಸ್ಸಾ, ಛತ್ತೀಸ್ಗಢ\n"
          ]
        },
        {
          "metadata": {
            "tags": null
          },
          "name": "stderr",
          "output_type": "stream",
          "text": [
            "100%|██████████| 1/1 [00:00<00:00, 2074.33it/s]\n"
          ]
        },
        {
          "metadata": {
            "tags": null
          },
          "name": "stdout",
          "output_type": "stream",
          "text": [
            "Translated: 3n\n"
          ]
        },
        {
          "metadata": {
            "tags": null
          },
          "name": "stderr",
          "output_type": "stream",
          "text": [
            "100%|██████████| 2/2 [00:00<00:00, 2573.19it/s]\n"
          ]
        },
        {
          "metadata": {
            "tags": null
          },
          "name": "stdout",
          "output_type": "stream",
          "text": [
            "Translated: ಕೃಷಿ ಅಭಿವೃದ್ಧಿಪಡಿಸಲಾಗಿದೆ. ಅಕ್ಕಿಯನ್ನು ಮೊದಲು ಬೆಳೆದ ಸ್ಥಳಗಳು ವಿಂಧ್ಯದ ಉತ್ತರಕ್ಕಿವೆ.\n"
          ]
        },
        {
          "metadata": {
            "tags": null
          },
          "name": "stderr",
          "output_type": "stream",
          "text": [
            "100%|██████████| 1/1 [00:00<00:00, 2608.40it/s]\n"
          ]
        },
        {
          "metadata": {
            "tags": null
          },
          "name": "stdout",
          "output_type": "stream",
          "text": [
            "Translated: ಸಿಂಧೂ ನದಿ ಮತ್ತು ಅದರ ಉಪನದಿಗಳನ್ನು ಪತ್ತೆಹಚ್ಚಿ\n"
          ]
        },
        {
          "metadata": {
            "tags": null
          },
          "name": "stderr",
          "output_type": "stream",
          "text": [
            "100%|██████████| 3/3 [00:00<00:00, 932.00it/s]\n"
          ]
        },
        {
          "metadata": {
            "tags": null
          },
          "name": "stdout",
          "output_type": "stream",
          "text": [
            "Translated: (ಉಪನದಿಗಳು ದೊಡ್ಡ ನದಿಗೆ ಹರಿಯುವ ಸಣ್ಣ ನದಿಗಳು). ಸುಮಾರು 4700 ವರ್ಷಗಳ ಹಿಂದೆ, ಕೆಲವು ಆರಂಭಿಕ ನಗರಗಳು ಈ ನದಿಗಳ ದಡದಲ್ಲಿ ಅಭಿವೃದ್ಧಿ ಹೊಂದಿದವು. ನಂತರ, ಸುಮಾರು 2500 ವರ್ಷಗಳ ಹಿಂದೆ, ಗಂಗಾ ಮತ್ತು ಅದರ ಉಪನದಿಗಳ ದಡದಲ್ಲಿ ಮತ್ತು ಸಮುದ್ರ ತೀರದಲ್ಲಿ ನಗರಗಳು ಅಭಿವೃದ್ಧಿಗೊಂಡವು.\n"
          ]
        },
        {
          "metadata": {
            "tags": null
          },
          "name": "stderr",
          "output_type": "stream",
          "text": [
            "100%|██████████| 12/12 [00:00<00:00, 2379.30it/s]\n"
          ]
        },
        {
          "metadata": {
            "tags": null
          },
          "name": "stdout",
          "output_type": "stream",
          "text": [
            "Translated: ಗಂಗಾ ಮತ್ತು ಅದರ ಉಪನದಿಯಾದ ಸೋನ್ ಅನ್ನು ಗುರುತಿಸಿ. ಪ್ರಾಚೀನ ಕಾಲದಲ್ಲಿ ಗಂಗಾ ನದಿಯ ದಕ್ಷಿಣಕ್ಕೆ ಇರುವ ಪ್ರದೇಶವನ್ನು ಮಗಧ ಎಂದು ಕರೆಯಲಾಗುತ್ತಿತ್ತು. ಅದರ ಆಡಳಿತಗಾರರು ಬಹಳ ಶಕ್ತಿಶಾಲಿಗಳಾಗಿದ್ದರು ಮತ್ತು ದೊಡ್ಡ ರಾಜ್ಯವನ್ನು ಸ್ಥಾಪಿಸಿದರು. ದೇಶದ ಇತರ ಭಾಗಗಳಲ್ಲಿಯೂ ರಾಜ್ಯಗಳು ಸ್ಥಾಪನೆಯಾಗಿದ್ದವು. ಇಡೀ ಉಪಖಂಡದ ಒಂದು ಭಾಗದಿಂದ ಮತ್ತೊಂದು ಭಾಗಕ್ಕೆ ಜನರು ಪ್ರಯಾಣಿಸುತ್ತಿದ್ದರು. ಹಿಮಾಲಯ, ಮರುಭೂಮಿಗಳು, ನದಿಗಳು ಮತ್ತು ಸಮುದ್ರಗಳು ಸೇರಿದಂತೆ ಬೆಟ್ಟಗಳು ಮತ್ತು ಎತ್ತರದ ಪರ್ವತಗಳು ಕೆಲವೊಮ್ಮೆ ಪ್ರಯಾಣವನ್ನು ಅಪಾಯಕಾರಿಯಾಗಿದ್ದವು, ಆದರೆ ಎಂದಿಗೂ ಅಸಾಧ್ಯವಾಗಿರಲಿಲ್ಲ. ಆದ್ದರಿಂದ, ಪುರುಷರು ಮತ್ತು ಮಹಿಳೆಯರು ಜೀವನೋಪಾಯಕ್ಕಾಗಿ, ಪ್ರವಾಹಗಳು ಅಥವಾ ಬರಗಾಲದಂತಹ ನೈಸರ್ಗಿಕ ವಿಕೋಪಗಳಿಂದ ತಪ್ಪಿಸಿಕೊಳ್ಳಲು ಓಡಾಡಿದರು. ಕೆಲವೊಮ್ಮೆ ಪುರುಷರು ಸೈನ್ಯದಲ್ಲಿ ಮೆರವಣಿಗೆ ನಡೆಸಿ, ಇತರರ ದೇಶಗಳನ್ನು ಗೆಲ್ಲುತ್ತಾರೆ. ಇದಲ್ಲದೆ, ವ್ಯಾಪಾರಿಗಳು ಸ್ಥಳದಿಂದ ಸ್ಥಳಕ್ಕೆ ಬೆಲೆಬಾಳುವ ಸರಕುಗಳನ್ನು ಸಾಗಿಸುವ ಸರಕುಗಳು ಅಥವಾ ಹಡಗುಗಳೊಂದಿಗೆ ಪ್ರಯಾಣಿಸುತ್ತಿದ್ದರು. ಧಾರ್ಮಿಕ ಶಿಕ್ಷಕರು ಹಳ್ಳಿಯಿಂದ ಹಳ್ಳಿಗೆ, ಪಟ್ಟಣದಿಂದ ಪಟ್ಟಣಕ್ಕೆ ನಡೆದುಕೊಂಡು ಹೋಗುತ್ತಿದ್ದರು ಮತ್ತು ದಾರಿಯಲ್ಲಿ ಮಾರ್ಗದರ್ಶನ ಮತ್ತು ಸಲಹೆ ನೀಡಲು ನಿಂತಿದ್ದರು. ಅಂತಿಮವಾಗಿ, ಕೆಲವು ಜನರು ಹೊಸ ಮತ್ತು ರೋಮಾಂಚಕ ಸ್ಥಳಗಳನ್ನು ಕಂಡುಹಿಡಿಯಲು ಬಯಸುವ ಸಾಹಸ ಮನೋಭಾವದಿಂದ ಪ್ರೇರಿತರಾಗಿ ಪ್ರಯಾಣಿಸಿದರು. ಇವೆಲ್ಲವೂ ಜನರ ನಡುವೆ ಕಲ್ಪನೆಗಳ ವಿನಿಮಯಕ್ಕೆ ಕಾರಣವಾದವು.\n"
          ]
        },
        {
          "metadata": {
            "tags": null
          },
          "name": "stderr",
          "output_type": "stream",
          "text": [
            "100%|██████████| 1/1 [00:00<00:00, 298.89it/s]\n"
          ]
        },
        {
          "metadata": {
            "tags": null
          },
          "name": "stdout",
          "output_type": "stream",
          "text": [
            "Translated: ಇತ್ತೀಚಿನ ದಿನಗಳಲ್ಲಿ ಜನರು ಏಕೆ ಪ್ರಯಾಣಿಸುತ್ತಾರೆ?\n"
          ]
        },
        {
          "metadata": {
            "tags": null
          },
          "name": "stderr",
          "output_type": "stream",
          "text": [
            "100%|██████████| 4/4 [00:00<00:00, 1551.15it/s]\n"
          ]
        },
        {
          "metadata": {
            "tags": null
          },
          "name": "stdout",
          "output_type": "stream",
          "text": [
            "Translated: ನಕ್ಷೆ 1ನ್ನು ಮತ್ತೊಮ್ಮೆ ನೋಡಿ. ಬೆಟ್ಟಗಳು, ಪರ್ವತಗಳು ಮತ್ತು ಸಮುದ್ರಗಳು ಉಪಖಂಡದ ನೈಸರ್ಗಿಕ ಗಡಿಗಳನ್ನು ರೂಪಿಸುತ್ತವೆ. ಈ ಗಡಿಗಳನ್ನು ದಾಟುವುದು ಕಷ್ಟಕರವಾಗಿದ್ದರೂ, ಯಾರು ಬಯಸಿದ್ದರೋ ಮತ್ತು ಮಾಡಿದ್ದಾರೋ ಅವರು ಪರ್ವತಗಳನ್ನು ಹತ್ತಿ ಸಮುದ್ರವನ್ನು ದಾಟಬಹುದು. ಗಡಿಯಾಚೆಗಿನ ಜನರು ಸಹ ಉಪಖಂಡಕ್ಕೆ ಬಂದು ಇಲ್ಲಿ ನೆಲೆಸಿದ್ದಾರೆ.\n"
          ]
        },
        {
          "metadata": {
            "tags": null
          },
          "name": "stderr",
          "output_type": "stream",
          "text": [
            "100%|██████████| 3/3 [00:00<00:00, 1952.66it/s]\n"
          ]
        },
        {
          "metadata": {
            "tags": null
          },
          "name": "stdout",
          "output_type": "stream",
          "text": [
            "Translated: ಎದುರಿಸುತ್ತಿರುವ ಪುಟಃ ಇದು ದಕ್ಷಿಣ ಏಷ್ಯಾ (ಭಾರತ, ಪಾಕಿಸ್ತಾನ, ಬಾಂಗ್ಲಾದೇಶ, ನೇಪಾಳ, ಭೂತಾನ್ ಮತ್ತು ಶ್ರೀಲಂಕಾ ಸೇರಿದಂತೆ) ಮತ್ತು ಆಫ್ಘಾನಿಸ್ತಾನ, ಇರಾನ್, ಚೀನಾ ಮತ್ತು ಮ್ಯಾನ್ಮಾರ್ ನ ನೆರೆಯ ರಾಷ್ಟ್ರಗಳ ನಕ್ಷೆಯಾಗಿದೆ. ದಕ್ಷಿಣ ಏಷ್ಯಾವನ್ನು ಸಾಮಾನ್ಯವಾಗಿ ಉಪಖಂಡವೆಂದು ಕರೆಯಲಾಗುತ್ತದೆ, ಏಕೆಂದರೆ ಅದು ಖಂಡಕ್ಕಿಂತ ಚಿಕ್ಕದಾಗಿದ್ದರೂ, ಅದು ಬಹಳ ದೊಡ್ಡದಾಗಿದೆ ಮತ್ತು ಸಮುದ್ರಗಳು, ಬೆಟ್ಟಗಳು ಮತ್ತು ಪರ್ವತಗಳಿಂದ ಏಷ್ಯಾದ ಉಳಿದ ಭಾಗಗಳಿಂದ ಬೇರ್ಪಡಿಸಲ್ಪಟ್ಟಿದೆ.\n"
          ]
        },
        {
          "metadata": {
            "tags": null
          },
          "name": "stderr",
          "output_type": "stream",
          "text": [
            "100%|██████████| 1/1 [00:00<00:00, 627.42it/s]\n"
          ]
        },
        {
          "metadata": {
            "tags": null
          },
          "name": "stdout",
          "output_type": "stream",
          "text": [
            "Translated: ಏನು, ಎಲ್ಲಿ, ಹೇಗೆ ಮತ್ತು ಯಾವಾಗ?\n"
          ]
        },
        {
          "metadata": {
            "tags": null
          },
          "name": "stderr",
          "output_type": "stream",
          "text": [
            "100%|██████████| 1/1 [00:00<00:00, 2275.80it/s]\n"
          ]
        },
        {
          "metadata": {
            "tags": null
          },
          "name": "stdout",
          "output_type": "stream",
          "text": [
            "Translated: 2018-19 ನೇ ಸಾಲಿನಲ್ಲಿ ಶೇ.\n"
          ]
        },
        {
          "metadata": {
            "tags": null
          },
          "name": "stderr",
          "output_type": "stream",
          "text": [
            "100%|██████████| 1/1 [00:00<00:00, 724.40it/s]\n"
          ]
        },
        {
          "metadata": {
            "tags": null
          },
          "name": "stdout",
          "output_type": "stream",
          "text": [
            "Translated: (ಒರಿಸ್ಸಾ, ಜಾರ್ಖಂಡ್, ಜಾರ್ಖಂಡ್, ಮಧ್ಯಪ್ರದೇಶ, ಛತ್ತೀಸ್ಗಢ, ಛತ್ತೀಸ್ಗಢ, ಒಡಿಶಾ, ಜಾರ್ಖಂಡ್, ರಾಜಸ್ಥಾನ, ಮಧ್ಯಪ್ರದೇಶ, ಮಹಾರಾಷ್ಟ್ರ, ಒಡಿಸ್ಸಾ, ಜಾರ್ಖಂಡ್, ರಾಜಸ್ಥಾನ, ಮಧ್ಯಪ್ರದೇಶ, ಮಹಾರಾಷ್ಟ್ರ, ಮಧ್ಯಪ್ರದೇಶ, ಛತ್ತೀಸ್ಗಢ, ರಾಜಸ್ಥಾನ, ಮಧ್ಯಪ್ರದೇಶ, ಮಹಾರಾಷ್ಟ್ರ, ಒಡಿಸ್ಸಾ, ಜಾರ್ಖಂಡ್, ಛತ್ತೀಸ್ಗಢ, ಒಡಿಸ್ಸಾ, ಜಾರ್ಖಂಡ್, ಛತ್ತೀಸ್ಗಢ, ಮಧ್ಯಪ್ರದೇಶ, ರಾಜಸ್ಥಾನ, ಮಧ್ಯಪ್ರದೇಶ, ಮಹಾರಾಷ್ಟ್ರ, ಒಡಿಸ್ಸಾ, ಛತ್ತೀಸ್ಗಢ)\n"
          ]
        },
        {
          "metadata": {
            "tags": null
          },
          "name": "stderr",
          "output_type": "stream",
          "text": [
            "100%|██████████| 1/1 [00:00<00:00, 127.80it/s]"
          ]
        },
        {
          "metadata": {
            "tags": null
          },
          "name": "stdout",
          "output_type": "stream",
          "text": [
            "WARNING: Sentence __src__en__ __tgt__kn__ ಗ@@ ಂ@@ ಗ@@ .... ಾ@@ ದ@@ ವ@@ ು . truncated to 200 tokens as it exceeds maximum length limit\n"
          ]
        },
        {
          "metadata": {
            "tags": null
          },
          "name": "stderr",
          "output_type": "stream",
          "text": [
            "\n"
          ]
        },
        {
          "metadata": {
            "tags": null
          },
          "name": "stdout",
          "output_type": "stream",
          "text": [
            "Translated: ಒರಿಸ್ಸಾ, ಜಾರ್ಖಂಡ್, ಜಾರ್ಖಂಡ್, ಛತ್ತೀಸ್ಗಢ, ಮಧ್ಯಪ್ರದೇಶ, ಛತ್ತೀಸ್ಗಢ, ರಾಜಸ್ಥಾನ, ಮಧ್ಯಪ್ರದೇಶ, ಮಹಾರಾಷ್ಟ್ರ, ಛತ್ತೀಸ್ಗಢ, ಒಡಿಸ್ಸಾ, ಜಾರ್ಖಂಡ್, ಜಾರ್ಖಂಡ್, ಮಧ್ಯಪ್ರದೇಶ, ಛತ್ತೀಸ್ಗಢ, ರಾಜಸ್ಥಾನ, ಮಧ್ಯಪ್ರದೇಶ, ಮಹಾರಾಷ್ಟ್ರ, ಮಧ್ಯಪ್ರದೇಶ, ಛತ್ತೀಸ್ಗಢ, ರಾಜಸ್ಥಾನ, ಮಧ್ಯಪ್ರದೇಶ, ಮಹಾರಾಷ್ಟ್ರ, ಛತ್ತೀಸ್ಗಢ, ಒಡಿಸ್ಸಾ, ಜಾರ್ಖಂಡ್, ಜಾರ್ಖಂಡ್, ಜಾರ್ಖಂಡ್, ಛತ್ತೀಸ್ಗಢ, ಜಾರ್ಖಂಡ್, ಜಾರ್ಖಂಡ್, ಛತ್ತೀಸ್ಗಢ, ಜಾರ್ಖಂಡ್, ಜಾರ್ಖಂಡ್, ಜಾರ್ಖಂಡ್, ಮಧ್ಯಪ್ರದೇಶ, ರಾಜಸ್ಥಾನ, ಮಧ್ಯಪ್ರದೇಶ, ಮಹಾರಾಷ್ಟ್ರ, ಮಧ್ಯಪ್ರದೇಶ, ಛತ್ತೀಸ್ಗಢ, ಛತ್ತೀಸ್ಗಢ, ಮಧ್ಯಪ್ರದೇಶ, ರಾಜಸ್ಥಾನ, ಮಧ್ಯಪ್ರದೇಶ, ಮಹಾರಾಷ್ಟ್ರ, ಮಧ್ಯಪ್ರದೇಶ, ಛತ್ತೀಸ್ಗಢ, ಮಧ್ಯಪ್ರದೇಶ, ರಾಜಸ್ಥಾನ, ಮಧ್ಯಪ್ರದೇಶ, ಮಧ್ಯಪ್ರದೇಶ, ಛತ್ತೀಸ್ಗಢ, ಮಧ್ಯಪ್ರದೇಶ, ಛತ್ತೀಸ್ಗಢ, ಮಧ್ಯಪ್ರದೇಶ, ರಾಜಸ್ಥಾನ, ಮಧ್ಯಪ್ರದೇಶ, ಮಹಾರಾಷ್ಟ್ರ, ಮಧ್ಯಪ್ರದೇಶ, ಛತ್ತೀಸ್ಗಢ, ಮಧ್ಯಪ್ರದೇಶ, ಛತ್ತೀಸ್ಗಢ, ಮಧ್ಯಪ್ರದೇಶ, ಒಡಿಸ್ಸಾ, ಜಾರ್ಖಂಡ್, ಒಡಿಸ್ಸಾ, ಜಾರ್ಖಂಡ್, ಛತ್ತೀಸ್ಗಢ, ಒಡಿಸ್ಸಾ, ಮಧ್ಯಪ್ರದೇಶ, ಛತ್ತೀಸ್ಗಢ\n"
          ]
        },
        {
          "metadata": {
            "tags": null
          },
          "name": "stderr",
          "output_type": "stream",
          "text": [
            "100%|██████████| 1/1 [00:00<00:00, 373.36it/s]"
          ]
        },
        {
          "metadata": {
            "tags": null
          },
          "name": "stdout",
          "output_type": "stream",
          "text": [
            "WARNING: Sentence __src__en__ __tgt__kn__ ನ@@ ಕ@@ ್@@ .... ದ@@ ಾ@@ ರ@@ ೆ . truncated to 200 tokens as it exceeds maximum length limit\n"
          ]
        },
        {
          "metadata": {
            "tags": null
          },
          "name": "stderr",
          "output_type": "stream",
          "text": [
            "\n"
          ]
        },
        {
          "metadata": {
            "tags": null
          },
          "name": "stdout",
          "output_type": "stream",
          "text": [
            "Translated: \"\" \"ಅಮೃತ\" \"ಅಮೃತ\" \"ಅಮೃತ\" \"ಅಮೃತ\" \"ಅಮೃತ\" \"ಅಮೃತ\" \"ಅಮೃತ\" \"ಅಮೃತ\" \"ಅಮೃತ\" \"ಅಮೃತ\" \"ಅಮೃತ\" \"ಅಮೃತ\" \"ಅಮೃತ\" \"ಅಮೃತ\" \"ಅಮೃತ\" \"ಅಮೃತ\" \"ಅಮೃತ\" \"ಅಮೃತ\" \"ಅಮೃತ\"\n"
          ]
        },
        {
          "metadata": {
            "tags": null
          },
          "name": "stderr",
          "output_type": "stream",
          "text": [
            "100%|██████████| 1/1 [00:00<00:00, 733.27it/s]\n"
          ]
        },
        {
          "metadata": {
            "tags": null
          },
          "name": "stdout",
          "output_type": "stream",
          "text": [
            "Translated: (ಒರಿಸ್ಸಾ, ಜಾರ್ಖಂಡ್, ಜಾರ್ಖಂಡ್, ಮಧ್ಯಪ್ರದೇಶ, ಛತ್ತೀಸ್ಗಢ, ಛತ್ತೀಸ್ಗಢ, ಒಡಿಶಾ, ಜಾರ್ಖಂಡ್, ರಾಜಸ್ಥಾನ, ಮಧ್ಯಪ್ರದೇಶ, ಮಹಾರಾಷ್ಟ್ರ, ಒಡಿಸ್ಸಾ, ಜಾರ್ಖಂಡ್, ರಾಜಸ್ಥಾನ, ಮಧ್ಯಪ್ರದೇಶ, ಮಹಾರಾಷ್ಟ್ರ, ಮಧ್ಯಪ್ರದೇಶ, ಛತ್ತೀಸ್ಗಢ, ರಾಜಸ್ಥಾನ, ಮಧ್ಯಪ್ರದೇಶ, ಮಹಾರಾಷ್ಟ್ರ, ಒಡಿಸ್ಸಾ, ಜಾರ್ಖಂಡ್, ಛತ್ತೀಸ್ಗಢ, ಒಡಿಸ್ಸಾ, ಜಾರ್ಖಂಡ್, ಛತ್ತೀಸ್ಗಢ, ಮಧ್ಯಪ್ರದೇಶ, ರಾಜಸ್ಥಾನ, ಮಧ್ಯಪ್ರದೇಶ, ಮಹಾರಾಷ್ಟ್ರ, ಒಡಿಸ್ಸಾ, ಛತ್ತೀಸ್ಗಢ)\n"
          ]
        },
        {
          "metadata": {
            "tags": null
          },
          "name": "stderr",
          "output_type": "stream",
          "text": [
            "100%|██████████| 1/1 [00:00<00:00, 74.67it/s]"
          ]
        },
        {
          "metadata": {
            "tags": null
          },
          "name": "stdout",
          "output_type": "stream",
          "text": [
            "WARNING: Sentence __src__en__ __tgt__kn__ ಗ@@ ಂ@@ ಗ@@ .... ಾ@@ ದ@@ ವ@@ ು . truncated to 200 tokens as it exceeds maximum length limit\n"
          ]
        },
        {
          "metadata": {
            "tags": null
          },
          "name": "stderr",
          "output_type": "stream",
          "text": [
            "\n"
          ]
        },
        {
          "metadata": {
            "tags": null
          },
          "name": "stdout",
          "output_type": "stream",
          "text": [
            "Translated: ಒರಿಸ್ಸಾ, ಜಾರ್ಖಂಡ್, ಜಾರ್ಖಂಡ್, ಛತ್ತೀಸ್ಗಢ, ಮಧ್ಯಪ್ರದೇಶ, ಛತ್ತೀಸ್ಗಢ, ರಾಜಸ್ಥಾನ, ಮಧ್ಯಪ್ರದೇಶ, ಮಹಾರಾಷ್ಟ್ರ, ಛತ್ತೀಸ್ಗಢ, ಒಡಿಸ್ಸಾ, ಜಾರ್ಖಂಡ್, ಜಾರ್ಖಂಡ್, ಮಧ್ಯಪ್ರದೇಶ, ಛತ್ತೀಸ್ಗಢ, ರಾಜಸ್ಥಾನ, ಮಧ್ಯಪ್ರದೇಶ, ಮಹಾರಾಷ್ಟ್ರ, ಮಧ್ಯಪ್ರದೇಶ, ಛತ್ತೀಸ್ಗಢ, ರಾಜಸ್ಥಾನ, ಮಧ್ಯಪ್ರದೇಶ, ಮಹಾರಾಷ್ಟ್ರ, ಛತ್ತೀಸ್ಗಢ, ಒಡಿಸ್ಸಾ, ಜಾರ್ಖಂಡ್, ಜಾರ್ಖಂಡ್, ಜಾರ್ಖಂಡ್, ಛತ್ತೀಸ್ಗಢ, ಜಾರ್ಖಂಡ್, ಜಾರ್ಖಂಡ್, ಛತ್ತೀಸ್ಗಢ, ಜಾರ್ಖಂಡ್, ಜಾರ್ಖಂಡ್, ಜಾರ್ಖಂಡ್, ಮಧ್ಯಪ್ರದೇಶ, ರಾಜಸ್ಥಾನ, ಮಧ್ಯಪ್ರದೇಶ, ಮಹಾರಾಷ್ಟ್ರ, ಮಧ್ಯಪ್ರದೇಶ, ಛತ್ತೀಸ್ಗಢ, ಛತ್ತೀಸ್ಗಢ, ಮಧ್ಯಪ್ರದೇಶ, ರಾಜಸ್ಥಾನ, ಮಧ್ಯಪ್ರದೇಶ, ಮಹಾರಾಷ್ಟ್ರ, ಮಧ್ಯಪ್ರದೇಶ, ಛತ್ತೀಸ್ಗಢ, ಮಧ್ಯಪ್ರದೇಶ, ರಾಜಸ್ಥಾನ, ಮಧ್ಯಪ್ರದೇಶ, ಮಧ್ಯಪ್ರದೇಶ, ಛತ್ತೀಸ್ಗಢ, ಮಧ್ಯಪ್ರದೇಶ, ಛತ್ತೀಸ್ಗಢ, ಮಧ್ಯಪ್ರದೇಶ, ರಾಜಸ್ಥಾನ, ಮಧ್ಯಪ್ರದೇಶ, ಮಹಾರಾಷ್ಟ್ರ, ಮಧ್ಯಪ್ರದೇಶ, ಛತ್ತೀಸ್ಗಢ, ಮಧ್ಯಪ್ರದೇಶ, ಛತ್ತೀಸ್ಗಢ, ಮಧ್ಯಪ್ರದೇಶ, ಒಡಿಸ್ಸಾ, ಜಾರ್ಖಂಡ್, ಒಡಿಸ್ಸಾ, ಜಾರ್ಖಂಡ್, ಛತ್ತೀಸ್ಗಢ, ಒಡಿಸ್ಸಾ, ಮಧ್ಯಪ್ರದೇಶ, ಛತ್ತೀಸ್ಗಢ\n"
          ]
        },
        {
          "metadata": {
            "tags": null
          },
          "name": "stderr",
          "output_type": "stream",
          "text": [
            "100%|██████████| 1/1 [00:00<00:00, 202.85it/s]"
          ]
        },
        {
          "metadata": {
            "tags": null
          },
          "name": "stdout",
          "output_type": "stream",
          "text": [
            "WARNING: Sentence __src__en__ __tgt__kn__ ನ@@ ಕ@@ ್@@ .... ದ@@ ಾ@@ ರ@@ ೆ . truncated to 200 tokens as it exceeds maximum length limit\n"
          ]
        },
        {
          "metadata": {
            "tags": null
          },
          "name": "stderr",
          "output_type": "stream",
          "text": [
            "\n"
          ]
        },
        {
          "metadata": {
            "tags": null
          },
          "name": "stdout",
          "output_type": "stream",
          "text": [
            "Translated: \"\" \"ಅಮೃತ\" \"ಅಮೃತ\" \"ಅಮೃತ\" \"ಅಮೃತ\" \"ಅಮೃತ\" \"ಅಮೃತ\" \"ಅಮೃತ\" \"ಅಮೃತ\" \"ಅಮೃತ\" \"ಅಮೃತ\" \"ಅಮೃತ\" \"ಅಮೃತ\" \"ಅಮೃತ\" \"ಅಮೃತ\" \"ಅಮೃತ\" \"ಅಮೃತ\" \"ಅಮೃತ\" \"ಅಮೃತ\" \"ಅಮೃತ\"\n"
          ]
        },
        {
          "metadata": {
            "tags": null
          },
          "name": "stderr",
          "output_type": "stream",
          "text": [
            "100%|██████████| 1/1 [00:00<00:00, 252.91it/s]\n"
          ]
        },
        {
          "metadata": {
            "tags": null
          },
          "name": "stdout",
          "output_type": "stream",
          "text": [
            "Translated: \"\" \"ಮೀನಾಕ್ಷಿ\" \"\" \"ಮೀನಾಕ್ಷಿ\" \"ಮೀನಾಕ್ಷಿ\" \"ಮೀನಾಕ್ಷಿ\" \"ಮೀನಾಕ್ಷಿ\" \"ಮೀನಾಕ್ಷಿ\" \"ಮೀನಾಕ್ಷಿ\" \"ಮೀನಾಕ್ಷಿ\" \"ಮೀನಾಕ್ಷಿ\" \"ಮೀನಾಕ್ಷಿ\" \"ಮೀನಾಕ್ಷಿ\" ಮೀನಾಕ್ಷಿ \"\" ಮೀನಾಕ್ಷಿ \"ಮೀನಾಕ್ಷಿ\" \"ಮೀನಾಕ್ಷಿ\" ಮೀನಾಕ್ಷಿ \"\" ಮೀನಾಕ್ಷಿ \"ಮೀನಾಕ್ಷಿ\" \"ಮೀನಾಕ್ಷಿ\" ಮೀನಾಕ್ಷಿ \"ಮೀನಾಕ್ಷಿ\" \"ಮೀನಾಕ್ಷಿ ಮೀನಾಕ್ಷಿ ಮೀನಾಕ್ಷಿ\" \"ಮೀನಾಕ್ಷಿ ಮೀನಾಕ್ಷಿ ಮೀನಾಕ್ಷಿ ಮೀನಾಕ್ಷಿ ಮೀನಾಕ್ಷಿ ಮೀನಾಕ್ಷಿ\" \"ಮೀನಾಕ್ಷಿ ಮೀನಾಕ್ಷಿ\" \"ಮೀನಾಕ್ಷಿ ಮೀನಾಕ್ಷಿ ಮೀನಾಕ್ಷಿ\" \"ಮೀನಾಕ್ಷಿ ಮೀನಾಕ್ಷಿ ಮೀನಾಕ್ಷಿ\" \"ಮೀನಾಕ್ಷಿ ಮೀನಾಕ್ಷಿ ಮೀನಾಕ್ಷಿ\" \"ಮೀನಾಕ್ಷಿ ಮೀನಾಕ್ಷಿ ಮೀನಾಕ್ಷಿ\" \"ಮೀನಾಕ್ಷಿ ಮೀನಾಕ್ಷಿ ಮೀನಾಕ್ಷಿ ಮೀನಾಕ್ಷಿ\"\n"
          ]
        },
        {
          "metadata": {
            "tags": null
          },
          "name": "stderr",
          "output_type": "stream",
          "text": [
            "100%|██████████| 1/1 [00:00<00:00, 2332.76it/s]\n"
          ]
        },
        {
          "metadata": {
            "tags": null
          },
          "name": "stdout",
          "output_type": "stream",
          "text": [
            "Translated: n 4\n"
          ]
        },
        {
          "metadata": {
            "tags": null
          },
          "name": "stderr",
          "output_type": "stream",
          "text": [
            "100%|██████████| 1/1 [00:00<00:00, 2205.21it/s]\n"
          ]
        },
        {
          "metadata": {
            "tags": null
          },
          "name": "stdout",
          "output_type": "stream",
          "text": [
            "Translated: ನಮ್ಮ ಪಾಸ್-I\n"
          ]
        },
        {
          "metadata": {
            "tags": null
          },
          "name": "stderr",
          "output_type": "stream",
          "text": [
            "100%|██████████| 2/2 [00:00<00:00, 1923.99it/s]\n"
          ]
        },
        {
          "metadata": {
            "tags": null
          },
          "name": "stdout",
          "output_type": "stream",
          "text": [
            "Translated: ಜನರ ಈ ಚಳುವಳಿಗಳು ನಮ್ಮ ಸಾಂಸ್ಕೃತಿಕ ಸಂಪ್ರದಾಯಗಳನ್ನು ಶ್ರೀಮಂತಗೊಳಿಸಿವೆ. ಜನರು ಕಲ್ಲು ಕೆತ್ತನೆ, ಸಂಗೀತ ಸಂಯೋಜನೆ ಮತ್ತು ನೂರಾರು ವರ್ಷಗಳಿಂದ ಆಹಾರವನ್ನು ಬೇಯಿಸುವ ಹೊಸ ವಿಧಾನಗಳನ್ನು ಹಂಚಿಕೊಂಡಿದ್ದಾರೆ.\n"
          ]
        },
        {
          "metadata": {
            "tags": null
          },
          "name": "stderr",
          "output_type": "stream",
          "text": [
            "100%|██████████| 1/1 [00:00<00:00, 966.21it/s]\n"
          ]
        },
        {
          "metadata": {
            "tags": null
          },
          "name": "stdout",
          "output_type": "stream",
          "text": [
            "Translated: ಭೂಮಿಯ ಹೆಸರುಗಳು\n"
          ]
        },
        {
          "metadata": {
            "tags": null
          },
          "name": "stderr",
          "output_type": "stream",
          "text": [
            "100%|██████████| 6/6 [00:00<00:00, 1943.16it/s]\n"
          ]
        },
        {
          "metadata": {
            "tags": null
          },
          "name": "stdout",
          "output_type": "stream",
          "text": [
            "Translated: ನಮ್ಮ ದೇಶಕ್ಕಾಗಿ ನಾವು ಸಾಮಾನ್ಯವಾಗಿ ಬಳಸುವ ಎರಡು ಪದಗಳೆಂದರೆ ಭಾರತ ಮತ್ತು ಭಾರತ. ಸಂಸ್ಕೃತದಲ್ಲಿ ಸಿಂಧೂ ಎಂದು ಕರೆಯಲಾಗುವ ಸಿಂಧೂ ನದಿಯಿಂದ ಭಾರತ ಎಂಬ ಪದ ಬಂದಿದೆ. ನಿಮ್ಮ ಅಟ್ಲಾಸ್ನಲ್ಲಿ ಇರಾನ್ ಮತ್ತು ಗ್ರೀಸ್ ಅನ್ನು ಹುಡುಕಿ. ಸುಮಾರು 2500 ವರ್ಷಗಳ ಹಿಂದೆ ವಾಯುವ್ಯ ದಿಕ್ಕಿನಲ್ಲಿ ಬಂದ ಇರಾನಿಯನ್ನರು ಮತ್ತು ಗ್ರೀಕರು ಸಿಂಧೂ ನದಿಯ ಬಗ್ಗೆ ಪರಿಚಿತರಾಗಿದ್ದರು, ಇದನ್ನು ಹಿಂದೂಗಳು ಅಥವಾ ಇಂಡೋಗಳು ಎಂದು ಕರೆಯಲಾಗುತ್ತಿತ್ತು, ಮತ್ತು ನದಿಯ ಪೂರ್ವದಲ್ಲಿರುವ ಭೂಮಿಯನ್ನು ಭಾರತ ಎಂದು ಕರೆಯಲಾಗುತ್ತಿತ್ತು. ವಾಯುವ್ಯ ಭಾಗದಲ್ಲಿ ವಾಸಿಸುತ್ತಿದ್ದ ಜನರ ಗುಂಪಿಗೆ ಭರತ ಎಂಬ ಹೆಸರನ್ನು ಬಳಸಲಾಗುತ್ತಿತ್ತು, ಮತ್ತು ಅವರನ್ನು ಸಂಸ್ಕೃತದ ಅತ್ಯಂತ ಮುಂಚಿನ ಸಂಯೋಜನೆಯಾದ ಋಗ್ವೇದದಲ್ಲಿ ಉಲ್ಲೇಖಿಸಲಾಗಿದೆ (ಸುಮಾರು 3500 ವರ್ಷಗಳ ಹಿಂದೆ). ನಂತರ ಅದನ್ನು ದೇಶಕ್ಕಾಗಿ ಬಳಸಲಾಯಿತು.\n"
          ]
        },
        {
          "metadata": {
            "tags": null
          },
          "name": "stderr",
          "output_type": "stream",
          "text": [
            "100%|██████████| 1/1 [00:00<00:00, 1007.52it/s]\n"
          ]
        },
        {
          "metadata": {
            "tags": null
          },
          "name": "stdout",
          "output_type": "stream",
          "text": [
            "Translated: ಹಿಂದಿನ ಬಗ್ಗೆ ತಿಳಿಯಿರಿ\n"
          ]
        },
        {
          "metadata": {
            "tags": null
          },
          "name": "stderr",
          "output_type": "stream",
          "text": [
            "100%|██████████| 5/5 [00:00<00:00, 2388.83it/s]\n"
          ]
        },
        {
          "metadata": {
            "tags": null
          },
          "name": "stdout",
          "output_type": "stream",
          "text": [
            "Translated: ಗತಕಾಲದ ಬಗ್ಗೆ ತಿಳಿದುಕೊಳ್ಳಲು ಹಲವಾರು ಮಾರ್ಗಗಳಿವೆ. ಮೊದಲನೆಯದು ಬಹಳ ಹಿಂದೆಯೇ ಬರೆದ ಪುಸ್ತಕಗಳನ್ನು ಹುಡುಕುವುದು ಮತ್ತು ಓದುವುದು. ಇವುಗಳನ್ನು ಹಸ್ತಪ್ರತಿಗಳು ಎಂದು ಕರೆಯಲಾಗುತ್ತದೆ, ಏಕೆಂದರೆ ಅವು ಕೈಯಿಂದ ಬರೆಯಲ್ಪಟ್ಟಿವೆ (ಇದು ಲ್ಯಾಟಿನ್ ಪದ 'ಮನು' ದಿಂದ ಬಂದಿದೆ, ಅಂದರೆ ಕೈ). ಇವುಗಳನ್ನು ಸಾಮಾನ್ಯವಾಗಿ ತಾಳೆ ಎಲೆಯ ಮೇಲೆ ಅಥವಾ ಹಿಮಾಲಯದಲ್ಲಿ ಬೆಳೆಯುವ ಬಿರ್ಚ್ ಎಂದು ಕರೆಯಲ್ಪಡುವ ಮರದ ವಿಶೇಷವಾಗಿ ತಯಾರಿಸಿದ ತೊಗಟೆಯ ಮೇಲೆ ಬರೆಯಲಾಗುತ್ತಿತ್ತು. ಹಲವು ವರ್ಷಗಳಿಂದ ಹಲವು ಹಸ್ತಪ್ರತಿಗಳನ್ನು ಕೀಟಗಳು ತಿಂದು ಹೋಗಿವೆ, ಕೆಲವು ನಾಶವಾಗಿವೆ, ಆದರೆ ಹಲವು ಹಸ್ತಪ್ರತಿಗಳು ನಾಶವಾಗಿವೆ.\n"
          ]
        },
        {
          "metadata": {
            "tags": null
          },
          "name": "stderr",
          "output_type": "stream",
          "text": [
            "100%|██████████| 4/4 [00:00<00:00, 1146.06it/s]\n"
          ]
        },
        {
          "metadata": {
            "tags": null
          },
          "name": "stdout",
          "output_type": "stream",
          "text": [
            "Translated: ತಾಳೆ ಎಲೆಯ ಹಸ್ತಪ್ರತಿಯ ಒಂದು ಪುಟ. ಈ ಹಸ್ತಪ್ರತಿ ಸುಮಾರು ಒಂದು ಸಾವಿರ ವರ್ಷಗಳ ಹಿಂದೆ ಬರೆಯಲ್ಪಟ್ಟಿದೆ. ಖರ್ಜೂರದ ಎಲೆಗಳನ್ನು ಪುಟಗಳಾಗಿ ಕತ್ತರಿಸಿ, ಪುಸ್ತಕಗಳನ್ನು ತಯಾರಿಸಲು ಅವುಗಳನ್ನು ಒಟ್ಟಿಗೆ ಜೋಡಿಸಲಾಗಿತ್ತು. ಬಿರ್ಚ್ ಬೆರಳಿನ ಹಸ್ತಪ್ರತಿಗಳನ್ನು ನೋಡಲು, ಪುಟ 45 ಕ್ಕೆ ತಿರುಗಿ.\n"
          ]
        },
        {
          "metadata": {
            "tags": null
          },
          "name": "stderr",
          "output_type": "stream",
          "text": [
            "100%|██████████| 1/1 [00:00<00:00, 280.24it/s]\n"
          ]
        },
        {
          "metadata": {
            "tags": null
          },
          "name": "stdout",
          "output_type": "stream",
          "text": [
            "Translated: 2018-19 ನೇ ಸಾಲಿನಲ್ಲಿ ಶೇ.\n"
          ]
        },
        {
          "metadata": {
            "tags": null
          },
          "name": "stderr",
          "output_type": "stream",
          "text": [
            "100%|██████████| 1/1 [00:00<00:00, 654.85it/s]\n"
          ]
        },
        {
          "metadata": {
            "tags": null
          },
          "name": "stdout",
          "output_type": "stream",
          "text": [
            "Translated: \"\" \"ಅಮೃತ\" \"ಅಮೃತ\" \"ಅಮೃತ\" \"ಅಮೃತ\" \"ಅಮೃತ\" \"ಅಮೃತ\" \"ಅಮೃತ\" \"ಅಮೃತ\" \"ಅಮೃತ\" \"ಅಮೃತ\" \"ಅಮೃತ\" \"ಅಮೃತ\" \"ಅಮೃತ\" \"ಅಮೃತ\" \"ಅಮೃತ\" \"ಅಮೃತ\" \"ಅಮೃತ\" \"ಅಮೃತ\" \"ಅಮೃತ\" \"ಅಮೃತ\" \"ಅಮೃತ\" \"ಅಮೃತ\" \"ಅಮೃತ\" \"ಅಮೃತ\" \"ಅಮೃತ\" \"ಅಮೃತ\" \"ಅಮೃತ\" \"ಅಮೃತ\" \"ಅಮೃತ\" ಅಮೃತ \"ಅಮೃತ\" ಅಮೃತ \"ಅಮೃತ\" ಅಮೃತ \"\" ಅಮೃತ \"ಅಮೃತ\" \"ಅಮೃತ\" ಅಮೃತ \"ಅಮೃತ\" ಅಮೃತ \"\" ಅಮೃತ \"ಅಮೃತ\" ಅಮೃತ \"\" ಅಮೃತ \"ಅಮೃತ\" ಅಮೃತ \"\" ಅಮೃತ \"ಅಮೃತ\" ಅಮೃತ \"\" ಅಮೃತ \"ಅಮೃತ\" \"ಅಮೃತ\" ಅಮೃತ \"ಅಮೃತ\"\n"
          ]
        },
        {
          "metadata": {
            "tags": null
          },
          "name": "stderr",
          "output_type": "stream",
          "text": [
            "100%|██████████| 1/1 [00:00<00:00, 232.85it/s]"
          ]
        },
        {
          "metadata": {
            "tags": null
          },
          "name": "stdout",
          "output_type": "stream",
          "text": [
            "WARNING: Sentence __src__en__ __tgt__kn__ ನ@@ ಮ@@ ್@@ .... ಯ@@ ಿ@@ ತ@@ ು . truncated to 200 tokens as it exceeds maximum length limit\n"
          ]
        },
        {
          "metadata": {
            "tags": null
          },
          "name": "stderr",
          "output_type": "stream",
          "text": [
            "\n"
          ]
        },
        {
          "metadata": {
            "tags": null
          },
          "name": "stdout",
          "output_type": "stream",
          "text": [
            "Translated: ಒರಿಸ್ಸಾ, ಜಾರ್ಖಂಡ್, ಜಾರ್ಖಂಡ್, ಛತ್ತೀಸ್ಗಢ, ಮಧ್ಯಪ್ರದೇಶ, ಛತ್ತೀಸ್ಗಢ, ರಾಜಸ್ಥಾನ, ಮಧ್ಯಪ್ರದೇಶ, ಛತ್ತೀಸ್ಗಢ, ಒಡಿಸ್ಸಾ, ಮಧ್ಯಪ್ರದೇಶ, ಬಿಹಾರ, ಜಾರ್ಖಂಡ್, ಜಾರ್ಖಂಡ್, ಛತ್ತೀಸ್ಗಢ, ಛತ್ತೀಸ್ಗಢ, ಮಧ್ಯಪ್ರದೇಶ, ಮಹಾರಾಷ್ಟ್ರ, ಒಡಿಸ್ಸಾ, ಜಾರ್ಖಂಡ್, ಬಿಹಾರ, ಜಾರ್ಖಂಡ್, ಜಾರ್ಖಂಡ್, ಜಾರ್ಖಂಡ್, ಜಾರ್ಖಂಡ್, ಛತ್ತೀಸ್ಗಢ, ಮಧ್ಯಪ್ರದೇಶ, ಒಡಿಸ್ಸಾ, ರಾಜಸ್ಥಾನ, ಮಧ್ಯಪ್ರದೇಶ, ಮಹಾರಾಷ್ಟ್ರ, ಒಡಿಸ್ಸಾ, ಮಧ್ಯಪ್ರದೇಶ, ಛತ್ತೀಸ್ಗಢ, ಒಡಿಸ್ಸಾ, ಜಾರ್ಖಂಡ್, ಜಾರ್ಖಂಡ್, ಜಾರ್ಖಂಡ್, ಛತ್ತೀಸ್ಗಢ, ಜಾರ್ಖಂಡ್, ಛತ್ತೀಸ್ಗಢ, ಜಾರ್ಖಂಡ್, ಮಧ್ಯಪ್ರದೇಶ, ಒಡಿಸ್ಸಾ, ಜಾರ್ಖಂಡ್, ಜಾರ್ಖಂಡ್, ಒಡಿಸ್ಸಾ, ಮಧ್ಯಪ್ರದೇಶ, ಛತ್ತೀಸ್ಗಢ, ಒಡಿಸ್ಸಾ, ಜಾರ್ಖಂಡ್, ಜಾರ್ಖಂಡ್, ಛತ್ತೀಸ್ಗಢ, ಮಧ್ಯಪ್ರದೇಶ, ಒಡಿಸ್ಸಾ, ಜಾರ್ಖಂಡ್, ಜಾರ್ಖಂಡ್, ಜಾರ್ಖಂಡ್, ಮಧ್ಯಪ್ರದೇಶ, ಛತ್ತೀಸ್ಗಢ, ಜಾರ್ಖಂಡ್, ಛತ್ತೀಸ್ಗಢ\n"
          ]
        },
        {
          "metadata": {
            "tags": null
          },
          "name": "stderr",
          "output_type": "stream",
          "text": [
            "100%|██████████| 1/1 [00:00<00:00, 229.79it/s]"
          ]
        },
        {
          "metadata": {
            "tags": null
          },
          "name": "stdout",
          "output_type": "stream",
          "text": [
            "WARNING: Sentence __src__en__ __tgt__kn__ ಗ@@ ತ@@ ಕ@@ .... ಗ@@ ಿ@@ ವ@@ ೆ . truncated to 200 tokens as it exceeds maximum length limit\n"
          ]
        },
        {
          "metadata": {
            "tags": null
          },
          "name": "stderr",
          "output_type": "stream",
          "text": [
            "\n"
          ]
        },
        {
          "metadata": {
            "tags": null
          },
          "name": "stdout",
          "output_type": "stream",
          "text": [
            "Translated: ಒರಿಸ್ಸಾ, ಜಾರ್ಖಂಡ್, ಜಾರ್ಖಂಡ್, ಛತ್ತೀಸ್ಗಢ, ಒಡಿಶಾ, ಛತ್ತೀಸ್ಗಢ, ಜಾರ್ಖಂಡ್, ಮಧ್ಯಪ್ರದೇಶ, ಮಹಾರಾಷ್ಟ್ರ, ರಾಜಸ್ಥಾನ, ಮಧ್ಯಪ್ರದೇಶ, ಒಡಿಸ್ಸಾ, ಬಿಹಾರ, ಜಾರ್ಖಂಡ್, ಛತ್ತೀಸ್ಗಢ, ಜಾರ್ಖಂಡ್, ಛತ್ತೀಸ್ಗಢ, ರಾಜಸ್ಥಾನ, ಮಧ್ಯಪ್ರದೇಶ, ಮಹಾರಾಷ್ಟ್ರ, ಒಡಿಸ್ಸಾ, ಜಾರ್ಖಂಡ್, ಜಾರ್ಖಂಡ್, ಛತ್ತೀಸ್ಗಢ, ಮಧ್ಯಪ್ರದೇಶ, ರಾಜಸ್ಥಾನ, ಮಧ್ಯಪ್ರದೇಶ, ಮಹಾರಾಷ್ಟ್ರ, ಒಡಿಸ್ಸಾ, ಛತ್ತೀಸ್ಗಢ, ಮಧ್ಯಪ್ರದೇಶ, ರಾಜಸ್ಥಾನ, ಮಧ್ಯಪ್ರದೇಶ, ಮಹಾರಾಷ್ಟ್ರ, ಒಡಿಸ್ಸಾ, ಛತ್ತೀಸ್ಗಢ, ಮಧ್ಯಪ್ರದೇಶ, ರಾಜಸ್ಥಾನ, ಮಧ್ಯಪ್ರದೇಶ, ಮಹಾರಾಷ್ಟ್ರ, ಒಡಿಸ್ಸಾ, ಛತ್ತೀಸ್ಗಢ, ಮಧ್ಯಪ್ರದೇಶ, ಛತ್ತೀಸ್ಗಢ, ರಾಜಸ್ಥಾನ, ಮಧ್ಯಪ್ರದೇಶ, ಮಹಾರಾಷ್ಟ್ರ, ಮಧ್ಯಪ್ರದೇಶ, ಒಡಿಸ್ಸಾ, ಛತ್ತೀಸ್ಗಢ, ಒಡಿಸ್ಸಾ, ಜಾರ್ಖಂಡ್, ಮಧ್ಯಪ್ರದೇಶ, ರಾಜಸ್ಥಾನ, ಒಡಿಸ್ಸಾ, ಮಧ್ಯಪ್ರದೇಶ, ಛತ್ತೀಸ್ಗಢ, ಒಡಿಸ್ಸಾ, ಛತ್ತೀಸ್ಗಢ, ಮಧ್ಯಪ್ರದೇಶ, ಒಡಿಸ್ಸಾ, ಜಾರ್ಖಂಡ್, ಛತ್ತೀಸ್ಗಢ, ಮಧ್ಯಪ್ರದೇಶ, ಒಡಿಸ್ಸಾ, ಜಾರ್ಖಂಡ್, ಮಧ್ಯಪ್ರದೇಶ, ಛತ್ತೀಸ್ಗಢ, ಮಧ್ಯಪ್ರದೇಶ, ಒಡಿಸ್ಸಾ\n"
          ]
        },
        {
          "metadata": {
            "tags": null
          },
          "name": "stderr",
          "output_type": "stream",
          "text": [
            "100%|██████████| 1/1 [00:00<00:00, 843.42it/s]\n"
          ]
        },
        {
          "metadata": {
            "tags": null
          },
          "name": "stdout",
          "output_type": "stream",
          "text": [
            "Translated: \"\" \"ಅಮೃತ\" \"ಅಮೃತ\" \"ಅಮೃತ\" \"ಅಮೃತ\" \"ಅಮೃತ\" \"ಅಮೃತ\" \"ಅಮೃತ\" \"ಅಮೃತ\" \"ಅಮೃತ\" \"ಅಮೃತ\" \"ಅಮೃತ\" \"ಅಮೃತ\" \"ಅಮೃತ\" \"ಅಮೃತ\" \"ಅಮೃತ\" \"ಅಮೃತ\" \"ಅಮೃತ\" \"ಅಮೃತ\" \"ಅಮೃತ\" \"ಅಮೃತ\" \"ಅಮೃತ\" \"ಅಮೃತ\" \"ಅಮೃತ\" \"ಅಮೃತ\" \"ಅಮೃತ\" \"ಅಮೃತ\" \"ಅಮೃತ\" \"ಅಮೃತ\" \"ಅಮೃತ\" ಅಮೃತ \"ಅಮೃತ\" ಅಮೃತ \"ಅಮೃತ\" ಅಮೃತ \"\" ಅಮೃತ \"ಅಮೃತ\" \"ಅಮೃತ\" ಅಮೃತ \"ಅಮೃತ\" ಅಮೃತ \"\" ಅಮೃತ \"ಅಮೃತ\" ಅಮೃತ \"\" ಅಮೃತ \"ಅಮೃತ\" ಅಮೃತ \"\" ಅಮೃತ \"ಅಮೃತ\" ಅಮೃತ \"\" ಅಮೃತ \"ಅಮೃತ\" \"ಅಮೃತ\" ಅಮೃತ \"ಅಮೃತ\"\n"
          ]
        },
        {
          "metadata": {
            "tags": null
          },
          "name": "stderr",
          "output_type": "stream",
          "text": [
            "100%|██████████| 1/1 [00:00<00:00, 338.74it/s]"
          ]
        },
        {
          "metadata": {
            "tags": null
          },
          "name": "stdout",
          "output_type": "stream",
          "text": [
            "WARNING: Sentence __src__en__ __tgt__kn__ ನ@@ ಮ@@ ್@@ .... ಯ@@ ಿ@@ ತ@@ ು . truncated to 200 tokens as it exceeds maximum length limit\n"
          ]
        },
        {
          "metadata": {
            "tags": null
          },
          "name": "stderr",
          "output_type": "stream",
          "text": [
            "\n"
          ]
        },
        {
          "metadata": {
            "tags": null
          },
          "name": "stdout",
          "output_type": "stream",
          "text": [
            "Translated: ಒರಿಸ್ಸಾ, ಜಾರ್ಖಂಡ್, ಜಾರ್ಖಂಡ್, ಛತ್ತೀಸ್ಗಢ, ಮಧ್ಯಪ್ರದೇಶ, ಛತ್ತೀಸ್ಗಢ, ರಾಜಸ್ಥಾನ, ಮಧ್ಯಪ್ರದೇಶ, ಛತ್ತೀಸ್ಗಢ, ಒಡಿಸ್ಸಾ, ಮಧ್ಯಪ್ರದೇಶ, ಬಿಹಾರ, ಜಾರ್ಖಂಡ್, ಜಾರ್ಖಂಡ್, ಛತ್ತೀಸ್ಗಢ, ಛತ್ತೀಸ್ಗಢ, ಮಧ್ಯಪ್ರದೇಶ, ಮಹಾರಾಷ್ಟ್ರ, ಒಡಿಸ್ಸಾ, ಜಾರ್ಖಂಡ್, ಬಿಹಾರ, ಜಾರ್ಖಂಡ್, ಜಾರ್ಖಂಡ್, ಜಾರ್ಖಂಡ್, ಜಾರ್ಖಂಡ್, ಛತ್ತೀಸ್ಗಢ, ಮಧ್ಯಪ್ರದೇಶ, ಒಡಿಸ್ಸಾ, ರಾಜಸ್ಥಾನ, ಮಧ್ಯಪ್ರದೇಶ, ಮಹಾರಾಷ್ಟ್ರ, ಒಡಿಸ್ಸಾ, ಮಧ್ಯಪ್ರದೇಶ, ಛತ್ತೀಸ್ಗಢ, ಒಡಿಸ್ಸಾ, ಜಾರ್ಖಂಡ್, ಜಾರ್ಖಂಡ್, ಜಾರ್ಖಂಡ್, ಛತ್ತೀಸ್ಗಢ, ಜಾರ್ಖಂಡ್, ಛತ್ತೀಸ್ಗಢ, ಜಾರ್ಖಂಡ್, ಮಧ್ಯಪ್ರದೇಶ, ಒಡಿಸ್ಸಾ, ಜಾರ್ಖಂಡ್, ಜಾರ್ಖಂಡ್, ಒಡಿಸ್ಸಾ, ಮಧ್ಯಪ್ರದೇಶ, ಛತ್ತೀಸ್ಗಢ, ಒಡಿಸ್ಸಾ, ಜಾರ್ಖಂಡ್, ಜಾರ್ಖಂಡ್, ಛತ್ತೀಸ್ಗಢ, ಮಧ್ಯಪ್ರದೇಶ, ಒಡಿಸ್ಸಾ, ಜಾರ್ಖಂಡ್, ಜಾರ್ಖಂಡ್, ಜಾರ್ಖಂಡ್, ಮಧ್ಯಪ್ರದೇಶ, ಛತ್ತೀಸ್ಗಢ, ಜಾರ್ಖಂಡ್, ಛತ್ತೀಸ್ಗಢ\n"
          ]
        },
        {
          "metadata": {
            "tags": null
          },
          "name": "stderr",
          "output_type": "stream",
          "text": [
            "100%|██████████| 1/1 [00:00<00:00, 326.23it/s]"
          ]
        },
        {
          "metadata": {
            "tags": null
          },
          "name": "stdout",
          "output_type": "stream",
          "text": [
            "WARNING: Sentence __src__en__ __tgt__kn__ ಗ@@ ತ@@ ಕ@@ .... ಗ@@ ಿ@@ ವ@@ ೆ . truncated to 200 tokens as it exceeds maximum length limit\n"
          ]
        },
        {
          "metadata": {
            "tags": null
          },
          "name": "stderr",
          "output_type": "stream",
          "text": [
            "\n"
          ]
        },
        {
          "metadata": {
            "tags": null
          },
          "name": "stdout",
          "output_type": "stream",
          "text": [
            "Translated: ಒರಿಸ್ಸಾ, ಜಾರ್ಖಂಡ್, ಜಾರ್ಖಂಡ್, ಛತ್ತೀಸ್ಗಢ, ಒಡಿಶಾ, ಛತ್ತೀಸ್ಗಢ, ಜಾರ್ಖಂಡ್, ಮಧ್ಯಪ್ರದೇಶ, ಮಹಾರಾಷ್ಟ್ರ, ರಾಜಸ್ಥಾನ, ಮಧ್ಯಪ್ರದೇಶ, ಒಡಿಸ್ಸಾ, ಬಿಹಾರ, ಜಾರ್ಖಂಡ್, ಛತ್ತೀಸ್ಗಢ, ಜಾರ್ಖಂಡ್, ಛತ್ತೀಸ್ಗಢ, ರಾಜಸ್ಥಾನ, ಮಧ್ಯಪ್ರದೇಶ, ಮಹಾರಾಷ್ಟ್ರ, ಒಡಿಸ್ಸಾ, ಜಾರ್ಖಂಡ್, ಜಾರ್ಖಂಡ್, ಛತ್ತೀಸ್ಗಢ, ಮಧ್ಯಪ್ರದೇಶ, ರಾಜಸ್ಥಾನ, ಮಧ್ಯಪ್ರದೇಶ, ಮಹಾರಾಷ್ಟ್ರ, ಒಡಿಸ್ಸಾ, ಛತ್ತೀಸ್ಗಢ, ಮಧ್ಯಪ್ರದೇಶ, ರಾಜಸ್ಥಾನ, ಮಧ್ಯಪ್ರದೇಶ, ಮಹಾರಾಷ್ಟ್ರ, ಒಡಿಸ್ಸಾ, ಛತ್ತೀಸ್ಗಢ, ಮಧ್ಯಪ್ರದೇಶ, ರಾಜಸ್ಥಾನ, ಮಧ್ಯಪ್ರದೇಶ, ಮಹಾರಾಷ್ಟ್ರ, ಒಡಿಸ್ಸಾ, ಛತ್ತೀಸ್ಗಢ, ಮಧ್ಯಪ್ರದೇಶ, ಛತ್ತೀಸ್ಗಢ, ರಾಜಸ್ಥಾನ, ಮಧ್ಯಪ್ರದೇಶ, ಮಹಾರಾಷ್ಟ್ರ, ಮಧ್ಯಪ್ರದೇಶ, ಒಡಿಸ್ಸಾ, ಛತ್ತೀಸ್ಗಢ, ಒಡಿಸ್ಸಾ, ಜಾರ್ಖಂಡ್, ಮಧ್ಯಪ್ರದೇಶ, ರಾಜಸ್ಥಾನ, ಒಡಿಸ್ಸಾ, ಮಧ್ಯಪ್ರದೇಶ, ಛತ್ತೀಸ್ಗಢ, ಒಡಿಸ್ಸಾ, ಛತ್ತೀಸ್ಗಢ, ಮಧ್ಯಪ್ರದೇಶ, ಒಡಿಸ್ಸಾ, ಜಾರ್ಖಂಡ್, ಛತ್ತೀಸ್ಗಢ, ಮಧ್ಯಪ್ರದೇಶ, ಒಡಿಸ್ಸಾ, ಜಾರ್ಖಂಡ್, ಮಧ್ಯಪ್ರದೇಶ, ಛತ್ತೀಸ್ಗಢ, ಮಧ್ಯಪ್ರದೇಶ, ಒಡಿಸ್ಸಾ\n"
          ]
        },
        {
          "metadata": {
            "tags": null
          },
          "name": "stderr",
          "output_type": "stream",
          "text": [
            "100%|██████████| 1/1 [00:00<00:00, 1041.55it/s]\n"
          ]
        },
        {
          "metadata": {
            "tags": null
          },
          "name": "stdout",
          "output_type": "stream",
          "text": [
            "Translated: 5 ಎನ್\n"
          ]
        },
        {
          "metadata": {
            "tags": null
          },
          "name": "stderr",
          "output_type": "stream",
          "text": [
            "100%|██████████| 10/10 [00:00<00:00, 3403.91it/s]\n"
          ]
        },
        {
          "metadata": {
            "tags": null
          },
          "name": "stdout",
          "output_type": "stream",
          "text": [
            "Translated: ಅವರು ಬದುಕುಳಿದಿದ್ದಾರೆ, ಹೆಚ್ಚಾಗಿ ದೇವಾಲಯಗಳು ಮತ್ತು ಮಠಗಳಲ್ಲಿ ಸಂರಕ್ಷಿಸಲ್ಪಟ್ಟಿದ್ದಾರೆ. ಈ ಪುಸ್ತಕಗಳು ಎಲ್ಲಾ ಬಗೆಯ ವಿಷಯಗಳನ್ನು ಒಳಗೊಂಡಿವೆಃ ಧಾರ್ಮಿಕ ನಂಬಿಕೆಗಳು ಮತ್ತು ಆಚರಣೆಗಳು, ರಾಜರ ಬದುಕು, ಔಷಧ ಮತ್ತು ವಿಜ್ಞಾನ. ಇದಲ್ಲದೆ, ಮಹಾಕಾವ್ಯಗಳು, ಕವನಗಳು, ನಾಟಕಗಳು ಇದ್ದವು. ಇವುಗಳಲ್ಲಿ ಹೆಚ್ಚಿನವು ಸಂಸ್ಕೃತದಲ್ಲಿ ಬರೆಯಲ್ಪಟ್ಟವು, ಇತರವು ಪ್ರಾಕೃತ (ಸಾಮಾನ್ಯ ಜನರು ಬಳಸುವ ಭಾಷೆಗಳು) ಮತ್ತು ತಮಿಳಿನಲ್ಲಿ ಬರೆಯಲ್ಪಟ್ಟವು. ನಾವು ಶಾಸನಗಳನ್ನು ಸಹ ಅಧ್ಯಯನ ಮಾಡಬಹುದು. ಇವು ಕಲ್ಲು ಅಥವಾ ಲೋಹದಂತಹ ತುಲನಾತ್ಮಕವಾಗಿ ಗಟ್ಟಿಯಾದ ಮೇಲ್ಮೈಗಳ ಮೇಲಿನ ಬರಹಗಳಾಗಿವೆ. ಕೆಲವೊಮ್ಮೆ, ಜನರು ನೋಡುವಂತೆ, ಓದುವಂತೆ ಮತ್ತು ವಿಧೇಯರಾಗುವಂತೆ ರಾಜರು ತಮ್ಮ ಆದೇಶಗಳನ್ನು ಬರೆದಿಡುತ್ತಿದ್ದರು. ಇತರ ರೀತಿಯ ಶಾಸನಗಳಿವೆ, ಅಲ್ಲಿ ಪುರುಷರು ಮತ್ತು ಮಹಿಳೆಯರು (ರಾಜರು ಮತ್ತು ರಾಣಿಯರು ಸೇರಿದಂತೆ) ಅವರು ಏನು ಮಾಡಿದರು ಎಂಬುದನ್ನು ದಾಖಲಿಸಿದ್ದಾರೆ. ಉದಾಹರಣೆಗೆ, ರಾಜರು ಹಲವುವೇಳೆ ಯುದ್ಧದಲ್ಲಿ ಜಯಗಳಿಸಿದ ದಾಖಲೆಗಳನ್ನು ಇಟ್ಟುಕೊಳ್ಳುತ್ತಿದ್ದರು.\n"
          ]
        },
        {
          "metadata": {
            "tags": null
          },
          "name": "stderr",
          "output_type": "stream",
          "text": [
            "100%|██████████| 2/2 [00:00<00:00, 2331.46it/s]\n"
          ]
        },
        {
          "metadata": {
            "tags": null
          },
          "name": "stdout",
          "output_type": "stream",
          "text": [
            "Translated: ಕಠಿಣ ಮೇಲ್ಮೈ ಮೇಲೆ ಬರೆಯುವುದರಿಂದ ಆಗುವ ಪ್ರಯೋಜನಗಳ ಬಗ್ಗೆ ನೀವು ಯೋಚಿಸಬಹುದೇ? ಮತ್ತು ಕಷ್ಟಗಳು ಏನಿರಬಹುದು?\n"
          ]
        },
        {
          "metadata": {
            "tags": null
          },
          "name": "stderr",
          "output_type": "stream",
          "text": [
            "100%|██████████| 6/6 [00:00<00:00, 2691.53it/s]\n"
          ]
        },
        {
          "metadata": {
            "tags": null
          },
          "name": "stdout",
          "output_type": "stream",
          "text": [
            "Translated: ಈ ಹಿಂದೆ ಅನೇಕ ಇತರ ವಸ್ತುಗಳನ್ನು ತಯಾರಿಸಿ ಬಳಸಲಾಗಿತ್ತು. ಈ ವಸ್ತುಗಳನ್ನು ಅಧ್ಯಯನ ಮಾಡುವವರನ್ನು ಪುರಾತತ್ವಶಾಸ್ತ್ರಜ್ಞರು ಎಂದು ಕರೆಯಲಾಗುತ್ತದೆ. ಅವರು ಕಲ್ಲು ಮತ್ತು ಇಟ್ಟಿಗೆಯಿಂದ ಮಾಡಿದ ಕಟ್ಟಡಗಳ ಅವಶೇಷಗಳು, ವರ್ಣಚಿತ್ರಗಳು ಮತ್ತು ಶಿಲ್ಪಕಲೆಯನ್ನು ಅಧ್ಯಯನ ಮಾಡುತ್ತಾರೆ. ಅವರು ಉಪಕರಣಗಳು, ಶಸ್ತ್ರಾಸ್ತ್ರಗಳು, ಮಡಿಕೆಗಳು, ಪ್ಯಾನ್ಗಳು, ಆಭರಣಗಳು ಮತ್ತು ನಾಣ್ಯಗಳನ್ನು ಕಂಡುಹಿಡಿಯಲು (ಭೂಮಿಯ ಮೇಲ್ಮೈಯ ಕೆಳಗೆ ಅಗೆಯುವುದು) ಶೋಧನೆ ಮತ್ತು ಉತ್ಖನನ ಮಾಡುತ್ತಾರೆ. ಈ ವಸ್ತುಗಳಲ್ಲಿ ಕೆಲವು ಕಲ್ಲಿನಿಂದ ಮಾಡಲ್ಪಟ್ಟಿರಬಹುದು, ಇತರವು ಮೂಳೆ, ಬೇಕ್ ಮಾಡಿದ ಮಣ್ಣಿನಿಂದ ಅಥವಾ ಲೋಹದಿಂದ ಮಾಡಲ್ಪಟ್ಟಿರಬಹುದು. ಗಟ್ಟಿಯಾದ, ನಾಶವಾಗದ ವಸ್ತುಗಳಿಂದ ಮಾಡಲ್ಪಟ್ಟ ವಸ್ತುಗಳು ಸಾಮಾನ್ಯವಾಗಿ ದೀರ್ಘಕಾಲ ಬಾಳಿಕೆ ಬರುತ್ತವೆ.\n"
          ]
        },
        {
          "metadata": {
            "tags": null
          },
          "name": "stderr",
          "output_type": "stream",
          "text": [
            "100%|██████████| 8/8 [00:00<00:00, 1019.86it/s]\n"
          ]
        },
        {
          "metadata": {
            "tags": null
          },
          "name": "stdout",
          "output_type": "stream",
          "text": [
            "Translated: ಹಳೆಯ ಕೆತ್ತನೆ. ಈ ಶಾಸನವು ಸುಮಾರು 2250 ವರ್ಷಗಳ ಹಿಂದೆ ಕಂಡುಬಂದಿದೆ ಮತ್ತು ಪ್ರಸ್ತುತ ಆಫ್ಘಾನಿಸ್ತಾನದ ಕಂದಹಾರ್ ನಲ್ಲಿ ಕಂಡುಬಂದಿದೆ. ಇದನ್ನು ಅಶೋಕನ ಆದೇಶದ ಮೇರೆಗೆ ಕೆತ್ತಲಾಗಿದೆ. ನೀವು ಅವರ ಬಗ್ಗೆ 8ನೇ ಅಧ್ಯಾಯದಲ್ಲಿ ಓದುತ್ತೀರಿ. ನಾವು ಏನನ್ನಾದರೂ ಬರೆಯುವಾಗ, ನಾವು ಸ್ಕ್ರಿಪ್ಟ್ ಬಳಸುತ್ತೇವೆ. ಸ್ಕ್ರಿಪ್ಟ್ಗಳು ಅಕ್ಷರಗಳು ಅಥವಾ ಚಿಹ್ನೆಗಳನ್ನು ಹೊಂದಿರುತ್ತವೆ. ಬರೆಯಲ್ಪಟ್ಟದ್ದನ್ನು ನಾವು ಓದುವಾಗ ಅಥವಾ ಮಾತನಾಡುವಾಗ, ನಾವು ಒಂದು ಭಾಷೆಯನ್ನು ಬಳಸುತ್ತೇವೆ. ಈ ಶಾಸನವು ಗ್ರೀಕ್ (ಮೇಲ್ಭಾಗ) ಮತ್ತು ಅರಮೇಯಿಕ್ (ಕೆಳಭಾಗ) ಎಂಬ ಎರಡು ವಿಭಿನ್ನ ಲಿಪಿಯಲ್ಲಿ ಮತ್ತು ಭಾಷೆಗಳಲ್ಲಿ ಕೆತ್ತಲ್ಪಟ್ಟಿತ್ತು.\n"
          ]
        },
        {
          "metadata": {
            "tags": null
          },
          "name": "stderr",
          "output_type": "stream",
          "text": [
            "100%|██████████| 1/1 [00:00<00:00, 905.70it/s]\n"
          ]
        },
        {
          "metadata": {
            "tags": null
          },
          "name": "stdout",
          "output_type": "stream",
          "text": [
            "Translated: ಏನು, ಹೇಗೆ ಮತ್ತು ಯಾವಾಗ?\n"
          ]
        },
        {
          "metadata": {
            "tags": null
          },
          "name": "stderr",
          "output_type": "stream",
          "text": [
            "100%|██████████| 1/1 [00:00<00:00, 419.85it/s]\n"
          ]
        },
        {
          "metadata": {
            "tags": null
          },
          "name": "stdout",
          "output_type": "stream",
          "text": [
            "Translated: 2018-19 ನೇ ಸಾಲಿನಲ್ಲಿ ಶೇ.\n"
          ]
        },
        {
          "metadata": {
            "tags": null
          },
          "name": "stderr",
          "output_type": "stream",
          "text": [
            "100%|██████████| 1/1 [00:00<00:00, 124.95it/s]"
          ]
        },
        {
          "metadata": {
            "tags": null
          },
          "name": "stdout",
          "output_type": "stream",
          "text": [
            "WARNING: Sentence __src__en__ __tgt__kn__ ಅ@@ ವ@@ ರ@@ .... ್@@ ದ@@ ರ@@ ು . truncated to 200 tokens as it exceeds maximum length limit\n"
          ]
        },
        {
          "metadata": {
            "tags": null
          },
          "name": "stderr",
          "output_type": "stream",
          "text": [
            "\n"
          ]
        },
        {
          "metadata": {
            "tags": null
          },
          "name": "stdout",
          "output_type": "stream",
          "text": [
            "Translated: ಸಂಜೆಯ ಸಂಜೆಯ ಸಂಜೆಯ ಸಂಜೆಯ ಸಂಜೆಯ ಸಂಜೆಯ ಸಂಜೆಯ ಸಂಜೆಯ ಸಂಜೆಯ ಸಂಜೆಯ ಸಂಜೆಯ ಸಂಜೆಯ ಸಂಜೆಯ ಸಂಜೆಯ ಸಂಜೆಯ ಸಂಜೆಯ ಸಂಜೆಯ ಸಂಜೆಯ ಸಂಜೆಯ ಸಂಜೆಯ ಸಂಜೆಯ ಸಂಜೆಯ ಸಂಜೆಯ ಸಂಜೆಯ ಸಂಜೆಯ ಸಂಜೆಯ ಸಂಜೆಯ ಸಂಜೆಯ ಸಂಜೆಯ ಸಂಜೆಯ ಸಂಜೆಯ ಸಂಜೆಯ ಸಂಜೆಯ ಸಂಜೆಯ ಸಂಜೆಯ ಸಂಜೆಯ ಸಂಜೆಯ ಸಂಜೆಯ ಸಂಜೆಯ ಸಂಜೆ ಸಂಜೆಯ ಸಂಜೆಯ ಸಂಜೆಯ ಸಂಜೆಯ ಸಂಜೆಯ ಸಂಜೆಯ ಸಂಜೆಯ ಸಂಜೆಯ ಸಂಜೆಯ ಸಂಜೆಯ ಸಂಜೆಯ ಸಂಜೆಯ ಸಂಜೆಯ ಸಂಜೆಯ ಸಂಜೆಯ ಸಂಜೆಯ ಸಂಜೆಯ ಸಂಜೆಯ ಸಂಜೆಯ ಸಂಜೆಯ ಸಂಜೆಯ ಸಂಜೆಯ ಸಂಜೆಯ ಸಂಜೆಯ ಸಂಜೆಯ ಸಂಜೆಯ ಸಂಜೆಯ\n"
          ]
        },
        {
          "metadata": {
            "tags": null
          },
          "name": "stderr",
          "output_type": "stream",
          "text": [
            "100%|██████████| 1/1 [00:00<00:00, 852.50it/s]\n"
          ]
        },
        {
          "metadata": {
            "tags": null
          },
          "name": "stdout",
          "output_type": "stream",
          "text": [
            "Translated: \"\" \"\" \"\" \"\" \"\" \"\" \"\" \"\" \"\" \"\" \"\" \"\" \"\" \"\" \"\" \"\" \"\" \"\" \"\" \"\" \"\" \"\" \"\" \"\" \"\" \"\" \"\" \"\" \"\" \"\" \"\" \"\" \"\" \"\" \"\" \"\" \"\" \"\" \"\" \"\" \"\" \"\" \"\" \"\" \"\" \"\" \"\" \"\" \"\" \"\" \"\" \"\" \"\" \"\" \"\" \"\" \"\" \"\" \"\" \"\" \"\" \"\" \"\" \"\" \"\" \"\" \"\" \"\" \"\" \"\" \"\" \"\" \"\" \"\" \"\" \"\" \"\" \"\" \"\" \"\" \"\" \"\" \"\" \"\" \"\" \"\" \"\" \"\" \"\" \"\" \"\" \"\" \"\" \"\" \"\" \"\" \"\" \"\" \"\" \"\"\n"
          ]
        },
        {
          "metadata": {
            "tags": null
          },
          "name": "stderr",
          "output_type": "stream",
          "text": [
            "100%|██████████| 1/1 [00:00<00:00, 258.99it/s]"
          ]
        },
        {
          "metadata": {
            "tags": null
          },
          "name": "stdout",
          "output_type": "stream",
          "text": [
            "WARNING: Sentence __src__en__ __tgt__kn__ ಈ ಹ@@ ಿ@@ .... ್@@ ತ@@ ವ@@ ೆ . truncated to 200 tokens as it exceeds maximum length limit\n"
          ]
        },
        {
          "metadata": {
            "tags": null
          },
          "name": "stderr",
          "output_type": "stream",
          "text": [
            "\n"
          ]
        },
        {
          "metadata": {
            "tags": null
          },
          "name": "stdout",
          "output_type": "stream",
          "text": [
            "Translated: ಒರಿಸ್ಸಾ, ಜಾರ್ಖಂಡ್, ಛತ್ತೀಸ್ಗಢ, ಒಡಿಶಾ, ಒಡಿಶಾ, ಮಹಾರಾಷ್ಟ್ರ, ಮಧ್ಯಪ್ರದೇಶ, ಬಿಹಾರ, ಛತ್ತೀಸ್ಗಢ, ರಾಜಸ್ಥಾನ, ಮಧ್ಯಪ್ರದೇಶ, ಮಹಾರಾಷ್ಟ್ರ, ಒಡಿಸ್ಸಾ, ಕರ್ನಾಟಕ, ಮಧ್ಯಪ್ರದೇಶ, ರಾಜಸ್ಥಾನ, ಮಧ್ಯಪ್ರದೇಶ, ಮಹಾರಾಷ್ಟ್ರ, ಬಿಹಾರ, ಮಧ್ಯಪ್ರದೇಶ, ಛತ್ತೀಸ್ಗಢ, ರಾಜಸ್ಥಾನ, ಒಡಿಸ್ಸಾ, ಛತ್ತೀಸ್ಗಢ, ಒಡಿಸ್ಸಾ, ಜಾರ್ಖಂಡ್, ಛತ್ತೀಸ್ಗಢ, ಮಧ್ಯಪ್ರದೇಶ, ರಾಜಸ್ಥಾನ, ಮಧ್ಯಪ್ರದೇಶ, ಮಹಾರಾಷ್ಟ್ರ, ಒಡಿಸ್ಸಾ, ಛತ್ತೀಸ್ಗಢ, ಮಧ್ಯಪ್ರದೇಶ, ರಾಜಸ್ಥಾನ, ಮಧ್ಯಪ್ರದೇಶ, ಮಹಾರಾಷ್ಟ್ರ, ಒಡಿಸ್ಸಾ, ಛತ್ತೀಸ್ಗಢ, ಮಧ್ಯಪ್ರದೇಶ, ರಾಜಸ್ಥಾನ, ಮಧ್ಯಪ್ರದೇಶ, ಮಹಾರಾಷ್ಟ್ರ, ಮಧ್ಯಪ್ರದೇಶ, ರಾಜಸ್ಥಾನ, ಮಧ್ಯಪ್ರದೇಶ, ಛತ್ತೀಸಗಢ, ಮಧ್ಯಪ್ರದೇಶ, ರಾಜಸ್ಥಾನ, ಮಧ್ಯಪ್ರದೇಶ, ಮಹಾರಾಷ್ಟ್ರ, ಮಧ್ಯಪ್ರದೇಶ, ರಾಜಸ್ಥಾನ, ಮಧ್ಯಪ್ರದೇಶ, ಮಹಾರಾಷ್ಟ್ರ, ಮಧ್ಯಪ್ರದೇಶ, ರಾಜಸ್ಥಾನ, ಮಧ್ಯಪ್ರದೇಶ, ಆಂಧ್ರಪ್ರದೇಶ, ಒಡಿಸ್ಸಾ, ಒಡಿಸ್ಸಾ, ಛತ್ತೀಸ್ಗಢ, ಮಧ್ಯಪ್ರದೇಶ, ಒಡಿಸ್ಸಾ, ಛತ್ತೀಸ್ಗಢ, ಮಧ್ಯಪ್ರದೇಶ, ಒಡಿಸ್ಸಾ, ಛತ್ತೀಸ್ಗಢ, ಮಧ್ಯಪ್ರದೇಶ, ಒಡಿಸ್ಸಾ, ಮಧ್ಯಪ್ರದೇಶ, ಛತ್ತೀಸ್ಗಢ, ಮಧ್ಯಪ್ರದೇಶ, ಒಡಿಸ್ಸಾ, ಮಧ್ಯಪ್ರದೇಶ, ಛತ್ತೀಸ್ಗಢ, ಒಡಿಸ್ಸಾ.\n"
          ]
        },
        {
          "metadata": {
            "tags": null
          },
          "name": "stderr",
          "output_type": "stream",
          "text": [
            "100%|██████████| 1/1 [00:00<00:00, 214.09it/s]"
          ]
        },
        {
          "metadata": {
            "tags": null
          },
          "name": "stdout",
          "output_type": "stream",
          "text": [
            "WARNING: Sentence __src__en__ __tgt__kn__ ಅ@@ ವ@@ ರ@@ .... ್@@ ದ@@ ರ@@ ು . truncated to 200 tokens as it exceeds maximum length limit\n"
          ]
        },
        {
          "metadata": {
            "tags": null
          },
          "name": "stderr",
          "output_type": "stream",
          "text": [
            "\n"
          ]
        },
        {
          "metadata": {
            "tags": null
          },
          "name": "stdout",
          "output_type": "stream",
          "text": [
            "Translated: ಸಂಜೆಯ ಸಂಜೆಯ ಸಂಜೆಯ ಸಂಜೆಯ ಸಂಜೆಯ ಸಂಜೆಯ ಸಂಜೆಯ ಸಂಜೆಯ ಸಂಜೆಯ ಸಂಜೆಯ ಸಂಜೆಯ ಸಂಜೆಯ ಸಂಜೆಯ ಸಂಜೆಯ ಸಂಜೆಯ ಸಂಜೆಯ ಸಂಜೆಯ ಸಂಜೆಯ ಸಂಜೆಯ ಸಂಜೆಯ ಸಂಜೆಯ ಸಂಜೆಯ ಸಂಜೆಯ ಸಂಜೆಯ ಸಂಜೆಯ ಸಂಜೆಯ ಸಂಜೆಯ ಸಂಜೆಯ ಸಂಜೆಯ ಸಂಜೆಯ ಸಂಜೆಯ ಸಂಜೆಯ ಸಂಜೆಯ ಸಂಜೆಯ ಸಂಜೆಯ ಸಂಜೆಯ ಸಂಜೆಯ ಸಂಜೆಯ ಸಂಜೆಯ ಸಂಜೆ ಸಂಜೆಯ ಸಂಜೆಯ ಸಂಜೆಯ ಸಂಜೆಯ ಸಂಜೆಯ ಸಂಜೆಯ ಸಂಜೆಯ ಸಂಜೆಯ ಸಂಜೆಯ ಸಂಜೆಯ ಸಂಜೆಯ ಸಂಜೆಯ ಸಂಜೆಯ ಸಂಜೆಯ ಸಂಜೆಯ ಸಂಜೆಯ ಸಂಜೆಯ ಸಂಜೆಯ ಸಂಜೆಯ ಸಂಜೆಯ ಸಂಜೆಯ ಸಂಜೆಯ ಸಂಜೆಯ ಸಂಜೆಯ ಸಂಜೆಯ ಸಂಜೆಯ ಸಂಜೆಯ\n"
          ]
        },
        {
          "metadata": {
            "tags": null
          },
          "name": "stderr",
          "output_type": "stream",
          "text": [
            "100%|██████████| 1/1 [00:00<00:00, 1377.89it/s]\n"
          ]
        },
        {
          "metadata": {
            "tags": null
          },
          "name": "stdout",
          "output_type": "stream",
          "text": [
            "Translated: \"\" \"\" \"\" \"\" \"\" \"\" \"\" \"\" \"\" \"\" \"\" \"\" \"\" \"\" \"\" \"\" \"\" \"\" \"\" \"\" \"\" \"\" \"\" \"\" \"\" \"\" \"\" \"\" \"\" \"\" \"\" \"\" \"\" \"\" \"\" \"\" \"\" \"\" \"\" \"\" \"\" \"\" \"\" \"\" \"\" \"\" \"\" \"\" \"\" \"\" \"\" \"\" \"\" \"\" \"\" \"\" \"\" \"\" \"\" \"\" \"\" \"\" \"\" \"\" \"\" \"\" \"\" \"\" \"\" \"\" \"\" \"\" \"\" \"\" \"\" \"\" \"\" \"\" \"\" \"\" \"\" \"\" \"\" \"\" \"\" \"\" \"\" \"\" \"\" \"\" \"\" \"\" \"\" \"\" \"\" \"\" \"\" \"\" \"\" \"\"\n"
          ]
        },
        {
          "metadata": {
            "tags": null
          },
          "name": "stderr",
          "output_type": "stream",
          "text": [
            "100%|██████████| 1/1 [00:00<00:00, 319.81it/s]"
          ]
        },
        {
          "metadata": {
            "tags": null
          },
          "name": "stdout",
          "output_type": "stream",
          "text": [
            "WARNING: Sentence __src__en__ __tgt__kn__ ಈ ಹ@@ ಿ@@ .... ್@@ ತ@@ ವ@@ ೆ . truncated to 200 tokens as it exceeds maximum length limit\n"
          ]
        },
        {
          "metadata": {
            "tags": null
          },
          "name": "stderr",
          "output_type": "stream",
          "text": [
            "\n"
          ]
        },
        {
          "metadata": {
            "tags": null
          },
          "name": "stdout",
          "output_type": "stream",
          "text": [
            "Translated: ಒರಿಸ್ಸಾ, ಜಾರ್ಖಂಡ್, ಛತ್ತೀಸ್ಗಢ, ಒಡಿಶಾ, ಒಡಿಶಾ, ಮಹಾರಾಷ್ಟ್ರ, ಮಧ್ಯಪ್ರದೇಶ, ಬಿಹಾರ, ಛತ್ತೀಸ್ಗಢ, ರಾಜಸ್ಥಾನ, ಮಧ್ಯಪ್ರದೇಶ, ಮಹಾರಾಷ್ಟ್ರ, ಒಡಿಸ್ಸಾ, ಕರ್ನಾಟಕ, ಮಧ್ಯಪ್ರದೇಶ, ರಾಜಸ್ಥಾನ, ಮಧ್ಯಪ್ರದೇಶ, ಮಹಾರಾಷ್ಟ್ರ, ಬಿಹಾರ, ಮಧ್ಯಪ್ರದೇಶ, ಛತ್ತೀಸ್ಗಢ, ರಾಜಸ್ಥಾನ, ಒಡಿಸ್ಸಾ, ಛತ್ತೀಸ್ಗಢ, ಒಡಿಸ್ಸಾ, ಜಾರ್ಖಂಡ್, ಛತ್ತೀಸ್ಗಢ, ಮಧ್ಯಪ್ರದೇಶ, ರಾಜಸ್ಥಾನ, ಮಧ್ಯಪ್ರದೇಶ, ಮಹಾರಾಷ್ಟ್ರ, ಒಡಿಸ್ಸಾ, ಛತ್ತೀಸ್ಗಢ, ಮಧ್ಯಪ್ರದೇಶ, ರಾಜಸ್ಥಾನ, ಮಧ್ಯಪ್ರದೇಶ, ಮಹಾರಾಷ್ಟ್ರ, ಒಡಿಸ್ಸಾ, ಛತ್ತೀಸ್ಗಢ, ಮಧ್ಯಪ್ರದೇಶ, ರಾಜಸ್ಥಾನ, ಮಧ್ಯಪ್ರದೇಶ, ಮಹಾರಾಷ್ಟ್ರ, ಮಧ್ಯಪ್ರದೇಶ, ರಾಜಸ್ಥಾನ, ಮಧ್ಯಪ್ರದೇಶ, ಛತ್ತೀಸಗಢ, ಮಧ್ಯಪ್ರದೇಶ, ರಾಜಸ್ಥಾನ, ಮಧ್ಯಪ್ರದೇಶ, ಮಹಾರಾಷ್ಟ್ರ, ಮಧ್ಯಪ್ರದೇಶ, ರಾಜಸ್ಥಾನ, ಮಧ್ಯಪ್ರದೇಶ, ಮಹಾರಾಷ್ಟ್ರ, ಮಧ್ಯಪ್ರದೇಶ, ರಾಜಸ್ಥಾನ, ಮಧ್ಯಪ್ರದೇಶ, ಆಂಧ್ರಪ್ರದೇಶ, ಒಡಿಸ್ಸಾ, ಒಡಿಸ್ಸಾ, ಛತ್ತೀಸ್ಗಢ, ಮಧ್ಯಪ್ರದೇಶ, ಒಡಿಸ್ಸಾ, ಛತ್ತೀಸ್ಗಢ, ಮಧ್ಯಪ್ರದೇಶ, ಒಡಿಸ್ಸಾ, ಛತ್ತೀಸ್ಗಢ, ಮಧ್ಯಪ್ರದೇಶ, ಒಡಿಸ್ಸಾ, ಮಧ್ಯಪ್ರದೇಶ, ಛತ್ತೀಸ್ಗಢ, ಮಧ್ಯಪ್ರದೇಶ, ಒಡಿಸ್ಸಾ, ಮಧ್ಯಪ್ರದೇಶ, ಛತ್ತೀಸ್ಗಢ, ಒಡಿಸ್ಸಾ.\n"
          ]
        },
        {
          "metadata": {
            "tags": null
          },
          "name": "stderr",
          "output_type": "stream",
          "text": [
            "100%|██████████| 1/1 [00:00<00:00, 594.60it/s]"
          ]
        },
        {
          "metadata": {
            "tags": null
          },
          "name": "stdout",
          "output_type": "stream",
          "text": [
            "WARNING: Sentence __src__en__ __tgt__kn__ ಸ@@ ಂ@@ ಜ@@ .... ಸ@@ ಂ@@ ಜ@@ ೆ@@ ಯ truncated to 200 tokens as it exceeds maximum length limit\n"
          ]
        },
        {
          "metadata": {
            "tags": null
          },
          "name": "stderr",
          "output_type": "stream",
          "text": [
            "\n"
          ]
        },
        {
          "metadata": {
            "tags": null
          },
          "name": "stdout",
          "output_type": "stream",
          "text": [
            "Translated: \"\" \"\" \"\" \"\" \"\" \"\n"
          ]
        },
        {
          "metadata": {
            "tags": null
          },
          "name": "stderr",
          "output_type": "stream",
          "text": [
            "100%|██████████| 1/1 [00:00<00:00, 2110.87it/s]\n"
          ]
        },
        {
          "metadata": {
            "tags": null
          },
          "name": "stdout",
          "output_type": "stream",
          "text": [
            "Translated: n 6\n"
          ]
        },
        {
          "metadata": {
            "tags": null
          },
          "name": "stderr",
          "output_type": "stream",
          "text": [
            "100%|██████████| 1/1 [00:00<00:00, 2425.86it/s]\n"
          ]
        },
        {
          "metadata": {
            "tags": null
          },
          "name": "stdout",
          "output_type": "stream",
          "text": [
            "Translated: ನಮ್ಮ ಪಾಸ್-I\n"
          ]
        },
        {
          "metadata": {
            "tags": null
          },
          "name": "stderr",
          "output_type": "stream",
          "text": [
            "100%|██████████| 7/7 [00:00<00:00, 2480.79it/s]\n"
          ]
        },
        {
          "metadata": {
            "tags": null
          },
          "name": "stdout",
          "output_type": "stream",
          "text": [
            "Translated: ಎಡ ಭಾಗಃ ಹಳೆಯ ನಗರದ ಒಂದು ಮಡಕೆ. ಇಂತಹ ಕುಣಿಕೆಗಳನ್ನು ಸುಮಾರು 4700 ವರ್ಷಗಳ ಹಿಂದೆ ಬಳಸಲಾಗುತ್ತಿತ್ತು. ಬಲಕ್ಕೆಃ ಹಳೆಯ ಬೆಳ್ಳಿಯ ನಾಣ್ಯ. ಇಂತಹ ನಾಣ್ಯಗಳು ಸುಮಾರು 2500 ವರ್ಷಗಳ ಹಿಂದೆ ಬಳಕೆಯಲ್ಲಿದ್ದವು. ನಾವು ಇಂದು ಬಳಸುವ ನಾಣ್ಯಕ್ಕಿಂತ ಈ ನಾಣ್ಯವು ಹೇಗೆ ಭಿನ್ನವಾಗಿದೆ?\n"
          ]
        },
        {
          "metadata": {
            "tags": null
          },
          "name": "stderr",
          "output_type": "stream",
          "text": [
            "100%|██████████| 3/3 [00:00<00:00, 1751.76it/s]\n"
          ]
        },
        {
          "metadata": {
            "tags": null
          },
          "name": "stdout",
          "output_type": "stream",
          "text": [
            "Translated: ಪುರಾತತ್ತ್ವ ಶಾಸ್ತ್ರಜ್ಞರು ಹಿಂದೆ ಜನರು ಏನು ತಿನ್ನುತ್ತಿದ್ದರು ಎಂಬುದನ್ನು ಕಂಡುಹಿಡಿಯಲು ಪ್ರಾಣಿಗಳು, ಪಕ್ಷಿಗಳು ಮತ್ತು ಮೀನುಗಳ ಮೂಳೆಗಳನ್ನು ಸಹ ಹುಡುಕುತ್ತಾರೆ. ಸಸ್ಯಗಳು ಬಹಳ ವಿರಳವಾಗಿ ಉಳಿದುಕೊಳ್ಳುತ್ತವೆ-ಧಾನ್ಯದ ಬೀಜಗಳು ಅಥವಾ ಮರದ ತುಂಡುಗಳನ್ನು ಸುಟ್ಟರೆ, ಅವು ಸುಟ್ಟ ರೂಪದಲ್ಲಿ ಬದುಕುತ್ತವೆ. ಪುರಾತತ್ವ ಶಾಸ್ತ್ರಜ್ಞರು ಬಟ್ಟೆ ಆಗಾಗ್ಗೆ ಕಂಡುಕೊಳ್ಳುತ್ತಾರೆ ಎಂದು ನೀವು ಭಾವಿಸುತ್ತೀರಾ?\n"
          ]
        },
        {
          "metadata": {
            "tags": null
          },
          "name": "stderr",
          "output_type": "stream",
          "text": [
            "100%|██████████| 3/3 [00:00<00:00, 2034.42it/s]\n"
          ]
        },
        {
          "metadata": {
            "tags": null
          },
          "name": "stdout",
          "output_type": "stream",
          "text": [
            "Translated: ಇತಿಹಾಸಕಾರರು, ಅಂದರೆ ಇತಿಹಾಸವನ್ನು ಅಧ್ಯಯನ ಮಾಡುವ ವಿದ್ವಾಂಸರು, ಹಸ್ತಪ್ರತಿಗಳು, ಶಾಸನಗಳು ಮತ್ತು ಪುರಾತತ್ತ್ವ ಶಾಸ್ತ್ರದಿಂದ ಕಂಡುಬರುವ ಮಾಹಿತಿಯನ್ನು ಉಲ್ಲೇಖಿಸಲು ಮೂಲ ಎಂಬ ಪದವನ್ನು ಬಳಸುತ್ತಾರೆ. ಒಮ್ಮೆ ಮೂಲಗಳನ್ನು ಕಂಡುಕೊಂಡರೆ, ಹಿಂದಿನ ಬಗ್ಗೆ ಕಲಿಯುವುದು ಒಂದು ಸಾಹಸವಾಗಿ ಪರಿಣಮಿಸುತ್ತದೆ, ಏಕೆಂದರೆ ನಾವು ಅದನ್ನು ಬಿಟ್ಬಿಟ್ನಿಂದ ಪುನರ್ನಿರ್ಮಿಸುತ್ತೇವೆ. ಆದ್ದರಿಂದ ಇತಿಹಾಸಕಾರರು ಮತ್ತು ಪುರಾತತ್ವ ಶಾಸ್ತ್ರಜ್ಞರು ಪತ್ತೆದಾರರಂತೆ, ಅವರು ಸುಳಿವುಗಳಂತಹ ಈ ಎಲ್ಲಾ ಮೂಲಗಳನ್ನು ಬಳಸುತ್ತಾರೆ ನಮ್ಮ ಪೂರ್ವಕಾಲದ ಬಗ್ಗೆ ಕಂಡುಹಿಡಿಯಲು.\n"
          ]
        },
        {
          "metadata": {
            "tags": null
          },
          "name": "stderr",
          "output_type": "stream",
          "text": [
            "100%|██████████| 1/1 [00:00<00:00, 1008.49it/s]\n"
          ]
        },
        {
          "metadata": {
            "tags": null
          },
          "name": "stdout",
          "output_type": "stream",
          "text": [
            "Translated: ಒಂದು ಹಿಂದಿನ ಅಥವಾ ಅನೇಕ?\n"
          ]
        },
        {
          "metadata": {
            "tags": null
          },
          "name": "stderr",
          "output_type": "stream",
          "text": [
            "100%|██████████| 4/4 [00:00<00:00, 2319.22it/s]\n"
          ]
        },
        {
          "metadata": {
            "tags": null
          },
          "name": "stdout",
          "output_type": "stream",
          "text": [
            "Translated: ನಮ್ಮ ಪಾಸ್ಟ್ಸ್ ಎಂಬ ಈ ಪುಸ್ತಕದ ಶೀರ್ಷಿಕೆಯನ್ನು ನೀವು ಗಮನಿಸಿದ್ದೀರಾ? ಜನರ ವಿವಿಧ ಗುಂಪುಗಳಿಗೆ ಭೂತಕಾಲವು ವಿಭಿನ್ನವಾಗಿತ್ತು ಎಂಬ ಅಂಶದ ಕಡೆಗೆ ಗಮನ ಸೆಳೆಯಲು ನಾವು ಬಹುವಚನದಲ್ಲಿ 'ಪಾಸ್ಟ್' ಎಂಬ ಪದವನ್ನು ಬಳಸಿದ್ದೇವೆ. ಉದಾಹರಣೆಗೆ, ಪಶುಪಾಲಕರು ಅಥವಾ ರೈತರ ಜೀವನವು ರಾಜರು ಮತ್ತು ರಾಣಿಗಳಿಗಿಂತ ಭಿನ್ನವಾಗಿತ್ತು, ವ್ಯಾಪಾರಿಗಳ ಜೀವನವು ಕುಶಲಕರ್ಮಿಗಳ ಜೀವನಕ್ಕಿಂತ ಭಿನ್ನವಾಗಿತ್ತು. ಇಂದಿಗೂ ಸಹ, ಜನರು ವಿವಿಧ ಭಾಗಗಳಲ್ಲಿ ವಿವಿಧ ಪದ್ಧತಿಗಳು ಮತ್ತು ಪದ್ಧತಿಗಳನ್ನು ಅನುಸರಿಸುತ್ತಿದ್ದರು.\n"
          ]
        },
        {
          "metadata": {
            "tags": null
          },
          "name": "stderr",
          "output_type": "stream",
          "text": [
            "100%|██████████| 1/1 [00:00<00:00, 2430.07it/s]\n"
          ]
        },
        {
          "metadata": {
            "tags": null
          },
          "name": "stdout",
          "output_type": "stream",
          "text": [
            "Translated: 2018-19 ನೇ ಸಾಲಿನಲ್ಲಿ ಶೇ.\n"
          ]
        },
        {
          "metadata": {
            "tags": null
          },
          "name": "stderr",
          "output_type": "stream",
          "text": [
            "100%|██████████| 1/1 [00:00<00:00, 447.11it/s]"
          ]
        },
        {
          "metadata": {
            "tags": null
          },
          "name": "stdout",
          "output_type": "stream",
          "text": [
            "WARNING: Sentence __src__en__ __tgt__kn__ ಪ@@ ು@@ ರ@@ .... ತ@@ ೀ@@ ರ@@ ಾ ? truncated to 200 tokens as it exceeds maximum length limit\n"
          ]
        },
        {
          "metadata": {
            "tags": null
          },
          "name": "stderr",
          "output_type": "stream",
          "text": [
            "\n"
          ]
        },
        {
          "metadata": {
            "tags": null
          },
          "name": "stdout",
          "output_type": "stream",
          "text": [
            "Translated: ಒಡಿಸ್ಸಿ, ಒಡಿಸ್ಸಿ, ಒಡಿಸ್ಸಿ, ಒಡಿಸ್ಸಿ, ಒಡಿಸ್ಸಿ, ಒಡಿಸ್ಸಿ, ಒಡಿಸ್ಸಿ, ಒಡಿಸ್ಸಿ, ಒಡಿಸ್ಸಿ, ಒಡಿಸ್ಸಿ, ಒಡಿಸ್ಸಿ, ಒಡಿಸ್ಸಿ, ಒಡಿಸ್ಸಿ, ಒಕ್ಸಸಿ, ಒಕ್ಸಸಿ, ಒಕ್ಸಸಿ, ಒಕ್ಸಸಿ, ಒಕ್ಸಸಿ, ಒಕ್ಸಸಿ, ಒಕ್ಸಸಿ, ಒಕ್ಸಸಿ, ಒಕ್ಸಸಿ, ಒಕ್ಸಸಿ, ಒಕ್ಸಸಿ, ಒಕ್ಸಸಿ, ಒಕ್ಸಸಿ, ಒಕ್ಸಸಿ, ಒಕ್ಸಸಿ, ಒಕ್ಸಸಿ, ಒಕ್ಸಸಿ, ಒಕ್ಸಸಿ, ಒಕ್ಸಸಿ, ಒಕ್ಸಸಿ, ಒಕ್ಸಸಿ.\n"
          ]
        },
        {
          "metadata": {
            "tags": null
          },
          "name": "stderr",
          "output_type": "stream",
          "text": [
            "100%|██████████| 1/1 [00:00<00:00, 278.73it/s]"
          ]
        },
        {
          "metadata": {
            "tags": null
          },
          "name": "stdout",
          "output_type": "stream",
          "text": [
            "WARNING: Sentence __src__en__ __tgt__kn__ ಇ@@ ತ@@ ಿ@@ .... ಿ@@ ಯ@@ ಲ@@ ು . truncated to 200 tokens as it exceeds maximum length limit\n"
          ]
        },
        {
          "metadata": {
            "tags": null
          },
          "name": "stderr",
          "output_type": "stream",
          "text": [
            "\n"
          ]
        },
        {
          "metadata": {
            "tags": null
          },
          "name": "stdout",
          "output_type": "stream",
          "text": [
            "Translated: \"\" \"ಅನ್ಯೋನ್ಯತೆ\" \"---------------------------------------------------------------------------------------------------------------------------------------------------------------------------------------------- -\n"
          ]
        },
        {
          "metadata": {
            "tags": null
          },
          "name": "stderr",
          "output_type": "stream",
          "text": [
            "100%|██████████| 1/1 [00:00<00:00, 402.33it/s]"
          ]
        },
        {
          "metadata": {
            "tags": null
          },
          "name": "stdout",
          "output_type": "stream",
          "text": [
            "WARNING: Sentence __src__en__ __tgt__kn__ ನ@@ ಮ@@ ್@@ .... ್@@ ದ@@ ರ@@ ು . truncated to 200 tokens as it exceeds maximum length limit\n"
          ]
        },
        {
          "metadata": {
            "tags": null
          },
          "name": "stderr",
          "output_type": "stream",
          "text": [
            "\n"
          ]
        },
        {
          "metadata": {
            "tags": null
          },
          "name": "stdout",
          "output_type": "stream",
          "text": [
            "Translated: ಒರಿಸ್ಸಾ, ಜಾರ್ಖಂಡ್, ಒಡಿಸ್ಸಾ, ಜಾರ್ಖಂಡ್, ಬಿಹಾർ, ಛತ್ತೀಸ್ಗಢ, ಒಡಿಸ್ಸಾ, ಜಾರ್ಖಂಡ್, ಛತ್ತೀಸ್ಗಢ, ಜಾರ್ಖಂಡ್, ಮಧ್ಯಪ್ರದೇಶ, ಮಹಾರಾಷ್ಟ್ರ, ಒಡಿಸ್ಸಾ, ಮಣಿಪುರ, ಮೇಘಾಲಯ, ಮಿಜೋರಾಂ, ನಾಗಾಲ್ಯಾಂಡ್, ತ್ರಿಪುರ, ತ್ರಿಪುರ, ಸಿಕ್ಕಿಂ, ತ್ರಿಪುರ, ಸಿಕ್ಕಿಂ, ತ್ರಿಪುರ, ಸಿಕ್ಕಿಂ, ತ್ರಿಪುರ, ಸಿಕ್ಕಿಂ, ತ್ರಿಪುರ, ಸಿಕ್ಕಿಂ, ತ್ರಿಪುರ, ಸಿಕ್ಕಿಂ, ತ್ರಿಪುರ, ಒಡಿಶಾ, ಸಿಕ್ಕಿಂ, ತ್ರಿಪುರಾ, ಒಡಿಸ್ಸಾ, ಸಿಕ್ಕಿಂ, ತ್ರಿಪುರ, ಒಡಿಸ್ಸಾ, ಮೇಘಾಲಯ, ತ್ರಿಪುರ, ಸಿಕ್ಕಿಂ, ತ್ರಿಪುರ, ಸಿಕ್ಕಿಂ, ತ್ರಿಪುರ, ಸಿಕ್ಕಿಂ, ತ್ರಿಪುರ, ಸಿಕ್ಕಿಂ, ತ್ರಿಪುರ, ಒಡಿಶಾ, ಸಿಕ್ಕಿಂ, ಒಡಿಶಾ, ಸಿಕ್ಕಿಂ, ಒಡಿಶಾ, ಸಿಕ್ಕಿಂ, ಒಡಿಶಾ, ಸಿಕ್ಕಿಂ, ಒಡಿಶಾ, ಸಿಕ್ಕಿಂ, ಮೇಘಾಲಯ, ತ್ರಿಪುರಾ, ಮಣಿಪುರ, ಮಿಜೋರಾಂ, ಮಿಜೋರಾಂ, ತ್ರಿಪುರಾ, ಸಿಕ್ಕಿಂ, ಮೇಘಾಲಯ\n"
          ]
        },
        {
          "metadata": {
            "tags": null
          },
          "name": "stderr",
          "output_type": "stream",
          "text": [
            "100%|██████████| 1/1 [00:00<00:00, 446.82it/s]"
          ]
        },
        {
          "metadata": {
            "tags": null
          },
          "name": "stdout",
          "output_type": "stream",
          "text": [
            "WARNING: Sentence __src__en__ __tgt__kn__ ಪ@@ ು@@ ರ@@ .... ತ@@ ೀ@@ ರ@@ ಾ ? truncated to 200 tokens as it exceeds maximum length limit\n"
          ]
        },
        {
          "metadata": {
            "tags": null
          },
          "name": "stderr",
          "output_type": "stream",
          "text": [
            "\n"
          ]
        },
        {
          "metadata": {
            "tags": null
          },
          "name": "stdout",
          "output_type": "stream",
          "text": [
            "Translated: ಒಡಿಸ್ಸಿ, ಒಡಿಸ್ಸಿ, ಒಡಿಸ್ಸಿ, ಒಡಿಸ್ಸಿ, ಒಡಿಸ್ಸಿ, ಒಡಿಸ್ಸಿ, ಒಡಿಸ್ಸಿ, ಒಡಿಸ್ಸಿ, ಒಡಿಸ್ಸಿ, ಒಡಿಸ್ಸಿ, ಒಡಿಸ್ಸಿ, ಒಡಿಸ್ಸಿ, ಒಡಿಸ್ಸಿ, ಒಕ್ಸಸಿ, ಒಕ್ಸಸಿ, ಒಕ್ಸಸಿ, ಒಕ್ಸಸಿ, ಒಕ್ಸಸಿ, ಒಕ್ಸಸಿ, ಒಕ್ಸಸಿ, ಒಕ್ಸಸಿ, ಒಕ್ಸಸಿ, ಒಕ್ಸಸಿ, ಒಕ್ಸಸಿ, ಒಕ್ಸಸಿ, ಒಕ್ಸಸಿ, ಒಕ್ಸಸಿ, ಒಕ್ಸಸಿ, ಒಕ್ಸಸಿ, ಒಕ್ಸಸಿ, ಒಕ್ಸಸಿ, ಒಕ್ಸಸಿ, ಒಕ್ಸಸಿ, ಒಕ್ಸಸಿ.\n"
          ]
        },
        {
          "metadata": {
            "tags": null
          },
          "name": "stderr",
          "output_type": "stream",
          "text": [
            "100%|██████████| 1/1 [00:00<00:00, 339.56it/s]"
          ]
        },
        {
          "metadata": {
            "tags": null
          },
          "name": "stdout",
          "output_type": "stream",
          "text": [
            "WARNING: Sentence __src__en__ __tgt__kn__ ಇ@@ ತ@@ ಿ@@ .... ಿ@@ ಯ@@ ಲ@@ ು . truncated to 200 tokens as it exceeds maximum length limit\n"
          ]
        },
        {
          "metadata": {
            "tags": null
          },
          "name": "stderr",
          "output_type": "stream",
          "text": [
            "\n"
          ]
        },
        {
          "metadata": {
            "tags": null
          },
          "name": "stdout",
          "output_type": "stream",
          "text": [
            "Translated: \"\" \"ಅನ್ಯೋನ್ಯತೆ\" \"---------------------------------------------------------------------------------------------------------------------------------------------------------------------------------------------- -\n"
          ]
        },
        {
          "metadata": {
            "tags": null
          },
          "name": "stderr",
          "output_type": "stream",
          "text": [
            "100%|██████████| 1/1 [00:00<00:00, 470.16it/s]"
          ]
        },
        {
          "metadata": {
            "tags": null
          },
          "name": "stdout",
          "output_type": "stream",
          "text": [
            "WARNING: Sentence __src__en__ __tgt__kn__ ನ@@ ಮ@@ ್@@ .... ್@@ ದ@@ ರ@@ ು . truncated to 200 tokens as it exceeds maximum length limit\n"
          ]
        },
        {
          "metadata": {
            "tags": null
          },
          "name": "stderr",
          "output_type": "stream",
          "text": [
            "\n"
          ]
        },
        {
          "metadata": {
            "tags": null
          },
          "name": "stdout",
          "output_type": "stream",
          "text": [
            "Translated: ಒರಿಸ್ಸಾ, ಜಾರ್ಖಂಡ್, ಒಡಿಸ್ಸಾ, ಜಾರ್ಖಂಡ್, ಬಿಹಾർ, ಛತ್ತೀಸ್ಗಢ, ಒಡಿಸ್ಸಾ, ಜಾರ್ಖಂಡ್, ಛತ್ತೀಸ್ಗಢ, ಜಾರ್ಖಂಡ್, ಮಧ್ಯಪ್ರದೇಶ, ಮಹಾರಾಷ್ಟ್ರ, ಒಡಿಸ್ಸಾ, ಮಣಿಪುರ, ಮೇಘಾಲಯ, ಮಿಜೋರಾಂ, ನಾಗಾಲ್ಯಾಂಡ್, ತ್ರಿಪುರ, ತ್ರಿಪುರ, ಸಿಕ್ಕಿಂ, ತ್ರಿಪುರ, ಸಿಕ್ಕಿಂ, ತ್ರಿಪುರ, ಸಿಕ್ಕಿಂ, ತ್ರಿಪುರ, ಸಿಕ್ಕಿಂ, ತ್ರಿಪುರ, ಸಿಕ್ಕಿಂ, ತ್ರಿಪುರ, ಸಿಕ್ಕಿಂ, ತ್ರಿಪುರ, ಒಡಿಶಾ, ಸಿಕ್ಕಿಂ, ತ್ರಿಪುರಾ, ಒಡಿಸ್ಸಾ, ಸಿಕ್ಕಿಂ, ತ್ರಿಪುರ, ಒಡಿಸ್ಸಾ, ಮೇಘಾಲಯ, ತ್ರಿಪುರ, ಸಿಕ್ಕಿಂ, ತ್ರಿಪುರ, ಸಿಕ್ಕಿಂ, ತ್ರಿಪುರ, ಸಿಕ್ಕಿಂ, ತ್ರಿಪುರ, ಸಿಕ್ಕಿಂ, ತ್ರಿಪುರ, ಒಡಿಶಾ, ಸಿಕ್ಕಿಂ, ಒಡಿಶಾ, ಸಿಕ್ಕಿಂ, ಒಡಿಶಾ, ಸಿಕ್ಕಿಂ, ಒಡಿಶಾ, ಸಿಕ್ಕಿಂ, ಒಡಿಶಾ, ಸಿಕ್ಕಿಂ, ಮೇಘಾಲಯ, ತ್ರಿಪುರಾ, ಮಣಿಪುರ, ಮಿಜೋರಾಂ, ಮಿಜೋರಾಂ, ತ್ರಿಪುರಾ, ಸಿಕ್ಕಿಂ, ಮೇಘಾಲಯ\n"
          ]
        },
        {
          "metadata": {
            "tags": null
          },
          "name": "stderr",
          "output_type": "stream",
          "text": [
            "100%|██████████| 1/1 [00:00<00:00, 1296.14it/s]\n"
          ]
        },
        {
          "metadata": {
            "tags": null
          },
          "name": "stdout",
          "output_type": "stream",
          "text": [
            "Translated: --------------------------------------------------------------------------------------------------------------------------------------------------------- -\n"
          ]
        },
        {
          "metadata": {
            "tags": null
          },
          "name": "stderr",
          "output_type": "stream",
          "text": [
            "100%|██████████| 1/1 [00:00<00:00, 821.12it/s]\n"
          ]
        },
        {
          "metadata": {
            "tags": null
          },
          "name": "stdout",
          "output_type": "stream",
          "text": [
            "Translated: 7 ಎನ್\n"
          ]
        },
        {
          "metadata": {
            "tags": null
          },
          "name": "stderr",
          "output_type": "stream",
          "text": [
            "100%|██████████| 8/8 [00:00<00:00, 2875.52it/s]\n"
          ]
        },
        {
          "metadata": {
            "tags": null
          },
          "name": "stdout",
          "output_type": "stream",
          "text": [
            "Translated: ದೇಶದ ಶೇ. ಉದಾಹರಣೆಗೆ, ಇಂದು ಅಂಡಮಾನ್ ದ್ವೀಪಗಳಲ್ಲಿ ವಾಸಿಸುವ ಹೆಚ್ಚಿನ ಜನರು ಮೀನುಗಾರಿಕೆ, ಬೇಟೆ ಮತ್ತು ಅರಣ್ಯ ಉತ್ಪನ್ನಗಳನ್ನು ಸಂಗ್ರಹಿಸುವ ಮೂಲಕ ತಮ್ಮದೇ ಆದ ಆಹಾರವನ್ನು ಪಡೆಯುತ್ತಾರೆ. ಇದಕ್ಕೆ ವ್ಯತಿರಿಕ್ತವಾಗಿ, ನಗರಗಳಲ್ಲಿ ವಾಸಿಸುವ ಹೆಚ್ಚಿನ ಜನರು ಆಹಾರಕ್ಕಾಗಿ ಇತರರ ಮೇಲೆ ಅವಲಂಬಿತರಾಗಿದ್ದಾರೆ. ಇಂತಹ ವ್ಯತ್ಯಾಸಗಳು ಹಿಂದೆಯೂ ಇದ್ದವು. ಇದಲ್ಲದೆ, ಮತ್ತೊಂದು ರೀತಿಯ ವ್ಯತ್ಯಾಸವಿದೆ. ರಾಜರ ಬಗ್ಗೆ ಮತ್ತು ಅವರು ಹೋರಾಡಿದ ಯುದ್ಧಗಳ ಬಗ್ಗೆ ನಮಗೆ ಸಾಕಷ್ಟು ತಿಳಿದಿದೆ ಏಕೆಂದರೆ ಅವರು ತಮ್ಮ ವಿಜಯಗಳ ದಾಖಲೆಯನ್ನು ಇಟ್ಟುಕೊಂಡಿದ್ದರು. ಬೇಟೆಗಾರರು, ಮೀನುಗಾರರು, ಸಂಗ್ರಹಿಸುವವರು, ರೈತರು ಅಥವಾ ದನಕರುಗಳಂತಹ ಸಾಮಾನ್ಯ ಜನರು ತಾವು ಏನು ಮಾಡಿದ್ದಾರೆಂಬ ದಾಖಲೆಗಳನ್ನು ಇಟ್ಟುಕೊಳ್ಳುತ್ತಿರಲಿಲ್ಲ. ಪುರಾತತ್ತ್ವ ಶಾಸ್ತ್ರವು ಅವರ ಜೀವನದ ಬಗ್ಗೆ ಕಂಡುಹಿಡಿಯಲು ನಮಗೆ ಸಹಾಯ ಮಾಡುತ್ತದಾದರೂ, ಅಜ್ಞಾತವಾದ ಬಹಳಷ್ಟು ವಿಷಯಗಳಿವೆ.\n"
          ]
        },
        {
          "metadata": {
            "tags": null
          },
          "name": "stderr",
          "output_type": "stream",
          "text": [
            "100%|██████████| 1/1 [00:00<00:00, 423.58it/s]\n"
          ]
        },
        {
          "metadata": {
            "tags": null
          },
          "name": "stdout",
          "output_type": "stream",
          "text": [
            "Translated: ದಿನಾಂಕಗಳ ಅರ್ಥವೇನು?\n"
          ]
        },
        {
          "metadata": {
            "tags": null
          },
          "name": "stderr",
          "output_type": "stream",
          "text": [
            "100%|██████████| 5/5 [00:00<00:00, 1019.82it/s]\n"
          ]
        },
        {
          "metadata": {
            "tags": null
          },
          "name": "stdout",
          "output_type": "stream",
          "text": [
            "Translated: ಯಾರಾದರೂ ದಿನಾಂಕವನ್ನು ಕೇಳಿದರೆ, ನೀವು ಬಹುಶಃ ದಿನ, ತಿಂಗಳು ಮತ್ತು ವರ್ಷ 2000 ಮತ್ತು ಮುಂತಾದವುಗಳನ್ನು ಉಲ್ಲೇಖಿಸಬಹುದು. ಈ ವರ್ಷಗಳನ್ನು ಸಾಮಾನ್ಯವಾಗಿ ಕ್ರೈಸ್ತತ್ವದ ಸ್ಥಾಪಕನಾದ ಯೇಸು ಕ್ರಿಸ್ತನ ಜನನದ ತಾರೀಖಿನಿಂದ ಎಣಿಸಲಾಗುತ್ತದೆ. ಆದ್ದರಿಂದ, 2000 ಎಂದರೆ ಕ್ರಿಸ್ತನ ಜನನದ 2000 ವರ್ಷಗಳ ನಂತರ. ಕ್ರಿಸ್ತನ ಜನನಕ್ಕೆ ಮುಂಚಿನ ಎಲ್ಲಾ ದಿನಾಂಕಗಳನ್ನು ಹಿಂದಕ್ಕೆ ಎಣಿಸಲಾಗುತ್ತದೆ ಮತ್ತು ಸಾಮಾನ್ಯವಾಗಿ BC (ಕ್ರಿಸ್ತನ ಮೊದಲು) ಅಕ್ಷರಗಳನ್ನು ಸೇರಿಸಲಾಗುತ್ತದೆ. ಈ ಪುಸ್ತಕದಲ್ಲಿ, ನಾವು 2000 ಅನ್ನು ನಮ್ಮ ಆರಂಭಿಕ ಬಿಂದುವಾಗಿ ಬಳಸಿಕೊಂಡು ವರ್ತಮಾನದಿಂದ ಹಿಂತಿರುಗುವ ದಿನಾಂಕಗಳನ್ನು ಉಲ್ಲೇಖಿಸುತ್ತೇವೆ.\n"
          ]
        },
        {
          "metadata": {
            "tags": null
          },
          "name": "stderr",
          "output_type": "stream",
          "text": [
            "100%|██████████| 1/1 [00:00<00:00, 972.93it/s]\n"
          ]
        },
        {
          "metadata": {
            "tags": null
          },
          "name": "stdout",
          "output_type": "stream",
          "text": [
            "Translated: ಏನು, ಎಲ್ಲಿ, ಹೇಗೆ ಮತ್ತು ಯಾವಾಗ?\n"
          ]
        },
        {
          "metadata": {
            "tags": null
          },
          "name": "stderr",
          "output_type": "stream",
          "text": [
            "100%|██████████| 1/1 [00:00<00:00, 1294.94it/s]\n"
          ]
        },
        {
          "metadata": {
            "tags": null
          },
          "name": "stdout",
          "output_type": "stream",
          "text": [
            "Translated: 2018-19 ನೇ ಸಾಲಿನಲ್ಲಿ ಶೇ.\n"
          ]
        },
        {
          "metadata": {
            "tags": null
          },
          "name": "stderr",
          "output_type": "stream",
          "text": [
            "100%|██████████| 1/1 [00:00<00:00, 201.58it/s]"
          ]
        },
        {
          "metadata": {
            "tags": null
          },
          "name": "stdout",
          "output_type": "stream",
          "text": [
            "WARNING: Sentence __src__en__ __tgt__kn__ ದ@@ ೇ@@ ಶ@@ .... ಳ@@ ಿ@@ ವ@@ ೆ . truncated to 200 tokens as it exceeds maximum length limit\n"
          ]
        },
        {
          "metadata": {
            "tags": null
          },
          "name": "stderr",
          "output_type": "stream",
          "text": [
            "\n"
          ]
        },
        {
          "metadata": {
            "tags": null
          },
          "name": "stdout",
          "output_type": "stream",
          "text": [
            "Translated: \"\" \"ಹದಿಹರೆಯದವರಿಗೂ ಹದಿಹರೆಯದವರಿಗೂ ಹದಿಹರೆಯದವರಿಗೂ ಹದಿಹರೆಯದವರಿಗೂ ಹದಿಹರೆಯದವರಿಗೂ ಹದಿಹರೆಯದವರಿಗೂ ಹದಿಹರೆಯದವರಿಗೂ ಹದಿಹರೆಯದವರಿಗೂ ಹದಿಹರೆಯದವರಿಗೂ ಹದಿಹರೆಯದವರಿಗೂ ಹದಿಹರೆಯದವರಿಗೂ ಹದಿಹರೆಯದವರಿಗೂ ಹದಿಹರೆಯದವರಿಗೂ ಹದಿಹರೆಯದವರಿಗೂ ಹದಿಹರೆಯದವರಿಗೂ ಹದಿಹರೆಯದವರಿಗೂ ಹದಿಹರೆಯದವರಿಗೂ ಹದಿಹರೆಯದವರಿಗೂ ಹದಿಹರೆಯದವರಿಗೂ ಹದಿಹರೆಯದವರಿಗೂ ಹದಿಹರೆಯದವರಿಗೂ ಹದಿಹರೆಯದವರಿಗೂ ಹದಿಹರೆಯದವರಿಗೂ ಹದಿಹರೆಯದವರಿಗೂ ಹದಿಹರೆಯದವರಿಗೂ ಹದಿಹರೆಯದವರಿಗೂ ಹದಿಹರೆಯದವರಿಗೂ ಹದಿಹರೆಯದವರಿಗೂ ಹ\n"
          ]
        },
        {
          "metadata": {
            "tags": null
          },
          "name": "stderr",
          "output_type": "stream",
          "text": [
            "100%|██████████| 1/1 [00:00<00:00, 283.07it/s]"
          ]
        },
        {
          "metadata": {
            "tags": null
          },
          "name": "stdout",
          "output_type": "stream",
          "text": [
            "WARNING: Sentence __src__en__ __tgt__kn__ ಯ@@ ಾ@@ ರ@@ .... ತ@@ ೇ@@ ವ@@ ೆ . truncated to 200 tokens as it exceeds maximum length limit\n"
          ]
        },
        {
          "metadata": {
            "tags": null
          },
          "name": "stderr",
          "output_type": "stream",
          "text": [
            "\n"
          ]
        },
        {
          "metadata": {
            "tags": null
          },
          "name": "stdout",
          "output_type": "stream",
          "text": [
            "Translated: ಒರಿಸ್ಸಾ, ಜಾರ್ಖಂಡ್, ಒಡಿಸ್ಸಾ, ಜಾರ್ಖಂಡ್, ಛತ್ತೀಸ್ಗಢ, ಬಿಜಾಪುರ, ಒಡಿಸ್ಸಾ, ಜಾರ್ಖಂಡ್, ಮಧ್ಯಪ್ರದೇಶ, ಛತ್ತೀಸ್ಗಢ, ಒಡಿಸ್ಸಾ, ಬಿಹಾರ, ಒಡಿಸ್ಸಾ, ಜಾರ್ಖಂಡ್, ಜಾರ್ಖಂಡ್, ಮಧ್ಯಪ್ರದೇಶ, ಛತ್ತೀಸ್ಗಢ, ಒಡಿಸ್ಸಾ, ಜಾರ್ಖಂಡ್, ಬಿಹಾರ, ಒಡಿಸ್ಸಾ, ಜಾರ್ಖಂಡ್, ಜಾರ್ಖಂಡ್, ಛತ್ತೀಸ್ಗಢ, ಒಡಿಸ್ಸಾ, ಒಡಿಸ್ಸಾ, ಜಾರ್ಖಂಡ್, ಮಧ್ಯಪ್ರದೇಶ, ಮಹಾರಾಷ್ಟ್ರ, ಒಡಿಸ್ಸಾ, ಛತ್ತೀಸ್ಗಢ, ಒಡಿಸ್ಸಾ, ಜಾರ್ಖಂಡ್, ಮಣಿಪುರ, ಮೇಘಾಲಯ, ಮಿಜೋರಾಂ, ನಾಗಾಲ್ಯಾಂಡ್, ತ್ರಿಪುರ, ತ್ರಿಪುರ, ತ್ರಿಪುರ, ತ್ರಿಪುರ, ಒಡಿಸ್ಸಾ, ಜಾರ್ಖಂಡ್, ಜಾರ್ಖಂಡ್, ಒಡಿಸ್ಸಾ, ಮಣಿಪುರ, ಸಿಕ್ಕಿಂ, ತ್ರಿಪುರ, ಸಿಕ್ಕಿಂ, ಒಡಿಶಾ, ಸಿಕ್ಕಿಂ, ಒಡಿಶಾ, ತ್ರಿಪುರ, ಸಿಕ್ಕಿಂ, ಜಾರ್ಖಂಡ್, ಬಿಹಾರ, ಜಾರ್ಖಂಡ್, ಜಾರ್ಖಂಡ್, ಜಾರ್ಖಂಡ್, ಮಧ್ಯಪ್ರದೇಶ\n"
          ]
        },
        {
          "metadata": {
            "tags": null
          },
          "name": "stderr",
          "output_type": "stream",
          "text": [
            "100%|██████████| 1/1 [00:00<00:00, 246.45it/s]"
          ]
        },
        {
          "metadata": {
            "tags": null
          },
          "name": "stdout",
          "output_type": "stream",
          "text": [
            "WARNING: Sentence __src__en__ __tgt__kn__ ದ@@ ೇ@@ ಶ@@ .... ಳ@@ ಿ@@ ವ@@ ೆ . truncated to 200 tokens as it exceeds maximum length limit\n"
          ]
        },
        {
          "metadata": {
            "tags": null
          },
          "name": "stderr",
          "output_type": "stream",
          "text": [
            "\n"
          ]
        },
        {
          "metadata": {
            "tags": null
          },
          "name": "stdout",
          "output_type": "stream",
          "text": [
            "Translated: \"\" \"ಹದಿಹರೆಯದವರಿಗೂ ಹದಿಹರೆಯದವರಿಗೂ ಹದಿಹರೆಯದವರಿಗೂ ಹದಿಹರೆಯದವರಿಗೂ ಹದಿಹರೆಯದವರಿಗೂ ಹದಿಹರೆಯದವರಿಗೂ ಹದಿಹರೆಯದವರಿಗೂ ಹದಿಹರೆಯದವರಿಗೂ ಹದಿಹರೆಯದವರಿಗೂ ಹದಿಹರೆಯದವರಿಗೂ ಹದಿಹರೆಯದವರಿಗೂ ಹದಿಹರೆಯದವರಿಗೂ ಹದಿಹರೆಯದವರಿಗೂ ಹದಿಹರೆಯದವರಿಗೂ ಹದಿಹರೆಯದವರಿಗೂ ಹದಿಹರೆಯದವರಿಗೂ ಹದಿಹರೆಯದವರಿಗೂ ಹದಿಹರೆಯದವರಿಗೂ ಹದಿಹರೆಯದವರಿಗೂ ಹದಿಹರೆಯದವರಿಗೂ ಹದಿಹರೆಯದವರಿಗೂ ಹದಿಹರೆಯದವರಿಗೂ ಹದಿಹರೆಯದವರಿಗೂ ಹದಿಹರೆಯದವರಿಗೂ ಹದಿಹರೆಯದವರಿಗೂ ಹದಿಹರೆಯದವರಿಗೂ ಹದಿಹರೆಯದವರಿಗೂ ಹದಿಹರೆಯದವರಿಗೂ ಹ\n"
          ]
        },
        {
          "metadata": {
            "tags": null
          },
          "name": "stderr",
          "output_type": "stream",
          "text": [
            "100%|██████████| 1/1 [00:00<00:00, 200.41it/s]"
          ]
        },
        {
          "metadata": {
            "tags": null
          },
          "name": "stdout",
          "output_type": "stream",
          "text": [
            "WARNING: Sentence __src__en__ __tgt__kn__ ಯ@@ ಾ@@ ರ@@ .... ತ@@ ೇ@@ ವ@@ ೆ . truncated to 200 tokens as it exceeds maximum length limit\n"
          ]
        },
        {
          "metadata": {
            "tags": null
          },
          "name": "stderr",
          "output_type": "stream",
          "text": [
            "\n"
          ]
        },
        {
          "metadata": {
            "tags": null
          },
          "name": "stdout",
          "output_type": "stream",
          "text": [
            "Translated: ಒರಿಸ್ಸಾ, ಜಾರ್ಖಂಡ್, ಒಡಿಸ್ಸಾ, ಜಾರ್ಖಂಡ್, ಛತ್ತೀಸ್ಗಢ, ಬಿಜಾಪುರ, ಒಡಿಸ್ಸಾ, ಜಾರ್ಖಂಡ್, ಮಧ್ಯಪ್ರದೇಶ, ಛತ್ತೀಸ್ಗಢ, ಒಡಿಸ್ಸಾ, ಬಿಹಾರ, ಒಡಿಸ್ಸಾ, ಜಾರ್ಖಂಡ್, ಜಾರ್ಖಂಡ್, ಮಧ್ಯಪ್ರದೇಶ, ಛತ್ತೀಸ್ಗಢ, ಒಡಿಸ್ಸಾ, ಜಾರ್ಖಂಡ್, ಬಿಹಾರ, ಒಡಿಸ್ಸಾ, ಜಾರ್ಖಂಡ್, ಜಾರ್ಖಂಡ್, ಛತ್ತೀಸ್ಗಢ, ಒಡಿಸ್ಸಾ, ಒಡಿಸ್ಸಾ, ಜಾರ್ಖಂಡ್, ಮಧ್ಯಪ್ರದೇಶ, ಮಹಾರಾಷ್ಟ್ರ, ಒಡಿಸ್ಸಾ, ಛತ್ತೀಸ್ಗಢ, ಒಡಿಸ್ಸಾ, ಜಾರ್ಖಂಡ್, ಮಣಿಪುರ, ಮೇಘಾಲಯ, ಮಿಜೋರಾಂ, ನಾಗಾಲ್ಯಾಂಡ್, ತ್ರಿಪುರ, ತ್ರಿಪುರ, ತ್ರಿಪುರ, ತ್ರಿಪುರ, ಒಡಿಸ್ಸಾ, ಜಾರ್ಖಂಡ್, ಜಾರ್ಖಂಡ್, ಒಡಿಸ್ಸಾ, ಮಣಿಪುರ, ಸಿಕ್ಕಿಂ, ತ್ರಿಪುರ, ಸಿಕ್ಕಿಂ, ಒಡಿಶಾ, ಸಿಕ್ಕಿಂ, ಒಡಿಶಾ, ತ್ರಿಪುರ, ಸಿಕ್ಕಿಂ, ಜಾರ್ಖಂಡ್, ಬಿಹಾರ, ಜಾರ್ಖಂಡ್, ಜಾರ್ಖಂಡ್, ಜಾರ್ಖಂಡ್, ಮಧ್ಯಪ್ರದೇಶ\n"
          ]
        },
        {
          "metadata": {
            "tags": null
          },
          "name": "stderr",
          "output_type": "stream",
          "text": [
            "100%|██████████| 1/1 [00:00<00:00, 265.23it/s]\n"
          ]
        },
        {
          "metadata": {
            "tags": null
          },
          "name": "stdout",
          "output_type": "stream",
          "text": [
            "Translated: n 8\n"
          ]
        },
        {
          "metadata": {
            "tags": null
          },
          "name": "stderr",
          "output_type": "stream",
          "text": [
            "100%|██████████| 1/1 [00:00<00:00, 618.54it/s]\n"
          ]
        },
        {
          "metadata": {
            "tags": null
          },
          "name": "stdout",
          "output_type": "stream",
          "text": [
            "Translated: ನಮ್ಮ ಪಾಸ್-I\n"
          ]
        },
        {
          "metadata": {
            "tags": null
          },
          "name": "stderr",
          "output_type": "stream",
          "text": [
            "100%|██████████| 1/1 [00:00<00:00, 944.45it/s]\n"
          ]
        },
        {
          "metadata": {
            "tags": null
          },
          "name": "stdout",
          "output_type": "stream",
          "text": [
            "Translated: ದಿನಾಂಕಗಳೊಂದಿಗೆ ಪತ್ರಗಳು\n"
          ]
        },
        {
          "metadata": {
            "tags": null
          },
          "name": "stderr",
          "output_type": "stream",
          "text": [
            "100%|██████████| 9/9 [00:00<00:00, 1374.28it/s]\n"
          ]
        },
        {
          "metadata": {
            "tags": null
          },
          "name": "stdout",
          "output_type": "stream",
          "text": [
            "Translated: ಕ್ರಿ. ಪೂ., ನಾವು 'ಬಿಫೋರ್ ಕ್ರೈಸ್ಟ್' ಎಂಬ ಪದವನ್ನು ನೋಡಿದ್ದೇವೆ. ನೀವು ಕೆಲವೊಮ್ಮೆ ದಿನಾಂಕಗಳ ಮೊದಲು AD ಅನ್ನು ಕಂಡುಕೊಳ್ಳುತ್ತೀರಿ. ಇದು ಎರಡು ಲ್ಯಾಟಿನ್ ಪದಗಳನ್ನು ಸೂಚಿಸುತ್ತದೆ, 'ಅನ್ನೊ ಡೊಮಿನಿ', ಇದರರ್ಥ 'ಕರ್ತನ ವರ್ಷದಲ್ಲಿ' (ಅಂದರೆ ಕ್ರಿಸ್ತನ). ಆದ್ದರಿಂದ 2012 ಅನ್ನು ಕ್ರಿ. ಶ. 2012 ಎಂದು ಸಹ ಬರೆಯಬಹುದು. ಕೆಲವೊಮ್ಮೆ ಕ್ರಿ. ಪೂ. ಮತ್ತು ಕ್ರಿ. ಪೂ. ಬದಲಿಗೆ ಕ್ರಿ. CE ಅಕ್ಷರಗಳು 'ಸಾಮಾನ್ಯ ಯುಗ' ಮತ್ತು BCE ಅಕ್ಷರಗಳು 'ಸಾಮಾನ್ಯ ಯುಗ' ಅನ್ನು ಸೂಚಿಸುತ್ತವೆ. ನಾವು ಈ ಪದಗಳನ್ನು ಬಳಸುತ್ತಿರುವುದು ಯಾಕೆಂದರೆ ಈಗ ಪ್ರಪಂಚದ ಹೆಚ್ಚಿನ ದೇಶಗಳಲ್ಲಿ ಕ್ರೈಸ್ತ ಯುಗವನ್ನು ಬಳಸಲಾಗುತ್ತಿದೆ. ಭಾರತದಲ್ಲಿ ನಾವು ಈ ರೀತಿಯ ಡೇಟಿಂಗ್ ಅನ್ನು ಸುಮಾರು ಇನ್ನೂರು ವರ್ಷಗಳ ಹಿಂದೆ ಪ್ರಾರಂಭಿಸಿದ್ದೇವೆ. ಮತ್ತು ಕೆಲವೊಮ್ಮೆ, ಬಿಪಿ ಎಂದರೆ 'ಬಿಫೋರ್ ಪ್ರೆಜೆಂಟ್' ಎಂಬ ಅಕ್ಷರಗಳನ್ನು ಬಳಸಲಾಗುತ್ತದೆ.\n"
          ]
        },
        {
          "metadata": {
            "tags": null
          },
          "name": "stderr",
          "output_type": "stream",
          "text": [
            "100%|██████████| 2/2 [00:00<00:00, 2398.12it/s]\n"
          ]
        },
        {
          "metadata": {
            "tags": null
          },
          "name": "stdout",
          "output_type": "stream",
          "text": [
            "Translated: ಪುಟ 3ರಲ್ಲಿ ಉಲ್ಲೇಖಿಸಿರುವ ಎರಡು ದಿನಾಂಕಗಳನ್ನು ಕಂಡುಕೊಳ್ಳಿ. ನೀವು ಅವರಿಗೆ ಯಾವ ರೀತಿಯ ಅಕ್ಷರಗಳನ್ನು ಬಳಸುತ್ತೀರಿ?\n"
          ]
        },
        {
          "metadata": {
            "tags": null
          },
          "name": "stderr",
          "output_type": "stream",
          "text": [
            "100%|██████████| 1/1 [00:00<00:00, 1084.08it/s]\n"
          ]
        },
        {
          "metadata": {
            "tags": null
          },
          "name": "stdout",
          "output_type": "stream",
          "text": [
            "Translated: ಉಳಿದೆಡೆ ಶೇ.\n"
          ]
        },
        {
          "metadata": {
            "tags": null
          },
          "name": "stderr",
          "output_type": "stream",
          "text": [
            "100%|██████████| 6/6 [00:00<00:00, 2084.64it/s]\n"
          ]
        },
        {
          "metadata": {
            "tags": null
          },
          "name": "stdout",
          "output_type": "stream",
          "text": [
            "Translated: ಶಾಸನಗಳು ಕಠಿಣ ಮೇಲ್ಮೈಗಳ ಮೇಲೆ ಕೆತ್ತಲ್ಪಟ್ಟಿರುವುದನ್ನು ನಾವು ನೋಡಿದ್ದೇವೆ. ಇವುಗಳಲ್ಲಿ ಹಲವನ್ನು ನೂರಾರು ವರ್ಷಗಳ ಹಿಂದೆ ಕೆತ್ತಲಾಗಿದೆ. ಎಲ್ಲಾ ಶಾಸನಗಳು ಲಿಪಿಯನ್ನು ಮತ್ತು ಭಾಷೆಗಳನ್ನು ಹೊಂದಿವೆ. ಬಳಸಿದ ಭಾಷೆಗಳು ಮತ್ತು ಸ್ಕ್ರಿಪ್ಟ್ಗಳು ಕಾಲಾನಂತರದಲ್ಲಿ ಬದಲಾಗಿವೆ. ಹಾಗಾದರೆ, ಬರೆಯಲ್ಪಟ್ಟಿರುವ ವಿಷಯವನ್ನು ವಿದ್ವಾಂಸರು ಹೇಗೆ ಅರ್ಥಮಾಡಿಕೊಳ್ಳುತ್ತಾರೆ? ಇದನ್ನು ಡಿಸೆಫೆರ್ಮೆಂಟ್ ಎಂದು ಕರೆಯಲ್ಪಡುವ ಪ್ರಕ್ರಿಯೆಯ ಮೂಲಕ ಮಾಡಬಹುದು.\n"
          ]
        },
        {
          "metadata": {
            "tags": null
          },
          "name": "stderr",
          "output_type": "stream",
          "text": [
            "100%|██████████| 1/1 [00:00<00:00, 2069.22it/s]\n"
          ]
        },
        {
          "metadata": {
            "tags": null
          },
          "name": "stdout",
          "output_type": "stream",
          "text": [
            "Translated: ಕೆ ಎಲ್ ಐ ಒ ಪಿ ಎ ಡಿ (ಟಿ) ಆರ್ ಎ\n"
          ]
        },
        {
          "metadata": {
            "tags": null
          },
          "name": "stderr",
          "output_type": "stream",
          "text": [
            "100%|██████████| 1/1 [00:00<00:00, 1008.25it/s]\n"
          ]
        },
        {
          "metadata": {
            "tags": null
          },
          "name": "stdout",
          "output_type": "stream",
          "text": [
            "Translated: ಪಿ ಟಿ ಒ ಎಲ್ ಎಂ ಐ ಎಸ್\n"
          ]
        },
        {
          "metadata": {
            "tags": null
          },
          "name": "stderr",
          "output_type": "stream",
          "text": [
            "100%|██████████| 1/1 [00:00<00:00, 2096.10it/s]\n"
          ]
        },
        {
          "metadata": {
            "tags": null
          },
          "name": "stdout",
          "output_type": "stream",
          "text": [
            "Translated: n 8\n"
          ]
        },
        {
          "metadata": {
            "tags": null
          },
          "name": "stderr",
          "output_type": "stream",
          "text": [
            "100%|██████████| 1/1 [00:00<00:00, 775.29it/s]\n"
          ]
        },
        {
          "metadata": {
            "tags": null
          },
          "name": "stdout",
          "output_type": "stream",
          "text": [
            "Translated: ನಮ್ಮ ಪಾಸ್-I\n"
          ]
        },
        {
          "metadata": {
            "tags": null
          },
          "name": "stderr",
          "output_type": "stream",
          "text": [
            "100%|██████████| 1/1 [00:00<00:00, 974.74it/s]\n"
          ]
        },
        {
          "metadata": {
            "tags": null
          },
          "name": "stdout",
          "output_type": "stream",
          "text": [
            "Translated: 2018-19 ನೇ ಸಾಲಿನಲ್ಲಿ ಶೇ.\n"
          ]
        },
        {
          "metadata": {
            "tags": null
          },
          "name": "stderr",
          "output_type": "stream",
          "text": [
            "100%|██████████| 3/3 [00:00<00:00, 266.44it/s]"
          ]
        },
        {
          "metadata": {
            "tags": null
          },
          "name": "stdout",
          "output_type": "stream",
          "text": [
            "WARNING: Sentence __src__en__ __tgt__kn__ ಕ@@ ್@@ ರ@@ .... ರ@@ ಿ . ಶ . truncated to 200 tokens as it exceeds maximum length limit\n",
            "WARNING: Sentence __src__en__ __tgt__kn__ CE ಅ@@ ಕ@@ .... ್@@ ತ@@ ದ@@ ೆ . truncated to 200 tokens as it exceeds maximum length limit\n"
          ]
        },
        {
          "metadata": {
            "tags": null
          },
          "name": "stderr",
          "output_type": "stream",
          "text": [
            "\n"
          ]
        },
        {
          "metadata": {
            "tags": null
          },
          "name": "stdout",
          "output_type": "stream",
          "text": [
            "Translated: ಸಂಜೆಯ ಸಂಜೆಯ ಸಂಜೆಯ ಸಂಜೆಯ ಸಂಜೆಯ ಸಂಜೆಯ ಸಂಜೆಯ ಸಂಜೆಯ ಸಂಜೆಯ ಸಂಜೆಯ ಸಂಜೆಯ ಸಂಜೆಯ ಸಂಜೆಯ ಸಂಜೆಯ ಸಂಜೆಯ ಸಂಜೆಯ ಸಂಜೆಯ ಸಂಜೆಯ ಸಂಜೆಯ ಸಂಜೆಯ ಸಂಜೆಯ ಸಂಜೆಯ ಸಂಜೆಯ ಸಂಜೆಯ ಸಂಜೆಯ ಸಂಜೆಯ ಸಂಜೆಯ ಸಂಜೆಯ ಸಂಜೆಯ ಸಂಜೆಯ ಸಂಜೆಯ ಸಂಜೆಯ ಸಂಜೆಯ ಸಂಜೆಯ ಸಂಜೆಯ ಸಂಜೆಯ ಸಂಜೆಯ ಸಂಜೆಯ ಸಂಜೆಯ ಸಂಜೆಯ ಸಂಜೆಯ ಸಂಜೆಯ ಸಂಜೆ ಸಂಜೆಯ ಸಂಜೆಯ ಸಂಜೆಯ ಸಂಜೆಯ ಸಂಜೆಯ ಸಂಜೆಯ ಸಂಜೆಯ ಸಂಜೆಯ ಸಂಜೆಯ ಸಂಜೆಯ ಸಂಜೆಯ ಸಂಜೆಯ ಸಂಜೆಯ ಸಂಜೆಯ ಸಂಜೆಯ ಸಂಜೆಯ ಸಂಜೆಯ ಸಂಜೆಯ ಸಂಜೆಯ ಸಂಜೆಯ ಸಂಜೆಯ ಸಂಜೆಯ ಸಂಜೆಯ ಸಂಜೆಯ 2012 – ಇಲೆವೆಲೆವೆಲೆವೆಲೆವೆಲೆವೆಲೆವೆಲೆವೆಲೆವೆಲೆವೆಲೆವೆಲೆವೆಲೆವೆಲೆವೆಲೆವೆಲೆವೆಲೆವೆಲೆವೆಲೆವೆಲೆವೆಲೆವೆಲೆವೆಲೆವೆಲೆವೆಲೆವೆಲೆವೆಲೆವೆಲೆವೆಲೆವೆಲೆವೆಲೆವೆಲೆವೆಲೆವೆಲೆವೆಲೆವೆಲೆವೆಲೆವೆಲೆವೆಲೆವೆಲೆವೆಲೆವೆಲೆವೆಲೆವೆಲೆವೆಲೆವೆಲೆವೆಲೆವೆಲೆವೆಲೆವೆಲೆವೆಲೆವೆಲೆವೆಲೆವೆಲೆವೆಲೆವೆಲೆವೆಲೆವೆಲೆವೆಲೆವೆಲೆವೆಲೆವೆಲೆವೆಲೆವೆಲೆವೆಲೆವೆಲೆವೆಲೆವೆಲೆವೆಲೆವೆಲೆವೆಲೆವೆಲೆವೆಲೆವೆಲೆವೆಲೆವೆಲೆವೆಲೆವೆಲೆವೆಲೆವೆಲೆವೆಲೆವೆಲೆವೆಲೆವೆಲೆವೆಲೆವೆಲೆವೆಲೆವೆಲೆವೆಲೆವೆಲೆವೆಲೆವೆಲೆವೆಲೆವೆಲೆವೆಲೆವೆಲೆವೆಲೆವೆಲೆವೆಲೆವೆಲೆ \"\" \"ಅಮೃತ\" \"ಅಮೃತ\" \"ಅಮೃತ\" \"ಅಮೃತ\" \"ಅಮೃತ\" \"ಅಮೃತ\" \"ಅಮೃತ\" \"ಅಮೃತ\" \"ಅಮೃತ\" \"ಅಮೃತ\" \"ಅಮೃತ\" \"ಅಮೃತ\" \"ಅಮೃತ\" \"ಅಮೃತ\" \"ಅಮೃತ\" \"ಅಮೃತ\" \"ಅಮೃತ\" \"ಅಮೃತ\" \"ಅಮೃತ\" \"ಅಮೃತ\" \"ಅಮೃತ\" \"ಅಮೃತ\" \"ಅಮೃತ\" \"ಅಮೃತ\" \"ಅಮೃತ\" \"ಅಮೃತ\" \"ಅಮೃತ\" ಅಮೃತ \"\" ಅಮೃತ \"ಅಮೃತ\" ಅಮೃತ \"ಅಮೃತ\" ಅಮೃತ \"ಅಮೃತ\" ಅಮೃತ \"ಅಮೃತ\" ಅಮೃತ \"ಅಮೃತ\" ಅಮೃತ \"ಅಮೃತ\" ಅಮೃತ \"ಅಮೃತ\" ಅಮೃತ \"ಅಮೃತ\" ಅಮೃತ \"ಅಮೃತ\" ಅಮೃತ \"ಅಮೃತ\" ಅಮೃತ \"ಅಮೃತ\" ಅಮೃತ ಅಮೃತ ಅಮೃತ ಅಮೃತ ಅಮೃತ ಅಮೃತ ಅಮೃತ ಅಮೃತ ಅಮೃತ ಅಮೃತ\n"
          ]
        },
        {
          "metadata": {
            "tags": null
          },
          "name": "stderr",
          "output_type": "stream",
          "text": [
            "100%|██████████| 3/3 [00:00<00:00, 283.05it/s]"
          ]
        },
        {
          "metadata": {
            "tags": null
          },
          "name": "stdout",
          "output_type": "stream",
          "text": [
            "WARNING: Sentence __src__en__ __tgt__kn__ ಕ@@ ್@@ ರ@@ .... ರ@@ ಿ . ಶ . truncated to 200 tokens as it exceeds maximum length limit\n",
            "WARNING: Sentence __src__en__ __tgt__kn__ CE ಅ@@ ಕ@@ .... ್@@ ತ@@ ದ@@ ೆ . truncated to 200 tokens as it exceeds maximum length limit\n"
          ]
        },
        {
          "metadata": {
            "tags": null
          },
          "name": "stderr",
          "output_type": "stream",
          "text": [
            "\n"
          ]
        },
        {
          "metadata": {
            "tags": null
          },
          "name": "stdout",
          "output_type": "stream",
          "text": [
            "Translated: ಸಂಜೆಯ ಸಂಜೆಯ ಸಂಜೆಯ ಸಂಜೆಯ ಸಂಜೆಯ ಸಂಜೆಯ ಸಂಜೆಯ ಸಂಜೆಯ ಸಂಜೆಯ ಸಂಜೆಯ ಸಂಜೆಯ ಸಂಜೆಯ ಸಂಜೆಯ ಸಂಜೆಯ ಸಂಜೆಯ ಸಂಜೆಯ ಸಂಜೆಯ ಸಂಜೆಯ ಸಂಜೆಯ ಸಂಜೆಯ ಸಂಜೆಯ ಸಂಜೆಯ ಸಂಜೆಯ ಸಂಜೆಯ ಸಂಜೆಯ ಸಂಜೆಯ ಸಂಜೆಯ ಸಂಜೆಯ ಸಂಜೆಯ ಸಂಜೆಯ ಸಂಜೆಯ ಸಂಜೆಯ ಸಂಜೆಯ ಸಂಜೆಯ ಸಂಜೆಯ ಸಂಜೆಯ ಸಂಜೆಯ ಸಂಜೆಯ ಸಂಜೆಯ ಸಂಜೆಯ ಸಂಜೆಯ ಸಂಜೆಯ ಸಂಜೆ ಸಂಜೆಯ ಸಂಜೆಯ ಸಂಜೆಯ ಸಂಜೆಯ ಸಂಜೆಯ ಸಂಜೆಯ ಸಂಜೆಯ ಸಂಜೆಯ ಸಂಜೆಯ ಸಂಜೆಯ ಸಂಜೆಯ ಸಂಜೆಯ ಸಂಜೆಯ ಸಂಜೆಯ ಸಂಜೆಯ ಸಂಜೆಯ ಸಂಜೆಯ ಸಂಜೆಯ ಸಂಜೆಯ ಸಂಜೆಯ ಸಂಜೆಯ ಸಂಜೆಯ ಸಂಜೆಯ ಸಂಜೆಯ 2012 – ಇಲೆವೆಲೆವೆಲೆವೆಲೆವೆಲೆವೆಲೆವೆಲೆವೆಲೆವೆಲೆವೆಲೆವೆಲೆವೆಲೆವೆಲೆವೆಲೆವೆಲೆವೆಲೆವೆಲೆವೆಲೆವೆಲೆವೆಲೆವೆಲೆವೆಲೆವೆಲೆವೆಲೆವೆಲೆವೆಲೆವೆಲೆವೆಲೆವೆಲೆವೆಲೆವೆಲೆವೆಲೆವೆಲೆವೆಲೆವೆಲೆವೆಲೆವೆಲೆವೆಲೆವೆಲೆವೆಲೆವೆಲೆವೆಲೆವೆಲೆವೆಲೆವೆಲೆವೆಲೆವೆಲೆವೆಲೆವೆಲೆವೆಲೆವೆಲೆವೆಲೆವೆಲೆವೆಲೆವೆಲೆವೆಲೆವೆಲೆವೆಲೆವೆಲೆವೆಲೆವೆಲೆವೆಲೆವೆಲೆವೆಲೆವೆಲೆವೆಲೆವೆಲೆವೆಲೆವೆಲೆವೆಲೆವೆಲೆವೆಲೆವೆಲೆವೆಲೆವೆಲೆವೆಲೆವೆಲೆವೆಲೆವೆಲೆವೆಲೆವೆಲೆವೆಲೆವೆಲೆವೆಲೆವೆಲೆವೆಲೆವೆಲೆವೆಲೆವೆಲೆವೆಲೆವೆಲೆವೆಲೆವೆಲೆವೆಲೆವೆಲೆವೆಲೆವೆಲೆವೆಲೆವೆಲೆ \"\" \"ಅಮೃತ\" \"ಅಮೃತ\" \"ಅಮೃತ\" \"ಅಮೃತ\" \"ಅಮೃತ\" \"ಅಮೃತ\" \"ಅಮೃತ\" \"ಅಮೃತ\" \"ಅಮೃತ\" \"ಅಮೃತ\" \"ಅಮೃತ\" \"ಅಮೃತ\" \"ಅಮೃತ\" \"ಅಮೃತ\" \"ಅಮೃತ\" \"ಅಮೃತ\" \"ಅಮೃತ\" \"ಅಮೃತ\" \"ಅಮೃತ\" \"ಅಮೃತ\" \"ಅಮೃತ\" \"ಅಮೃತ\" \"ಅಮೃತ\" \"ಅಮೃತ\" \"ಅಮೃತ\" \"ಅಮೃತ\" \"ಅಮೃತ\" ಅಮೃತ \"\" ಅಮೃತ \"ಅಮೃತ\" ಅಮೃತ \"ಅಮೃತ\" ಅಮೃತ \"ಅಮೃತ\" ಅಮೃತ \"ಅಮೃತ\" ಅಮೃತ \"ಅಮೃತ\" ಅಮೃತ \"ಅಮೃತ\" ಅಮೃತ \"ಅಮೃತ\" ಅಮೃತ \"ಅಮೃತ\" ಅಮೃತ \"ಅಮೃತ\" ಅಮೃತ \"ಅಮೃತ\" ಅಮೃತ \"ಅಮೃತ\" ಅಮೃತ ಅಮೃತ ಅಮೃತ ಅಮೃತ ಅಮೃತ ಅಮೃತ ಅಮೃತ ಅಮೃತ ಅಮೃತ ಅಮೃತ\n"
          ]
        },
        {
          "metadata": {
            "tags": null
          },
          "name": "stderr",
          "output_type": "stream",
          "text": [
            "100%|██████████| 1/1 [00:00<00:00, 2214.52it/s]\n"
          ]
        },
        {
          "metadata": {
            "tags": null
          },
          "name": "stdout",
          "output_type": "stream",
          "text": [
            "Translated: 9 ಎನ್\n"
          ]
        },
        {
          "metadata": {
            "tags": null
          },
          "name": "stderr",
          "output_type": "stream",
          "text": [
            "100%|██████████| 1/1 [00:00<00:00, 198.42it/s]\n"
          ]
        },
        {
          "metadata": {
            "tags": null
          },
          "name": "stdout",
          "output_type": "stream",
          "text": [
            "Translated: ಕೀವರ್ಡ್ಸ್ನ ಪ್ರಯಾಣದ ಹಸ್ತಪ್ರತಿ ಶಿಲಾಶಾಸನವು ಪುರಾತತ್ವ ಇತಿಹಾಸದ ಮೂಲಗಳಿಂದ\n"
          ]
        },
        {
          "metadata": {
            "tags": null
          },
          "name": "stderr",
          "output_type": "stream",
          "text": [
            "100%|██████████| 1/1 [00:00<00:00, 2288.22it/s]\n"
          ]
        },
        {
          "metadata": {
            "tags": null
          },
          "name": "stdout",
          "output_type": "stream",
          "text": [
            "Translated: ಊಹಿಸಿಕೊಳ್ಳಿ.\n"
          ]
        },
        {
          "metadata": {
            "tags": null
          },
          "name": "stderr",
          "output_type": "stream",
          "text": [
            "100%|██████████| 2/2 [00:00<00:00, 2319.22it/s]\n"
          ]
        },
        {
          "metadata": {
            "tags": null
          },
          "name": "stdout",
          "output_type": "stream",
          "text": [
            "Translated: ನೀವು ಪುರಾತತ್ವಶಾಸ್ತ್ರಜ್ಞರನ್ನು ಭೇಟಿ ಮಾಡಬೇಕು. ನೀವು ಕೇಳಲು ಬಯಸುವ ಐದು ಪ್ರಶ್ನೆಗಳ ಪಟ್ಟಿಯನ್ನು ಸಿದ್ಧಪಡಿಸಿ.\n"
          ]
        },
        {
          "metadata": {
            "tags": null
          },
          "name": "stderr",
          "output_type": "stream",
          "text": [
            "100%|██████████| 1/1 [00:00<00:00, 1016.80it/s]\n"
          ]
        },
        {
          "metadata": {
            "tags": null
          },
          "name": "stdout",
          "output_type": "stream",
          "text": [
            "Translated: ನೆನಪಿಸಿಕೊಳ್ಳೋಣ ಬನ್ನಿ\n"
          ]
        },
        {
          "metadata": {
            "tags": null
          },
          "name": "stderr",
          "output_type": "stream",
          "text": [
            "100%|██████████| 2/2 [00:00<00:00, 2486.99it/s]\n"
          ]
        },
        {
          "metadata": {
            "tags": null
          },
          "name": "stdout",
          "output_type": "stream",
          "text": [
            "Translated: 1 ಆಗಿದೆ. ಈ ಕೆಳಗಿನವುಗಳನ್ನು ಹೊಂದಿಃ\n"
          ]
        },
        {
          "metadata": {
            "tags": null
          },
          "name": "stderr",
          "output_type": "stream",
          "text": [
            "100%|██████████| 1/1 [00:00<00:00, 2038.05it/s]\n"
          ]
        },
        {
          "metadata": {
            "tags": null
          },
          "name": "stdout",
          "output_type": "stream",
          "text": [
            "Translated: ನರ್ಮದಾ ಕಣಿವೆ-ಮೊದಲ ದೊಡ್ಡ ರಾಜ್ಯ\n"
          ]
        },
        {
          "metadata": {
            "tags": null
          },
          "name": "stderr",
          "output_type": "stream",
          "text": [
            "100%|██████████| 1/1 [00:00<00:00, 2305.83it/s]\n"
          ]
        },
        {
          "metadata": {
            "tags": null
          },
          "name": "stdout",
          "output_type": "stream",
          "text": [
            "Translated: ಮಗಧ ಬೇಟೆ ಮತ್ತು ಒಟ್ಟುಗೂಡಿಸುವಿಕೆ\n"
          ]
        },
        {
          "metadata": {
            "tags": null
          },
          "name": "stderr",
          "output_type": "stream",
          "text": [
            "100%|██████████| 1/1 [00:00<00:00, 822.57it/s]\n"
          ]
        },
        {
          "metadata": {
            "tags": null
          },
          "name": "stdout",
          "output_type": "stream",
          "text": [
            "Translated: ಸುಮಾರು 2500 ವರ್ಷಗಳ ಹಿಂದೆ ಗರೊ ಬೆಟ್ಟಗಳು ಮತ್ತು ನಗರಗಳು\n"
          ]
        },
        {
          "metadata": {
            "tags": null
          },
          "name": "stderr",
          "output_type": "stream",
          "text": [
            "100%|██████████| 1/1 [00:00<00:00, 1029.78it/s]\n"
          ]
        },
        {
          "metadata": {
            "tags": null
          },
          "name": "stdout",
          "output_type": "stream",
          "text": [
            "Translated: ಸಿಂಧೂ ಮತ್ತು ಅದರ ಉಪನದಿಗಳು ಮುಂಚಿನ ಕೃಷಿ\n"
          ]
        },
        {
          "metadata": {
            "tags": null
          },
          "name": "stderr",
          "output_type": "stream",
          "text": [
            "100%|██████████| 1/1 [00:00<00:00, 2211.02it/s]\n"
          ]
        },
        {
          "metadata": {
            "tags": null
          },
          "name": "stdout",
          "output_type": "stream",
          "text": [
            "Translated: ಗಂಗಾ ಕಣಿವೆ-ಮೊದಲ ನಗರಗಳು\n"
          ]
        },
        {
          "metadata": {
            "tags": null
          },
          "name": "stderr",
          "output_type": "stream",
          "text": [
            "100%|██████████| 2/2 [00:00<00:00, 2804.62it/s]\n"
          ]
        },
        {
          "metadata": {
            "tags": null
          },
          "name": "stdout",
          "output_type": "stream",
          "text": [
            "Translated: 2 ರಷ್ಟಿದೆ. ಹಸ್ತಪ್ರತಿಗಳು ಮತ್ತು ಶಾಸನಗಳ ನಡುವಿನ ಒಂದು ಪ್ರಮುಖ ವ್ಯತ್ಯಾಸವನ್ನು ಪಟ್ಟಿ ಮಾಡಿ.\n"
          ]
        },
        {
          "metadata": {
            "tags": null
          },
          "name": "stderr",
          "output_type": "stream",
          "text": [
            "100%|██████████| 1/1 [00:00<00:00, 679.79it/s]\n"
          ]
        },
        {
          "metadata": {
            "tags": null
          },
          "name": "stdout",
          "output_type": "stream",
          "text": [
            "Translated: ಚರ್ಚೆ ಮಾಡೋಣ.\n"
          ]
        },
        {
          "metadata": {
            "tags": null
          },
          "name": "stderr",
          "output_type": "stream",
          "text": [
            "100%|██████████| 3/3 [00:00<00:00, 3119.99it/s]\n"
          ]
        },
        {
          "metadata": {
            "tags": null
          },
          "name": "stdout",
          "output_type": "stream",
          "text": [
            "Translated: 3 ರಷ್ಟಿದೆ. ರಶೀದಾ ಅವರ ಪ್ರಶ್ನೆಗೆ ಹಿಂತಿರುಗಿ. ನೀವು ಕೆಲವು ಉತ್ತರಗಳನ್ನು ಯೋಚಿಸಬಹುದೇ?\n"
          ]
        },
        {
          "metadata": {
            "tags": null
          },
          "name": "stderr",
          "output_type": "stream",
          "text": [
            "100%|██████████| 1/1 [00:00<00:00, 948.51it/s]\n"
          ]
        },
        {
          "metadata": {
            "tags": null
          },
          "name": "stdout",
          "output_type": "stream",
          "text": [
            "Translated: ಏನು, ಎಲ್ಲಿ, ಹೇಗೆ ಮತ್ತು ಯಾವಾಗ?\n"
          ]
        },
        {
          "metadata": {
            "tags": null
          },
          "name": "stderr",
          "output_type": "stream",
          "text": [
            "100%|██████████| 5/5 [00:00<00:00, 1519.90it/s]\n"
          ]
        },
        {
          "metadata": {
            "tags": null
          },
          "name": "stdout",
          "output_type": "stream",
          "text": [
            "Translated: ಅರ್ಥೈಸುವಿಕೆಯ ಅತ್ಯಂತ ಪ್ರಸಿದ್ಧ ಕಥೆಗಳಲ್ಲಿ ಒಂದು ಉತ್ತರ ಆಫ್ರಿಕಾದ ದೇಶವಾದ ಈಜಿಪ್ಟ್ನಿಂದ ಬಂದಿದೆ, ಅಲ್ಲಿ ಸುಮಾರು 5000 ವರ್ಷಗಳ ಹಿಂದೆ ರಾಜರು ಮತ್ತು ರಾಣಿಗಳಿದ್ದರು. ರೋಸೆಟ್ಟಾ ಈಜಿಪ್ಟ್ನ ಉತ್ತರ ಕರಾವಳಿಯಲ್ಲಿರುವ ಒಂದು ಪಟ್ಟಣವಾಗಿದೆ, ಮತ್ತು ಇಲ್ಲಿ ಮೂರು ವಿಭಿನ್ನ ಭಾಷೆಗಳು ಮತ್ತು ಲಿಪಿಯಲ್ಲಿ (ಗ್ರೀಕ್, ಮತ್ತು ಈಜಿಪ್ಟ್ನ ಎರಡು ರೂಪಗಳು) ಶಾಸನಗಳನ್ನು ಹೊಂದಿರುವ ಕೆತ್ತನೆಯ ಕಲ್ಲು ಕಂಡುಬಂದಿದೆ. ಗ್ರೀಕ್ ಭಾಷೆಯನ್ನು ಓದಬಲ್ಲ ವಿದ್ವಾಂಸರು ಅರಸರು ಮತ್ತು ರಾಣಿಗಳ ಹೆಸರುಗಳನ್ನು ಕಾರ್ಟೂಷ್ ಎಂದು ಕರೆಯಲಾಗುವ ಒಂದು ಸಣ್ಣ ಚೌಕಟ್ಟಿನಲ್ಲಿ ಇಡಲಾಗಿದೆ ಎಂದು ಕಂಡುಹಿಡಿದರು. ನಂತರ ಅವರು ಗ್ರೀಕ್ ಮತ್ತು ಈಜಿಪ್ಟ್ನ ಚಿಹ್ನೆಗಳನ್ನು ಪಕ್ಕಪಕ್ಕದಲ್ಲಿ ಇರಿಸಿದರು, ಮತ್ತು ಈಜಿಪ್ಟ್ನ ಅಕ್ಷರಗಳು ಯಾವ ಶಬ್ದಗಳಿಗೆ ನಿಂತಿವೆ ಎಂಬುದನ್ನು ಗುರುತಿಸಿದರು. ನೀವು ನೋಡಬಹುದಾದಂತೆ, ಸಿಂಹವು L ಮತ್ತು ಪಕ್ಷಿಯು A ಅನ್ನು ಸೂಚಿಸುತ್ತವೆ.\n"
          ]
        },
        {
          "metadata": {
            "tags": null
          },
          "name": "stderr",
          "output_type": "stream",
          "text": [
            "100%|██████████| 1/1 [00:00<00:00, 943.81it/s]\n"
          ]
        },
        {
          "metadata": {
            "tags": null
          },
          "name": "stdout",
          "output_type": "stream",
          "text": [
            "Translated: 2018-19 ನೇ ಸಾಲಿನಲ್ಲಿ ಶೇ.\n"
          ]
        },
        {
          "metadata": {
            "tags": null
          },
          "name": "stderr",
          "output_type": "stream",
          "text": [
            "100%|██████████| 1/1 [00:00<00:00, 866.23it/s]\n"
          ]
        },
        {
          "metadata": {
            "tags": null
          },
          "name": "stdout",
          "output_type": "stream",
          "text": [
            "Translated: ಅವಿರಳ ಅವಿರಳ ಅವಿರಳ ಅವಿರಳ ಅವಿರಳ ಅವಿರಳ ಅವಿರಳ ಅವಿರಳ ಅವಿರಳ ಅವಿರಳ ಅವಿರಳ ಅವಿರಳ ಅವಿರಳ ಅವಿರಳ ಅವಿರಳ ಅವಿರಳ ಅವಿರಳ ಅವಿರಳ ಅವಿರಳ ಅವಿರಳ ಅವಿರಳ ಅವಿರಳ ಅವಿರಳ ಅವಿರಳ ಅವಿರಳ ಅವಿರಳ ಅವಿರಳ ಅವಿರಳ ಅವಿರಳ ಅವಿರಳ ಅವಿರಳ ಅವಿರಳ ಅವಿರಳ ಅವಿರಳ ಅವಿರಳ ಅವಿರಳ ಅವಿರಳ ಅವಿರಳ ಅವಿರಳ ಅವಿರಳ ಅವಿರಳ ಅವಿರಳ ಅವಿರಳ ಅವಿರಳ ಅವಿರಳ ಅವಿರಳ ಅವಿರಳ ಅವಿರಳ ಅವಿರಳ ಅವಿರಳ ಅವಿರಳ ಅವಿರಳ ಅವಿರಳ ಅವಿರಳ ಅವಿರಳ ಅವಿರಳ ಅವಿರಳ ಅವಿರಳ ಅವಿರಳ ಅವಿರಳ\n"
          ]
        },
        {
          "metadata": {
            "tags": null
          },
          "name": "stderr",
          "output_type": "stream",
          "text": [
            "100%|██████████| 1/1 [00:00<00:00, 380.68it/s]\n"
          ]
        },
        {
          "output_type": "stream",
          "name": "stdout",
          "text": [
            "Translated: \"\" \"\" \"\" \"\" \"\" \"\" \"\" \"\" \"\" \"\" \"\" \"\" \"\" \"\" \"\" \"\" \"\" \"\" \"\" \"\" \"\" \"\" \"\" \"\" \"\" \"\" \"\" \"\" \"\" \"\" \"\" \"\" \"\" \"\" \"\" \"\" \"\" \"\" \"\" \"\" \"\" \"\" \"\" \"\" \"\" \"\" \"\" \"\" \"\" \"\" \"\" \"\" \"\" \"\" \"\" \"\" \"\" \"\" \"\" \"\" \"\" \"\" \"\" \"\" \"\" \"\" \"\" \"\" \"\" \"\" \"\" \"\" \"\" \"\" \"\" \"\" \"\" \"\" \"\" \"\" \"\" \"\" \"\" \"\" \"\" \"\" \"\" \"\" \"\" \"\" \"\" \"\" \"\" \"\" \"\" \"\" \"\" \"\" \"\" \"\"\n"
          ]
        },
        {
          "output_type": "stream",
          "name": "stderr",
          "text": [
            "100%|██████████| 1/1 [00:00<00:00, 319.23it/s]"
          ]
        },
        {
          "output_type": "stream",
          "name": "stdout",
          "text": [
            "WARNING: Sentence __src__en__ __tgt__kn__ ಅ@@ ರ@@ ್@@ .... ್@@ ತ@@ ವ@@ ೆ . truncated to 200 tokens as it exceeds maximum length limit\n"
          ]
        },
        {
          "output_type": "stream",
          "name": "stderr",
          "text": [
            "\n"
          ]
        },
        {
          "output_type": "stream",
          "name": "stdout",
          "text": [
            "Translated: \"\" \"ಶಿಷ್ಟಾಚಾರ\" \"\" \"ಶಿಷ್ಟಾಚಾರ\" \"\" \"ಶಿಷ್ಟಾಚಾರ\" \"\" \"ಶಿಷ್ಟಾಚಾರ\" \"\" \"ಶಿಷ್ಟಾಚಾರ\" \"\" \"ಶಿಷ್ಟಾಚಾರ\" \"\" \"ಶಿಷ್ಟಾಚಾರ\" \"\" \"ಶಿಷ್ಟಾಚಾರ\" \"\" \"ಶಿಷ್ಟಾಚಾರ\" \"\" \"ಶಿಷ್ಟಾಚಾರ\" \"\" ಶಿಷ್ಟಾಚಾರ \"\" \"ಶಿಷ್ಟಾಚಾರ\" \"\" ಶಿಷ್ಟಾಚಾರ \"\" \"ಶಿಷ್ಟಾಚಾರ\" \"\" ಶಿಷ್ಟಾಚಾರ \"\" \"ಶಿಷ್ಟಾಚಾರ\" \"\" ಶಿಷ್ಟಾಚಾರ \"\" \"ಶಿಷ್ಟಾಚಾರ\" \"\" ಶಿಷ್ಟಾಚಾರ \"\" \"ಶಿಷ್ಟಾಚಾರ\" \"\" ಶಿಷ್ಟಾಚಾರ \"\" \"ಶಿಷ್ಟಾಚಾರ\" \"\" ಶಿಷ್ಟಾಚಾರ \"\" \"ಶಿಷ್ಟಾಚಾರ\" \"\" ಶಿಷ್ಟಾಚಾರ \"\" \"ಶಿಷ್ಟಾಚಾರ\" \"ಶಿಷ್ಟಾಚಾರ\" \"ಶಿಷ್ಟಾಚಾರ\" \"ಶಿಷ್ಟಾಚಾರ\" ಶಿಷ್ಟಾಚಾರ \"\" ಶಿಷ್ಟಾಚಾರ \"\" ಶಿಷ್ಟಾಚಾರ \"ಶಿಷ್ಟಾಚಾರ\" \"\n"
          ]
        },
        {
          "output_type": "stream",
          "name": "stderr",
          "text": [
            "100%|██████████| 1/1 [00:00<00:00, 924.47it/s]\n"
          ]
        },
        {
          "output_type": "stream",
          "name": "stdout",
          "text": [
            "Translated: ಅವಿರಳ ಅವಿರಳ ಅವಿರಳ ಅವಿರಳ ಅವಿರಳ ಅವಿರಳ ಅವಿರಳ ಅವಿರಳ ಅವಿರಳ ಅವಿರಳ ಅವಿರಳ ಅವಿರಳ ಅವಿರಳ ಅವಿರಳ ಅವಿರಳ ಅವಿರಳ ಅವಿರಳ ಅವಿರಳ ಅವಿರಳ ಅವಿರಳ ಅವಿರಳ ಅವಿರಳ ಅವಿರಳ ಅವಿರಳ ಅವಿರಳ ಅವಿರಳ ಅವಿರಳ ಅವಿರಳ ಅವಿರಳ ಅವಿರಳ ಅವಿರಳ ಅವಿರಳ ಅವಿರಳ ಅವಿರಳ ಅವಿರಳ ಅವಿರಳ ಅವಿರಳ ಅವಿರಳ ಅವಿರಳ ಅವಿರಳ ಅವಿರಳ ಅವಿರಳ ಅವಿರಳ ಅವಿರಳ ಅವಿರಳ ಅವಿರಳ ಅವಿರಳ ಅವಿರಳ ಅವಿರಳ ಅವಿರಳ ಅವಿರಳ ಅವಿರಳ ಅವಿರಳ ಅವಿರಳ ಅವಿರಳ ಅವಿರಳ ಅವಿರಳ ಅವಿರಳ ಅವಿರಳ ಅವಿರಳ\n"
          ]
        },
        {
          "output_type": "stream",
          "name": "stderr",
          "text": [
            "100%|██████████| 1/1 [00:00<00:00, 966.43it/s]\n"
          ]
        },
        {
          "output_type": "stream",
          "name": "stdout",
          "text": [
            "Translated: \"\" \"\" \"\" \"\" \"\" \"\" \"\" \"\" \"\" \"\" \"\" \"\" \"\" \"\" \"\" \"\" \"\" \"\" \"\" \"\" \"\" \"\" \"\" \"\" \"\" \"\" \"\" \"\" \"\" \"\" \"\" \"\" \"\" \"\" \"\" \"\" \"\" \"\" \"\" \"\" \"\" \"\" \"\" \"\" \"\" \"\" \"\" \"\" \"\" \"\" \"\" \"\" \"\" \"\" \"\" \"\" \"\" \"\" \"\" \"\" \"\" \"\" \"\" \"\" \"\" \"\" \"\" \"\" \"\" \"\" \"\" \"\" \"\" \"\" \"\" \"\" \"\" \"\" \"\" \"\" \"\" \"\" \"\" \"\" \"\" \"\" \"\" \"\" \"\" \"\" \"\" \"\" \"\" \"\" \"\" \"\" \"\" \"\" \"\" \"\"\n"
          ]
        },
        {
          "output_type": "stream",
          "name": "stderr",
          "text": [
            "100%|██████████| 1/1 [00:00<00:00, 313.03it/s]"
          ]
        },
        {
          "output_type": "stream",
          "name": "stdout",
          "text": [
            "WARNING: Sentence __src__en__ __tgt__kn__ ಅ@@ ರ@@ ್@@ .... ್@@ ತ@@ ವ@@ ೆ . truncated to 200 tokens as it exceeds maximum length limit\n"
          ]
        },
        {
          "output_type": "stream",
          "name": "stderr",
          "text": [
            "\n"
          ]
        },
        {
          "output_type": "stream",
          "name": "stdout",
          "text": [
            "Translated: \"\" \"ಶಿಷ್ಟಾಚಾರ\" \"\" \"ಶಿಷ್ಟಾಚಾರ\" \"\" \"ಶಿಷ್ಟಾಚಾರ\" \"\" \"ಶಿಷ್ಟಾಚಾರ\" \"\" \"ಶಿಷ್ಟಾಚಾರ\" \"\" \"ಶಿಷ್ಟಾಚಾರ\" \"\" \"ಶಿಷ್ಟಾಚಾರ\" \"\" \"ಶಿಷ್ಟಾಚಾರ\" \"\" \"ಶಿಷ್ಟಾಚಾರ\" \"\" \"ಶಿಷ್ಟಾಚಾರ\" \"\" ಶಿಷ್ಟಾಚಾರ \"\" \"ಶಿಷ್ಟಾಚಾರ\" \"\" ಶಿಷ್ಟಾಚಾರ \"\" \"ಶಿಷ್ಟಾಚಾರ\" \"\" ಶಿಷ್ಟಾಚಾರ \"\" \"ಶಿಷ್ಟಾಚಾರ\" \"\" ಶಿಷ್ಟಾಚಾರ \"\" \"ಶಿಷ್ಟಾಚಾರ\" \"\" ಶಿಷ್ಟಾಚಾರ \"\" \"ಶಿಷ್ಟಾಚಾರ\" \"\" ಶಿಷ್ಟಾಚಾರ \"\" \"ಶಿಷ್ಟಾಚಾರ\" \"\" ಶಿಷ್ಟಾಚಾರ \"\" \"ಶಿಷ್ಟಾಚಾರ\" \"\" ಶಿಷ್ಟಾಚಾರ \"\" \"ಶಿಷ್ಟಾಚಾರ\" \"ಶಿಷ್ಟಾಚಾರ\" \"ಶಿಷ್ಟಾಚಾರ\" \"ಶಿಷ್ಟಾಚಾರ\" ಶಿಷ್ಟಾಚಾರ \"\" ಶಿಷ್ಟಾಚಾರ \"\" ಶಿಷ್ಟಾಚಾರ \"ಶಿಷ್ಟಾಚಾರ\" \"\n"
          ]
        },
        {
          "output_type": "stream",
          "name": "stderr",
          "text": [
            "100%|██████████| 1/1 [00:00<00:00, 620.00it/s]"
          ]
        },
        {
          "output_type": "stream",
          "name": "stdout",
          "text": [
            "WARNING: Sentence __src__en__ __tgt__kn__ \" \" \" .... ಚ@@ ಾ@@ ರ \" \" truncated to 200 tokens as it exceeds maximum length limit\n"
          ]
        },
        {
          "output_type": "stream",
          "name": "stderr",
          "text": [
            "\n"
          ]
        },
        {
          "output_type": "stream",
          "name": "stdout",
          "text": [
            "Translated: \"\" \"\" \"\" \"\" \"\" \"\" \"\" \"\" \"\" \"\" \"\" \"\" \"\" \"\" \"\" \"\" \"\" \"\" \"\" \"\" \"\" \"\" \"\" \"\" \"\" \"\" \"\" \"\" \"\" \"\" \"\" \"\" \"\" \"\" \"\" \"\" \"\" \"\" \"\" \"\" \"\" \"\" \"\" \"\" \"\" \"\" \"\" \"\" \"\" \"\" \"\" \"\" \"\" \"\" \"\" \"\" \"\" \"\" \"\" \"\" \"\" \"\" \"\" \"\" \"\" \"\" \"\" \"\" \"\" \"\" \"\" \"\" \"\" \"\" \"\" \"\" \"\" \"\" \"\" \"\" \"\" \"\" \"\" \"\" \"\" \"\" \"\" \"\" \"\" \"\" \"\" \"\" \"\" \"\" \"\" \"\" \"\" \"\" \"\" \"\"\n"
          ]
        },
        {
          "output_type": "stream",
          "name": "stderr",
          "text": [
            "100%|██████████| 1/1 [00:00<00:00, 1761.57it/s]\n"
          ]
        },
        {
          "output_type": "stream",
          "name": "stdout",
          "text": [
            "Translated: n 10\n"
          ]
        },
        {
          "output_type": "stream",
          "name": "stderr",
          "text": [
            "100%|██████████| 1/1 [00:00<00:00, 2748.56it/s]\n"
          ]
        },
        {
          "output_type": "stream",
          "name": "stdout",
          "text": [
            "Translated: ನಮ್ಮ ಪಾಸ್-I\n"
          ]
        },
        {
          "output_type": "stream",
          "name": "stderr",
          "text": [
            "100%|██████████| 3/3 [00:00<00:00, 1340.18it/s]\n"
          ]
        },
        {
          "output_type": "stream",
          "name": "stdout",
          "text": [
            "Translated: 4 ರಷ್ಟಿದೆ. ಪುರಾತತ್ವಶಾಸ್ತ್ರಜ್ಞರು ಕಂಡುಕೊಳ್ಳಬಹುದಾದ ಎಲ್ಲಾ ವಸ್ತುಗಳ ಪಟ್ಟಿಯನ್ನು ಮಾಡಿ. ಇವುಗಳಲ್ಲಿ ಯಾವುದನ್ನು ಕಲ್ಲಿನಿಂದ ತಯಾರಿಸಬಹುದು?\n"
          ]
        },
        {
          "output_type": "stream",
          "name": "stderr",
          "text": [
            "100%|██████████| 2/2 [00:00<00:00, 1396.01it/s]\n"
          ]
        },
        {
          "output_type": "stream",
          "name": "stdout",
          "text": [
            "Translated: 5 ರಷ್ಟಿದೆ. ಸಾಮಾನ್ಯ ಪುರುಷರು ಮತ್ತು ಮಹಿಳೆಯರು ಸಾಮಾನ್ಯವಾಗಿ ತಾವು ಏನು ಮಾಡಿದ್ದಾರೆಂಬ ದಾಖಲೆಯನ್ನು ಏಕೆ ಇಟ್ಟುಕೊಳ್ಳುವುದಿಲ್ಲ ಎಂದು ನೀವು ಭಾವಿಸುತ್ತೀರಿ?\n"
          ]
        },
        {
          "output_type": "stream",
          "name": "stderr",
          "text": [
            "100%|██████████| 2/2 [00:00<00:00, 2353.05it/s]\n"
          ]
        },
        {
          "output_type": "stream",
          "name": "stdout",
          "text": [
            "Translated: 6 ರಷ್ಟಿದೆ. ರೈತರ ಬದುಕಿಗಿಂತ ರಾಜರ ಬದುಕು ಭಿನ್ನವಾಗಿರಬಹುದೆಂದು ನೀವು ಯೋಚಿಸುವ ಕನಿಷ್ಠ ಎರಡು ವಿಧಾನಗಳನ್ನು ವಿವರಿಸಿ.\n"
          ]
        },
        {
          "output_type": "stream",
          "name": "stderr",
          "text": [
            "100%|██████████| 1/1 [00:00<00:00, 2071.26it/s]\n"
          ]
        },
        {
          "output_type": "stream",
          "name": "stdout",
          "text": [
            "Translated: ಮಾಡೋಣ ಬನ್ನಿ.\n"
          ]
        },
        {
          "output_type": "stream",
          "name": "stderr",
          "text": [
            "100%|██████████| 4/4 [00:00<00:00, 2053.51it/s]\n"
          ]
        },
        {
          "output_type": "stream",
          "name": "stdout",
          "text": [
            "Translated: 7 ರಷ್ಟಿದೆ. ಪುಟ 1ರಲ್ಲಿ “ಕರಕುಶಲಕರ್ಮಿಗಳು” ಎಂಬ ಪದವನ್ನು ಹುಡುಕಿ. ನಿಮಗೆ ಇಂದು ತಿಳಿದಿರುವ ಕನಿಷ್ಠ ಐದು ವಿಭಿನ್ನ ಕರಕುಶಲ ವಸ್ತುಗಳನ್ನು ಪಟ್ಟಿ ಮಾಡಿ. ಕುಶಲಕರ್ಮಿಗಳು-(ಎ) ಪುರುಷರು (ಬಿ) ಮಹಿಳೆಯರು (ಸಿ) ಪುರುಷರು ಮತ್ತು ಮಹಿಳೆಯರು ಇಬ್ಬರೂ?\n"
          ]
        },
        {
          "output_type": "stream",
          "name": "stderr",
          "text": [
            "100%|██████████| 3/3 [00:00<00:00, 2883.34it/s]\n"
          ]
        },
        {
          "output_type": "stream",
          "name": "stdout",
          "text": [
            "Translated: 8 ರಷ್ಟಿದೆ. ಈ ಹಿಂದೆ ಯಾವ ವಿಷಯಗಳ ಮೇಲೆ ಪುಸ್ತಕಗಳನ್ನು ಬರೆಯಲಾಗಿತ್ತು? ಇವುಗಳಲ್ಲಿ ಯಾವುದನ್ನು ನೀವು ಓದಲು ಬಯಸುತ್ತೀರಿ?\n"
          ]
        },
        {
          "output_type": "stream",
          "name": "stderr",
          "text": [
            "100%|██████████| 1/1 [00:00<00:00, 958.04it/s]\n"
          ]
        },
        {
          "output_type": "stream",
          "name": "stdout",
          "text": [
            "Translated: ಯು ಯು ಯು ಕೃಷಿಯ ಆರಂಭ (8000 ವರ್ಷಗಳ ಹಿಂದೆ).\n"
          ]
        },
        {
          "output_type": "stream",
          "name": "stderr",
          "text": [
            "100%|██████████| 1/1 [00:00<00:00, 1228.56it/s]\n"
          ]
        },
        {
          "output_type": "stream",
          "name": "stdout",
          "text": [
            "Translated: ಯು ಯು ಯು ಸಿಂಧು ನದಿಯ ಮೊದಲ ನಗರಗಳು (4700 ವರ್ಷಗಳ ಹಿಂದೆ).\n"
          ]
        },
        {
          "output_type": "stream",
          "name": "stderr",
          "text": [
            "100%|██████████| 1/1 [00:00<00:00, 636.56it/s]\n"
          ]
        },
        {
          "output_type": "stream",
          "name": "stdout",
          "text": [
            "Translated: ಗಂಗಾ ಕಣಿವೆಯಲ್ಲಿ ಯು ಯು ಯು ನಗರಗಳು, ಮಗಧದ ಒಂದು ದೊಡ್ಡ ಸಾಮ್ರಾಜ್ಯ (2500 ವರ್ಷಗಳ ಹಿಂದೆ).\n"
          ]
        },
        {
          "output_type": "stream",
          "name": "stderr",
          "text": [
            "100%|██████████| 1/1 [00:00<00:00, 896.99it/s]\n"
          ]
        },
        {
          "output_type": "stream",
          "name": "stdout",
          "text": [
            "Translated: ಯು ಯು ಯು ಯು ಪ್ರಸ್ತುತ (ಸುಮಾರು 2000 AD/CE)\n"
          ]
        },
        {
          "output_type": "stream",
          "name": "stderr",
          "text": [
            "100%|██████████| 1/1 [00:00<00:00, 2005.88it/s]\n"
          ]
        },
        {
          "output_type": "stream",
          "name": "stdout",
          "text": [
            "Translated: ಕೆಲವು ಪ್ರಮುಖ ದಿನಾಂಕಗಳು\n"
          ]
        },
        {
          "output_type": "stream",
          "name": "stderr",
          "text": [
            "100%|██████████| 1/1 [00:00<00:00, 434.19it/s]\n"
          ]
        },
        {
          "output_type": "stream",
          "name": "stdout",
          "text": [
            "Translated: 2018-19 ನೇ ಸಾಲಿನಲ್ಲಿ ಶೇ.\n"
          ]
        },
        {
          "output_type": "stream",
          "name": "stderr",
          "text": [
            "100%|██████████| 2/2 [00:00<00:00, 701.86it/s]\n"
          ]
        },
        {
          "output_type": "stream",
          "name": "stdout",
          "text": [
            "Translated: \"\" \"6\" \"\" \"\" \"\" \"\" \"\" \"\" \"\" \"\" \"\" \"\" \"\" \"\" \"\" \"\" \"\" \"\" \"\" \"\" \"\" \"\" \"\" \"\" \"\" \"\" \"\" \"\" \"\" \"\" \"\" \"\" \"\" \"\" \"\" \"\" \"\" \"\" \"\" \"\" \"\" \"\" \"\" \"\" \"\" \"\" \"\" \"\" \"\" \"\" \"\" \"\" \"\" \"\" \"\" \"\" \"\" \"\" \"\" \"\" \"\" \"\" \"\" \"\" \"\" \"\" \"\" \"\" \"\" \"\" \"\" \"\" \"\" \"\" \"\" \"\" \"\" \"\" \"\" \"\" \"\" \"\" \"\" \"\" \"\" \"\" \"\" \"\" \"\" \"\" \"\" \"\" \"\" \"\" \"\" \"\" \"\" \"\" \"\" \" \"\" \"6\" \"\" \"\" \"\" \"\" \"\" \"\" \"\" \"\" \"\" \"\" \"\" \"\" \"\" \"\" \"\" \"\" \"\" \"\" \"\" \"\" \"\" \"\" \"\" \"\" \"\" \"\" \"\" \"\" \"\" \"\" \"\" \"\" \"\" \"\" \"\" \"\" \"\" \"\" \"\" \"\" \"\" \"\" \"\" \"\" \"\" \"\" \"\" \"\" \"\" \"\" \"\" \"\" \"\" \"\" \"\" \"\" \"\" \"\" \"\" \"\" \"\" \"\" \"\" \"\" \"\" \"\" \"\" \"\" \"\" \"\" \"\" \"\" \"\" \"\" \"\" \"\" \"\" \"\" \"\" \"\" \"\" \"\" \"\" \"\" \"\" \"\" \"\" \"\" \"\" \"\" \"\" \"\" \"\" \"\" \"\" \"\" \"\" \"\n"
          ]
        },
        {
          "output_type": "stream",
          "name": "stderr",
          "text": [
            "100%|██████████| 1/1 [00:00<00:00, 1880.01it/s]\n"
          ]
        },
        {
          "output_type": "stream",
          "name": "stdout",
          "text": [
            "Translated: ಎನ್ 136\n"
          ]
        },
        {
          "output_type": "stream",
          "name": "stderr",
          "text": [
            "100%|██████████| 1/1 [00:00<00:00, 912.40it/s]\n"
          ]
        },
        {
          "output_type": "stream",
          "name": "stdout",
          "text": [
            "Translated: ನಮ್ಮ ಪಾಸ್-I\n"
          ]
        },
        {
          "output_type": "stream",
          "name": "stderr",
          "text": [
            "100%|██████████| 2/2 [00:00<00:00, 2155.90it/s]\n"
          ]
        },
        {
          "output_type": "stream",
          "name": "stdout",
          "text": [
            "Translated: ಎಂಎಪಿ: 8 ಭಾರತದ ರಾಜಕೀಯ ನಕ್ಷೆ\n"
          ]
        },
        {
          "output_type": "stream",
          "name": "stderr",
          "text": [
            "100%|██████████| 1/1 [00:00<00:00, 1733.90it/s]\n"
          ]
        },
        {
          "output_type": "stream",
          "name": "stdout",
          "text": [
            "Translated: 2018-19 ನೇ ಸಾಲಿನಲ್ಲಿ ಶೇ.\n"
          ]
        }
      ],
      "source": [
        "# Load the JSON data\n",
        "with open(json_path, \"r\", encoding=\"utf-8\") as json_file:\n",
        "    extracted_data = json.load(json_file)\n",
        "\n",
        "# Create a document object\n",
        "doc = fitz.open(pdf_path)\n",
        "\n",
        "# Iterate through the extracted data and translate the text\n",
        "for page_num, page_data in extracted_data.items():\n",
        "\n",
        "    # Get the page\n",
        "    page = doc.load_page(int(page_num) - 1)  # or page = doc[i]\n",
        "    blocks = page.get_text(\"blocks\")\n",
        "    for b,block in zip(blocks,page_data):\n",
        "        text = b[4]\n",
        "        block[\"text\"] = text\n",
        "        block[\"Character_count\"] = len(text)\n",
        "        translated_text = translate_text(text)  # Change 'kn' to your desired language code\n",
        "        block[\"Translated_text\"] = translated_text\n",
        "        block[\"translated_character_count\"] = len(translated_text)\n",
        "        f = block[\"IniFontsize\"]\n",
        "        if len(text) < len(translated_text):\n",
        "            block[\"Font_Size\"] = len(translated_text) * f / len(text)\n",
        "\n",
        "\n",
        "# Save the extracted data to a JSON file\n",
        "with open(json_path, \"w\", encoding=\"utf-8\") as json_file:\n",
        "    json.dump(extracted_data, json_file, ensure_ascii=False, indent=4)"
      ]
    },
    {
      "cell_type": "code",
      "execution_count": null,
      "metadata": {
        "id": "TGOzjbcn4IVo"
      },
      "outputs": [],
      "source": [
        "noto_sans_kannada_path = r\"/content/NotoSansKannada-VariableFont_wdth,wght.ttf\"\n",
        "if not os.path.isfile(noto_sans_kannada_path):\n",
        "    raise FileNotFoundError(f\"The font file was not found: {noto_sans_kannada_path}\")"
      ]
    },
    {
      "cell_type": "code",
      "source": [
        "# Load the JSON data\n",
        "with open(json_path, \"r\", encoding=\"utf-8\") as json_file:\n",
        "    extracted_data = json.load(json_file)\n",
        "\n",
        "# Create a new PDF document\n",
        "new_doc = fitz.open(new_pdf_path)\n",
        "\n",
        "# Iterate through the pages in the JSON data\n",
        "for page_num, page_data in extracted_data.items():\n",
        "    # Load a page\n",
        "    new_page = new_doc.load_page(int(page_num)-1)\n",
        "\n",
        "    # Iterate through the text blocks on the current page\n",
        "    for block in page_data:\n",
        "        translated_text = block.get(\"translated_text\", \"\")\n",
        "        coordinates = block[\"coordinates\"]\n",
        "        #origin = block[\"origin\"]\n",
        "        x0, y0, x1, y1 = coordinates[0], coordinates[1], coordinates[2], coordinates[3]\n",
        "\n",
        "        # Set the font size based on the height of the bounding box\n",
        "        font_size = block[\"IniFontsize\"]\n",
        "\n",
        "        # Draw translated text on the new page with the font file using insert_textbox\n",
        "        new_page.insert_text(\n",
        "            (x0,y0),\n",
        "            text=translated_text,\n",
        "            fontsize=font_size*0.75,\n",
        "            fontname='NotoSansKannada',\n",
        "            fontfile=noto_sans_kannada_path\n",
        "        )\n",
        "\n",
        "# Save the new PDF\n",
        "new_doc.saveIncr()\n",
        "\n",
        "# Close the document\n",
        "new_doc.close()"
      ],
      "metadata": {
        "id": "_LzxnZj9zfHM"
      },
      "execution_count": null,
      "outputs": []
    },
    {
      "cell_type": "code",
      "execution_count": null,
      "metadata": {
        "id": "94XwmSkr5C2d"
      },
      "outputs": [],
      "source": [
        "doc.close()"
      ]
    },
    {
      "cell_type": "code",
      "execution_count": null,
      "metadata": {
        "id": "kcMK87eqOyGQ",
        "colab": {
          "base_uri": "https://localhost:8080/"
        },
        "outputId": "3239ab77-f267-4a57-c2e5-76f48346cc67"
      },
      "outputs": [
        {
          "output_type": "stream",
          "name": "stdout",
          "text": [
            "Requirement already satisfied: convertapi in /usr/local/lib/python3.10/dist-packages (1.8.0)\n",
            "Requirement already satisfied: requests>=2.4.2 in /usr/local/lib/python3.10/dist-packages (from convertapi) (2.31.0)\n",
            "Requirement already satisfied: charset-normalizer<4,>=2 in /usr/local/lib/python3.10/dist-packages (from requests>=2.4.2->convertapi) (3.3.2)\n",
            "Requirement already satisfied: idna<4,>=2.5 in /usr/local/lib/python3.10/dist-packages (from requests>=2.4.2->convertapi) (3.7)\n",
            "Requirement already satisfied: urllib3<3,>=1.21.1 in /usr/local/lib/python3.10/dist-packages (from requests>=2.4.2->convertapi) (2.0.7)\n",
            "Requirement already satisfied: certifi>=2017.4.17 in /usr/local/lib/python3.10/dist-packages (from requests>=2.4.2->convertapi) (2024.7.4)\n"
          ]
        }
      ],
      "source": [
        "!pip install convertapi\n",
        "import convertapi"
      ]
    },
    {
      "cell_type": "code",
      "execution_count": null,
      "metadata": {
        "id": "ujb6R9GPOtJu"
      },
      "outputs": [],
      "source": [
        "convertapi.api_secret = '4OYbALQ2RREClhvm'"
      ]
    },
    {
      "cell_type": "code",
      "execution_count": null,
      "metadata": {
        "id": "BBkMA7hQ14En"
      },
      "outputs": [],
      "source": [
        "docf = '/content/Translated_OurPast_Chapter1' #-----------------> new_pdf_path ***but without extension***"
      ]
    },
    {
      "cell_type": "code",
      "execution_count": null,
      "metadata": {
        "colab": {
          "base_uri": "https://localhost:8080/"
        },
        "id": "wqkDYe4r5HQn",
        "outputId": "3c1a1ce7-4961-4226-f3c6-445147942369"
      },
      "outputs": [
        {
          "output_type": "execute_result",
          "data": {
            "text/plain": [
              "['/content/Translated_OurPast_Chapter1.docx']"
            ]
          },
          "metadata": {},
          "execution_count": 24
        }
      ],
      "source": [
        "convertapi.convert('docx', {\n",
        "    'File': f'{docf}.pdf'\n",
        "}, from_format = 'pdf').save_files('/content/')"
      ]
    },
    {
      "cell_type": "code",
      "execution_count": null,
      "metadata": {
        "colab": {
          "base_uri": "https://localhost:8080/"
        },
        "id": "_X2CLoFKRBLT",
        "outputId": "81d435a9-c740-4a3c-a6f4-546b4c87af7f"
      },
      "outputs": [
        {
          "output_type": "execute_result",
          "data": {
            "text/plain": [
              "['/content/Translated_OurPast_Chapter1.pdf']"
            ]
          },
          "metadata": {},
          "execution_count": 25
        }
      ],
      "source": [
        "convertapi.convert('pdf', {\n",
        "    'File': f'{docf}.docx'\n",
        "}, from_format = 'docx').save_files('/content/')"
      ]
    },
    {
      "cell_type": "code",
      "execution_count": null,
      "metadata": {
        "colab": {
          "base_uri": "https://localhost:8080/"
        },
        "id": "HYnFC7a9SYNP",
        "outputId": "43fef1ce-bdb6-4270-dd85-42b791c5d894"
      },
      "outputs": [
        {
          "name": "stdout",
          "output_type": "stream",
          "text": [
            "New PDF and Docx with translated content generated successfully.\n"
          ]
        }
      ],
      "source": [
        "print(\"New PDF and Docx with translated content generated successfully.\")"
      ]
    }
  ],
  "metadata": {
    "colab": {
      "provenance": [],
      "include_colab_link": true
    },
    "kernelspec": {
      "display_name": "Python 3",
      "name": "python3"
    },
    "language_info": {
      "name": "python"
    }
  },
  "nbformat": 4,
  "nbformat_minor": 0
}