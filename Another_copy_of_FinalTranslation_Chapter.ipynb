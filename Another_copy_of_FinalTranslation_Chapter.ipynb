{
  "cells": [
    {
      "cell_type": "markdown",
      "metadata": {
        "id": "view-in-github",
        "colab_type": "text"
      },
      "source": [
        "<a href=\"https://colab.research.google.com/github/NitinReddy-A/FusionPDF/blob/main/Another_copy_of_FinalTranslation_Chapter.ipynb\" target=\"_parent\"><img src=\"https://colab.research.google.com/assets/colab-badge.svg\" alt=\"Open In Colab\"/></a>"
      ]
    },
    {
      "cell_type": "code",
      "execution_count": 1,
      "metadata": {
        "id": "1D-kp0pLvR_e",
        "colab": {
          "base_uri": "https://localhost:8080/"
        },
        "outputId": "81989c88-702a-4587-f9d4-01cc48edf8ad"
      },
      "outputs": [
        {
          "output_type": "stream",
          "name": "stdout",
          "text": [
            "Collecting fitz\n",
            "  Downloading fitz-0.0.1.dev2-py2.py3-none-any.whl (20 kB)\n",
            "Collecting configobj (from fitz)\n",
            "  Downloading configobj-5.0.8-py2.py3-none-any.whl (36 kB)\n",
            "Collecting configparser (from fitz)\n",
            "  Downloading configparser-7.0.0-py3-none-any.whl (16 kB)\n",
            "Requirement already satisfied: httplib2 in /usr/local/lib/python3.10/dist-packages (from fitz) (0.22.0)\n",
            "Requirement already satisfied: nibabel in /usr/local/lib/python3.10/dist-packages (from fitz) (4.0.2)\n",
            "Collecting nipype (from fitz)\n",
            "  Downloading nipype-1.8.6-py3-none-any.whl (3.2 MB)\n",
            "\u001b[2K     \u001b[90m━━━━━━━━━━━━━━━━━━━━━━━━━━━━━━━━━━━━━━━━\u001b[0m \u001b[32m3.2/3.2 MB\u001b[0m \u001b[31m17.7 MB/s\u001b[0m eta \u001b[36m0:00:00\u001b[0m\n",
            "\u001b[?25hRequirement already satisfied: numpy in /usr/local/lib/python3.10/dist-packages (from fitz) (1.25.2)\n",
            "Requirement already satisfied: pandas in /usr/local/lib/python3.10/dist-packages (from fitz) (2.0.3)\n",
            "Collecting pyxnat (from fitz)\n",
            "  Downloading pyxnat-1.6.2-py3-none-any.whl (95 kB)\n",
            "\u001b[2K     \u001b[90m━━━━━━━━━━━━━━━━━━━━━━━━━━━━━━━━━━━━━━━━\u001b[0m \u001b[32m95.6/95.6 kB\u001b[0m \u001b[31m12.5 MB/s\u001b[0m eta \u001b[36m0:00:00\u001b[0m\n",
            "\u001b[?25hRequirement already satisfied: scipy in /usr/local/lib/python3.10/dist-packages (from fitz) (1.11.4)\n",
            "Requirement already satisfied: six in /usr/local/lib/python3.10/dist-packages (from configobj->fitz) (1.16.0)\n",
            "Requirement already satisfied: pyparsing!=3.0.0,!=3.0.1,!=3.0.2,!=3.0.3,<4,>=2.4.2 in /usr/local/lib/python3.10/dist-packages (from httplib2->fitz) (3.1.2)\n",
            "Requirement already satisfied: packaging>=17.0 in /usr/local/lib/python3.10/dist-packages (from nibabel->fitz) (24.1)\n",
            "Requirement already satisfied: setuptools in /usr/local/lib/python3.10/dist-packages (from nibabel->fitz) (67.7.2)\n",
            "Requirement already satisfied: click>=6.6.0 in /usr/local/lib/python3.10/dist-packages (from nipype->fitz) (8.1.7)\n",
            "Requirement already satisfied: networkx>=2.0 in /usr/local/lib/python3.10/dist-packages (from nipype->fitz) (3.3)\n",
            "Collecting prov>=1.5.2 (from nipype->fitz)\n",
            "  Downloading prov-2.0.1-py3-none-any.whl (421 kB)\n",
            "\u001b[2K     \u001b[90m━━━━━━━━━━━━━━━━━━━━━━━━━━━━━━━━━━━━━━━━\u001b[0m \u001b[32m421.5/421.5 kB\u001b[0m \u001b[31m25.7 MB/s\u001b[0m eta \u001b[36m0:00:00\u001b[0m\n",
            "\u001b[?25hRequirement already satisfied: pydot>=1.2.3 in /usr/local/lib/python3.10/dist-packages (from nipype->fitz) (1.4.2)\n",
            "Requirement already satisfied: python-dateutil>=2.2 in /usr/local/lib/python3.10/dist-packages (from nipype->fitz) (2.8.2)\n",
            "Collecting rdflib>=5.0.0 (from nipype->fitz)\n",
            "  Downloading rdflib-7.0.0-py3-none-any.whl (531 kB)\n",
            "\u001b[2K     \u001b[90m━━━━━━━━━━━━━━━━━━━━━━━━━━━━━━━━━━━━━━━━\u001b[0m \u001b[32m531.9/531.9 kB\u001b[0m \u001b[31m23.2 MB/s\u001b[0m eta \u001b[36m0:00:00\u001b[0m\n",
            "\u001b[?25hCollecting simplejson>=3.8.0 (from nipype->fitz)\n",
            "  Downloading simplejson-3.19.2-cp310-cp310-manylinux_2_5_x86_64.manylinux1_x86_64.manylinux_2_17_x86_64.manylinux2014_x86_64.whl (137 kB)\n",
            "\u001b[2K     \u001b[90m━━━━━━━━━━━━━━━━━━━━━━━━━━━━━━━━━━━━━━━━\u001b[0m \u001b[32m137.9/137.9 kB\u001b[0m \u001b[31m15.0 MB/s\u001b[0m eta \u001b[36m0:00:00\u001b[0m\n",
            "\u001b[?25hCollecting traits!=5.0,<6.4,>=4.6 (from nipype->fitz)\n",
            "  Downloading traits-6.3.2-cp310-cp310-manylinux_2_5_x86_64.manylinux1_x86_64.manylinux_2_12_x86_64.manylinux2010_x86_64.whl (5.1 MB)\n",
            "\u001b[2K     \u001b[90m━━━━━━━━━━━━━━━━━━━━━━━━━━━━━━━━━━━━━━━━\u001b[0m \u001b[32m5.1/5.1 MB\u001b[0m \u001b[31m42.7 MB/s\u001b[0m eta \u001b[36m0:00:00\u001b[0m\n",
            "\u001b[?25hRequirement already satisfied: filelock>=3.0.0 in /usr/local/lib/python3.10/dist-packages (from nipype->fitz) (3.15.4)\n",
            "Collecting etelemetry>=0.2.0 (from nipype->fitz)\n",
            "  Downloading etelemetry-0.3.1-py3-none-any.whl (6.4 kB)\n",
            "Collecting looseversion (from nipype->fitz)\n",
            "  Downloading looseversion-1.3.0-py2.py3-none-any.whl (8.2 kB)\n",
            "Requirement already satisfied: pytz>=2020.1 in /usr/local/lib/python3.10/dist-packages (from pandas->fitz) (2023.4)\n",
            "Requirement already satisfied: tzdata>=2022.1 in /usr/local/lib/python3.10/dist-packages (from pandas->fitz) (2024.1)\n",
            "Requirement already satisfied: lxml>=4.3 in /usr/local/lib/python3.10/dist-packages (from pyxnat->fitz) (4.9.4)\n",
            "Requirement already satisfied: requests>=2.20 in /usr/local/lib/python3.10/dist-packages (from pyxnat->fitz) (2.31.0)\n",
            "Requirement already satisfied: pathlib>=1.0 in /usr/local/lib/python3.10/dist-packages (from pyxnat->fitz) (1.0.1)\n",
            "Collecting ci-info>=0.2 (from etelemetry>=0.2.0->nipype->fitz)\n",
            "  Downloading ci_info-0.3.0-py3-none-any.whl (7.8 kB)\n",
            "Collecting rdflib>=5.0.0 (from nipype->fitz)\n",
            "  Downloading rdflib-6.3.2-py3-none-any.whl (528 kB)\n",
            "\u001b[2K     \u001b[90m━━━━━━━━━━━━━━━━━━━━━━━━━━━━━━━━━━━━━━━━\u001b[0m \u001b[32m528.1/528.1 kB\u001b[0m \u001b[31m35.3 MB/s\u001b[0m eta \u001b[36m0:00:00\u001b[0m\n",
            "\u001b[?25hCollecting isodate<0.7.0,>=0.6.0 (from rdflib>=5.0.0->nipype->fitz)\n",
            "  Downloading isodate-0.6.1-py2.py3-none-any.whl (41 kB)\n",
            "\u001b[2K     \u001b[90m━━━━━━━━━━━━━━━━━━━━━━━━━━━━━━━━━━━━━━━━\u001b[0m \u001b[32m41.7/41.7 kB\u001b[0m \u001b[31m4.7 MB/s\u001b[0m eta \u001b[36m0:00:00\u001b[0m\n",
            "\u001b[?25hRequirement already satisfied: charset-normalizer<4,>=2 in /usr/local/lib/python3.10/dist-packages (from requests>=2.20->pyxnat->fitz) (3.3.2)\n",
            "Requirement already satisfied: idna<4,>=2.5 in /usr/local/lib/python3.10/dist-packages (from requests>=2.20->pyxnat->fitz) (3.7)\n",
            "Requirement already satisfied: urllib3<3,>=1.21.1 in /usr/local/lib/python3.10/dist-packages (from requests>=2.20->pyxnat->fitz) (2.0.7)\n",
            "Requirement already satisfied: certifi>=2017.4.17 in /usr/local/lib/python3.10/dist-packages (from requests>=2.20->pyxnat->fitz) (2024.7.4)\n",
            "Installing collected packages: looseversion, traits, simplejson, isodate, configparser, configobj, ci-info, rdflib, pyxnat, etelemetry, prov, nipype, fitz\n",
            "Successfully installed ci-info-0.3.0 configobj-5.0.8 configparser-7.0.0 etelemetry-0.3.1 fitz-0.0.1.dev2 isodate-0.6.1 looseversion-1.3.0 nipype-1.8.6 prov-2.0.1 pyxnat-1.6.2 rdflib-6.3.2 simplejson-3.19.2 traits-6.3.2\n",
            "Collecting PyMuPDF\n",
            "  Downloading PyMuPDF-1.24.7-cp310-none-manylinux2014_x86_64.whl (3.5 MB)\n",
            "\u001b[2K     \u001b[90m━━━━━━━━━━━━━━━━━━━━━━━━━━━━━━━━━━━━━━━━\u001b[0m \u001b[32m3.5/3.5 MB\u001b[0m \u001b[31m12.6 MB/s\u001b[0m eta \u001b[36m0:00:00\u001b[0m\n",
            "\u001b[?25hCollecting PyMuPDFb==1.24.6 (from PyMuPDF)\n",
            "  Downloading PyMuPDFb-1.24.6-py3-none-manylinux2014_x86_64.manylinux_2_17_x86_64.whl (15.7 MB)\n",
            "\u001b[2K     \u001b[90m━━━━━━━━━━━━━━━━━━━━━━━━━━━━━━━━━━━━━━━━\u001b[0m \u001b[32m15.7/15.7 MB\u001b[0m \u001b[31m40.2 MB/s\u001b[0m eta \u001b[36m0:00:00\u001b[0m\n",
            "\u001b[?25hInstalling collected packages: PyMuPDFb, PyMuPDF\n",
            "Successfully installed PyMuPDF-1.24.7 PyMuPDFb-1.24.6\n",
            "Collecting convertapi\n",
            "  Downloading convertapi-1.8.0-py2.py3-none-any.whl (7.3 kB)\n",
            "Requirement already satisfied: requests>=2.4.2 in /usr/local/lib/python3.10/dist-packages (from convertapi) (2.31.0)\n",
            "Requirement already satisfied: charset-normalizer<4,>=2 in /usr/local/lib/python3.10/dist-packages (from requests>=2.4.2->convertapi) (3.3.2)\n",
            "Requirement already satisfied: idna<4,>=2.5 in /usr/local/lib/python3.10/dist-packages (from requests>=2.4.2->convertapi) (3.7)\n",
            "Requirement already satisfied: urllib3<3,>=1.21.1 in /usr/local/lib/python3.10/dist-packages (from requests>=2.4.2->convertapi) (2.0.7)\n",
            "Requirement already satisfied: certifi>=2017.4.17 in /usr/local/lib/python3.10/dist-packages (from requests>=2.4.2->convertapi) (2024.7.4)\n",
            "Installing collected packages: convertapi\n",
            "Successfully installed convertapi-1.8.0\n"
          ]
        }
      ],
      "source": [
        "!pip install fitz\n",
        "!pip install PyMuPDF\n",
        "!pip install convertapi"
      ]
    },
    {
      "cell_type": "code",
      "execution_count": 51,
      "metadata": {
        "id": "kMT0uaKWVSFQ"
      },
      "outputs": [],
      "source": [
        "# !pip install --upgrade pip\n",
        "# !pip install -U PyMuPDF\n",
        "# !pip uninstall fitz -y\n",
        "# !pip install fitz --no-cache-dir"
      ]
    },
    {
      "cell_type": "code",
      "execution_count": 52,
      "metadata": {
        "id": "o7NHvi_NBouD"
      },
      "outputs": [],
      "source": [
        "# ! pip install --upgrade --force-reinstall --root-user-action ignore pymupdf"
      ]
    },
    {
      "cell_type": "code",
      "execution_count": 1,
      "metadata": {
        "id": "5-TJ3Yu4vA9m"
      },
      "outputs": [],
      "source": [
        "import fitz\n",
        "import pymupdf\n",
        "import os\n",
        "import convertapi"
      ]
    },
    {
      "cell_type": "code",
      "execution_count": 2,
      "metadata": {
        "id": "HjYL0KwTwpVj"
      },
      "outputs": [],
      "source": [
        "convertapi.api_secret = '4OYbALQ2RREClhvm'"
      ]
    },
    {
      "cell_type": "code",
      "execution_count": 3,
      "metadata": {
        "id": "x35tpwxPwx98"
      },
      "outputs": [],
      "source": [
        "doc = fitz.open(r\"/content/demo1.pdf\") #---------> Specify the input file\n",
        "new_pdf_path = r\"/content/Translated_OurPast_Chapter1.pdf\" #-----------> Specify the output file"
      ]
    },
    {
      "cell_type": "code",
      "execution_count": 4,
      "metadata": {
        "id": "5MhzLvCz2InG"
      },
      "outputs": [],
      "source": [
        "new_doc = fitz.open()"
      ]
    },
    {
      "cell_type": "code",
      "execution_count": 5,
      "metadata": {
        "id": "V6bxYsuz2Nw9"
      },
      "outputs": [],
      "source": [
        "if not os.path.exists('/content/images/'):\n",
        "    os.mkdir('/content/images/')"
      ]
    },
    {
      "cell_type": "code",
      "execution_count": 6,
      "metadata": {
        "id": "RDfCpeeL2YAq"
      },
      "outputs": [],
      "source": [
        "noto_sans_kannada_path = r\"/content/NotoSansKannada-VariableFont_wdth,wght.ttf\""
      ]
    },
    {
      "cell_type": "code",
      "execution_count": 7,
      "metadata": {
        "id": "TGOzjbcn4IVo"
      },
      "outputs": [],
      "source": [
        "if not os.path.isfile(noto_sans_kannada_path):\n",
        "    raise FileNotFoundError(f\"The font file was not found: {noto_sans_kannada_path}\")"
      ]
    },
    {
      "cell_type": "code",
      "execution_count": 8,
      "metadata": {
        "id": "DKpye6nU4Qkx",
        "colab": {
          "base_uri": "https://localhost:8080/"
        },
        "outputId": "58851043-47c9-4d8d-a853-6362c70e21bb"
      },
      "outputs": [
        {
          "output_type": "stream",
          "name": "stdout",
          "text": [
            "(100, 0, 159, 217, 8, 'DeviceCMYK', '', 'Im0', 'JPXDecode', 0)\n",
            "Image 0 on page 0: Rect(445.9007873535156, 174.948974609375, 522.1007690429688, 278.64886474609375)\n",
            "(6, 0, 993, 944, 8, 'DeviceCMYK', '', 'Im0', 'JPXDecode', 0)\n",
            "Image 0 on page 1: Rect(73.39991760253906, 254.8509521484375, 549.7999267578125, 708.0501098632812)\n",
            "(17, 0, 982, 279, 8, 'DeviceCMYK', '', 'Im0', 'JPXDecode', 0)\n",
            "Image 0 on page 3: Rect(67.3499984741211, 620.2000732421875, 539.3003540039062, 753.7499389648438)\n",
            "(23, 0, 533, 564, 8, 'DeviceCMYK', '', 'Im0', 'JPXDecode', 0)\n",
            "Image 0 on page 4: Rect(196.9000701904297, 338.60009765625, 452.74969482421875, 609.5001220703125)\n",
            "(31, 0, 402, 443, 8, 'DeviceCMYK', '', 'Im0', 'JPXDecode', 0)\n",
            "Image 0 on page 5: Rect(205.60006713867188, 101.700927734375, 398.2000732421875, 314.30084228515625)\n",
            "(32, 0, 283, 213, 8, 'DeviceCMYK', '', 'Im1', 'JPXDecode', 0)\n",
            "Image 1 on page 5: Rect(403.6488037109375, 101.69927978515625, 539.2987060546875, 203.69927978515625)\n",
            "(33, 0, 283, 218, 8, 'DeviceCMYK', '', 'Im2', 'JPXDecode', 0)\n",
            "Image 2 on page 5: Rect(403.6488037109375, 209.80078125, 539.2987060546875, 314.30084228515625)\n"
          ]
        }
      ],
      "source": [
        "for page_index in range(doc.page_count):\n",
        "    page = doc.load_page(page_index)\n",
        "    # Get the original page\n",
        "    original_page = doc.load_page(page_index)\n",
        "\n",
        "    # Create a new page with the same size as the original page\n",
        "    new_page = new_doc.new_page(width=original_page.rect.width, height=original_page.rect.height)\n",
        "\n",
        "    # Get the list of images on the page\n",
        "    image_list = page.get_images(full=True)\n",
        "\n",
        "    # Iterate through each image and save it in the images folder\n",
        "    for img_index, img in enumerate(image_list):\n",
        "        try:\n",
        "            if img[1] == 0:\n",
        "                print(img)\n",
        "                bbox = page.get_image_bbox(img)\n",
        "                xref = img[0] # get the XREF of the image\n",
        "                pix = pymupdf.Pixmap(doc, xref) # create a Pixmap\n",
        "                if pix.n - pix.alpha > 3: # CMYK: convert to RGB first\n",
        "                    pix = pymupdf.Pixmap(pymupdf.csRGB, pix)\n",
        "                pix.save(f\"images/page{page_index}-image{img_index}.png\") # save the image as png\n",
        "                pix = None\n",
        "                new_page.insert_image(bbox, stream=open(f\"images/page{page_index}-image{img_index}.png\", \"rb\").read())\n",
        "                print(f\"Image {img_index} on page {page_index}: {bbox}\")\n",
        "        except Exception as e:\n",
        "            print(f\"An error occurred while extracting image: {e}\")"
      ]
    },
    {
      "cell_type": "code",
      "execution_count": 9,
      "metadata": {
        "id": "1_6LHLe54XTq"
      },
      "outputs": [],
      "source": [
        "new_doc.save(new_pdf_path)\n",
        "new_doc.close()"
      ]
    },
    {
      "cell_type": "code",
      "execution_count": 10,
      "metadata": {
        "id": "4oya4D8D4bfV"
      },
      "outputs": [],
      "source": [
        "new_doc = fitz.open(new_pdf_path)"
      ]
    },
    {
      "cell_type": "code",
      "execution_count": 11,
      "metadata": {
        "id": "oxIArt8-4gRK"
      },
      "outputs": [],
      "source": [
        "with open(noto_sans_kannada_path, \"rb\") as font_file:\n",
        "    font_buffer = font_file.read()"
      ]
    },
    {
      "cell_type": "code",
      "execution_count": null,
      "metadata": {
        "id": "Nu5h-6bmiZhg",
        "colab": {
          "base_uri": "https://localhost:8080/"
        },
        "outputId": "35f1abaf-17f2-46a7-beb3-5c0157ab471a"
      },
      "outputs": [
        {
          "output_type": "stream",
          "name": "stdout",
          "text": [
            "Cloning into 'indicTrans'...\n",
            "remote: Enumerating objects: 700, done.\u001b[K\n",
            "remote: Counting objects: 100% (403/403), done.\u001b[K\n",
            "remote: Compressing objects: 100% (161/161), done.\u001b[K\n",
            "remote: Total 700 (delta 280), reused 343 (delta 240), pack-reused 297\u001b[K\n",
            "Receiving objects: 100% (700/700), 2.64 MiB | 18.63 MiB/s, done.\n",
            "Resolving deltas: 100% (407/407), done.\n",
            "/content/indicTrans/indicTrans/indicTrans\n",
            "Cloning into 'indic_nlp_library'...\n",
            "^C\n",
            "Cloning into 'indic_nlp_resources'...\n",
            "remote: Enumerating objects: 139, done.\u001b[K\n",
            "remote: Counting objects: 100% (13/13), done.\u001b[K\n",
            "remote: Compressing objects: 100% (13/13), done.\u001b[K\n",
            "^C\n",
            "Cloning into 'subword-nmt'...\n",
            "remote: Enumerating objects: 600, done.\u001b[K\n",
            "remote: Counting objects: 100% (24/24), done.\u001b[K\n",
            "remote: Compressing objects: 100% (20/20), done.\u001b[K\n",
            "remote: Total 600 (delta 10), reused 12 (delta 4), pack-reused 576\u001b[K\n",
            "Receiving objects: 100% (600/600), 253.58 KiB | 6.85 MiB/s, done.\n",
            "Resolving deltas: 100% (359/359), done.\n",
            "/content/indicTrans/indicTrans\n",
            "Requirement already satisfied: sacremoses in /usr/local/lib/python3.10/dist-packages (0.1.1)\n",
            "Requirement already satisfied: pandas in /usr/local/lib/python3.10/dist-packages (2.0.3)\n",
            "Requirement already satisfied: mock in /usr/local/lib/python3.10/dist-packages (5.1.0)\n",
            "Requirement already satisfied: sacrebleu in /usr/local/lib/python3.10/dist-packages (2.4.2)\n",
            "Requirement already satisfied: tensorboardX in /usr/local/lib/python3.10/dist-packages (2.6.2.2)\n",
            "Requirement already satisfied: pyarrow in /usr/local/lib/python3.10/dist-packages (14.0.2)\n",
            "Requirement already satisfied: indic-nlp-library in /usr/local/lib/python3.10/dist-packages (0.92)\n",
            "Requirement already satisfied: regex in /usr/local/lib/python3.10/dist-packages (from sacremoses) (2024.5.15)\n",
            "Requirement already satisfied: click in /usr/local/lib/python3.10/dist-packages (from sacremoses) (8.1.7)\n",
            "Requirement already satisfied: joblib in /usr/local/lib/python3.10/dist-packages (from sacremoses) (1.4.2)\n",
            "Requirement already satisfied: tqdm in /usr/local/lib/python3.10/dist-packages (from sacremoses) (4.66.4)\n",
            "Requirement already satisfied: python-dateutil>=2.8.2 in /usr/local/lib/python3.10/dist-packages (from pandas) (2.8.2)\n",
            "Requirement already satisfied: pytz>=2020.1 in /usr/local/lib/python3.10/dist-packages (from pandas) (2023.4)\n",
            "Requirement already satisfied: tzdata>=2022.1 in /usr/local/lib/python3.10/dist-packages (from pandas) (2024.1)\n",
            "Requirement already satisfied: numpy>=1.21.0 in /usr/local/lib/python3.10/dist-packages (from pandas) (1.25.2)\n",
            "Requirement already satisfied: portalocker in /usr/local/lib/python3.10/dist-packages (from sacrebleu) (2.10.1)\n",
            "Requirement already satisfied: tabulate>=0.8.9 in /usr/local/lib/python3.10/dist-packages (from sacrebleu) (0.9.0)\n",
            "Requirement already satisfied: colorama in /usr/local/lib/python3.10/dist-packages (from sacrebleu) (0.4.6)\n",
            "Requirement already satisfied: lxml in /usr/local/lib/python3.10/dist-packages (from sacrebleu) (4.9.4)\n",
            "Requirement already satisfied: packaging in /usr/local/lib/python3.10/dist-packages (from tensorboardX) (24.1)\n",
            "Requirement already satisfied: protobuf>=3.20 in /usr/local/lib/python3.10/dist-packages (from tensorboardX) (3.20.3)\n",
            "Requirement already satisfied: sphinx-argparse in /usr/local/lib/python3.10/dist-packages (from indic-nlp-library) (0.4.0)\n",
            "Requirement already satisfied: sphinx-rtd-theme in /usr/local/lib/python3.10/dist-packages (from indic-nlp-library) (2.0.0)\n",
            "Requirement already satisfied: morfessor in /usr/local/lib/python3.10/dist-packages (from indic-nlp-library) (2.0.6)\n",
            "Requirement already satisfied: six>=1.5 in /usr/local/lib/python3.10/dist-packages (from python-dateutil>=2.8.2->pandas) (1.16.0)\n",
            "Requirement already satisfied: sphinx>=1.2.0 in /usr/local/lib/python3.10/dist-packages (from sphinx-argparse->indic-nlp-library) (5.0.2)\n",
            "Requirement already satisfied: docutils<0.21 in /usr/local/lib/python3.10/dist-packages (from sphinx-rtd-theme->indic-nlp-library) (0.18.1)\n",
            "Requirement already satisfied: sphinxcontrib-jquery<5,>=4 in /usr/local/lib/python3.10/dist-packages (from sphinx-rtd-theme->indic-nlp-library) (4.1)\n",
            "Requirement already satisfied: sphinxcontrib-applehelp in /usr/local/lib/python3.10/dist-packages (from sphinx>=1.2.0->sphinx-argparse->indic-nlp-library) (1.0.8)\n",
            "Requirement already satisfied: sphinxcontrib-devhelp in /usr/local/lib/python3.10/dist-packages (from sphinx>=1.2.0->sphinx-argparse->indic-nlp-library) (1.0.6)\n",
            "Requirement already satisfied: sphinxcontrib-jsmath in /usr/local/lib/python3.10/dist-packages (from sphinx>=1.2.0->sphinx-argparse->indic-nlp-library) (1.0.1)\n",
            "Requirement already satisfied: sphinxcontrib-htmlhelp>=2.0.0 in /usr/local/lib/python3.10/dist-packages (from sphinx>=1.2.0->sphinx-argparse->indic-nlp-library) (2.0.5)\n",
            "Requirement already satisfied: sphinxcontrib-serializinghtml>=1.1.5 in /usr/local/lib/python3.10/dist-packages (from sphinx>=1.2.0->sphinx-argparse->indic-nlp-library) (1.1.10)\n",
            "Requirement already satisfied: sphinxcontrib-qthelp in /usr/local/lib/python3.10/dist-packages (from sphinx>=1.2.0->sphinx-argparse->indic-nlp-library) (1.0.7)\n",
            "Requirement already satisfied: Jinja2>=2.3 in /usr/local/lib/python3.10/dist-packages (from sphinx>=1.2.0->sphinx-argparse->indic-nlp-library) (3.1.4)\n",
            "Requirement already satisfied: Pygments>=2.0 in /usr/local/lib/python3.10/dist-packages (from sphinx>=1.2.0->sphinx-argparse->indic-nlp-library) (2.16.1)\n",
            "Requirement already satisfied: snowballstemmer>=1.1 in /usr/local/lib/python3.10/dist-packages (from sphinx>=1.2.0->sphinx-argparse->indic-nlp-library) (2.2.0)\n",
            "Requirement already satisfied: babel>=1.3 in /usr/local/lib/python3.10/dist-packages (from sphinx>=1.2.0->sphinx-argparse->indic-nlp-library) (2.15.0)\n",
            "Requirement already satisfied: alabaster<0.8,>=0.7 in /usr/local/lib/python3.10/dist-packages (from sphinx>=1.2.0->sphinx-argparse->indic-nlp-library) (0.7.16)\n",
            "Requirement already satisfied: imagesize in /usr/local/lib/python3.10/dist-packages (from sphinx>=1.2.0->sphinx-argparse->indic-nlp-library) (1.4.1)\n",
            "Requirement already satisfied: requests>=2.5.0 in /usr/local/lib/python3.10/dist-packages (from sphinx>=1.2.0->sphinx-argparse->indic-nlp-library) (2.31.0)\n",
            "Requirement already satisfied: MarkupSafe>=2.0 in /usr/local/lib/python3.10/dist-packages (from Jinja2>=2.3->sphinx>=1.2.0->sphinx-argparse->indic-nlp-library) (2.1.5)\n",
            "Requirement already satisfied: charset-normalizer<4,>=2 in /usr/local/lib/python3.10/dist-packages (from requests>=2.5.0->sphinx>=1.2.0->sphinx-argparse->indic-nlp-library) (3.3.2)\n",
            "Requirement already satisfied: idna<4,>=2.5 in /usr/local/lib/python3.10/dist-packages (from requests>=2.5.0->sphinx>=1.2.0->sphinx-argparse->indic-nlp-library) (3.7)\n",
            "Requirement already satisfied: urllib3<3,>=1.21.1 in /usr/local/lib/python3.10/dist-packages (from requests>=2.5.0->sphinx>=1.2.0->sphinx-argparse->indic-nlp-library) (2.0.7)\n",
            "Requirement already satisfied: certifi>=2017.4.17 in /usr/local/lib/python3.10/dist-packages (from requests>=2.5.0->sphinx>=1.2.0->sphinx-argparse->indic-nlp-library) (2024.7.4)\n",
            "Traceback (most recent call last):\n",
            "  File \"/usr/local/lib/python3.10/dist-packages/pip/_vendor/pkg_resources/__init__.py\", line 3108, in _dep_map\n",
            "    return self.__dep_map\n",
            "  File \"/usr/local/lib/python3.10/dist-packages/pip/_vendor/pkg_resources/__init__.py\", line 2901, in __getattr__\n",
            "    raise AttributeError(attr)\n",
            "AttributeError: _DistInfoDistribution__dep_map\n",
            "\n",
            "During handling of the above exception, another exception occurred:\n",
            "\n",
            "Traceback (most recent call last):\n",
            "  File \"/usr/local/lib/python3.10/dist-packages/pip/_internal/cli/base_command.py\", line 169, in exc_logging_wrapper\n",
            "    status = run_func(*args)\n",
            "  File \"/usr/local/lib/python3.10/dist-packages/pip/_internal/cli/req_command.py\", line 242, in wrapper\n",
            "    return func(self, options, args)\n",
            "  File \"/usr/local/lib/python3.10/dist-packages/pip/_internal/commands/install.py\", line 441, in run\n",
            "    conflicts = self._determine_conflicts(to_install)\n",
            "  File \"/usr/local/lib/python3.10/dist-packages/pip/_internal/commands/install.py\", line 572, in _determine_conflicts\n",
            "    return check_install_conflicts(to_install)\n",
            "  File \"/usr/local/lib/python3.10/dist-packages/pip/_internal/operations/check.py\", line 101, in check_install_conflicts\n",
            "    package_set, _ = create_package_set_from_installed()\n",
            "  File \"/usr/local/lib/python3.10/dist-packages/pip/_internal/operations/check.py\", line 42, in create_package_set_from_installed\n",
            "    dependencies = list(dist.iter_dependencies())\n",
            "  File \"/usr/local/lib/python3.10/dist-packages/pip/_internal/metadata/pkg_resources.py\", line 216, in iter_dependencies\n",
            "    return self._dist.requires(extras)\n",
            "  File \"/usr/local/lib/python3.10/dist-packages/pip/_vendor/pkg_resources/__init__.py\", line 2821, in requires\n",
            "    dm = self._dep_map\n",
            "  File \"/usr/local/lib/python3.10/dist-packages/pip/_vendor/pkg_resources/__init__.py\", line 3110, in _dep_map\n",
            "    self.__dep_map = self._compute_dependencies()\n",
            "  File \"/usr/local/lib/python3.10/dist-packages/pip/_vendor/pkg_resources/__init__.py\", line 3120, in _compute_dependencies\n",
            "    reqs.extend(parse_requirements(req))\n",
            "  File \"/usr/local/lib/python3.10/dist-packages/pip/_vendor/pkg_resources/__init__.py\", line 3173, in __init__\n",
            "    super(Requirement, self).__init__(requirement_string)\n",
            "  File \"/usr/local/lib/python3.10/dist-packages/pip/_vendor/packaging/requirements.py\", line 102, in __init__\n",
            "    req = REQUIREMENT.parseString(requirement_string)\n",
            "  File \"/usr/local/lib/python3.10/dist-packages/pip/_vendor/pyparsing/core.py\", line 1131, in parse_string\n",
            "    loc, tokens = self._parse(instring, 0)\n",
            "  File \"/usr/local/lib/python3.10/dist-packages/pip/_vendor/pyparsing/core.py\", line 817, in _parseNoCache\n",
            "    loc, tokens = self.parseImpl(instring, pre_loc, doActions)\n",
            "  File \"/usr/local/lib/python3.10/dist-packages/pip/_vendor/pyparsing/core.py\", line 3886, in parseImpl\n",
            "    loc, exprtokens = e._parse(instring, loc, doActions)\n",
            "  File \"/usr/local/lib/python3.10/dist-packages/pip/_vendor/pyparsing/core.py\", line 817, in _parseNoCache\n",
            "    loc, tokens = self.parseImpl(instring, pre_loc, doActions)\n",
            "  File \"/usr/local/lib/python3.10/dist-packages/pip/_vendor/pyparsing/core.py\", line 4114, in parseImpl\n",
            "    return e._parse(\n",
            "  File \"/usr/local/lib/python3.10/dist-packages/pip/_vendor/pyparsing/core.py\", line 817, in _parseNoCache\n",
            "    loc, tokens = self.parseImpl(instring, pre_loc, doActions)\n",
            "  File \"/usr/local/lib/python3.10/dist-packages/pip/_vendor/pyparsing/core.py\", line 3886, in parseImpl\n",
            "    loc, exprtokens = e._parse(instring, loc, doActions)\n",
            "  File \"/usr/local/lib/python3.10/dist-packages/pip/_vendor/pyparsing/core.py\", line 817, in _parseNoCache\n",
            "    loc, tokens = self.parseImpl(instring, pre_loc, doActions)\n",
            "  File \"/usr/local/lib/python3.10/dist-packages/pip/_vendor/pyparsing/core.py\", line 4959, in parseImpl\n",
            "    loc, tokens = self_expr._parse(instring, loc, doActions, callPreParse=False)\n",
            "  File \"/usr/local/lib/python3.10/dist-packages/pip/_vendor/pyparsing/core.py\", line 817, in _parseNoCache\n",
            "    loc, tokens = self.parseImpl(instring, pre_loc, doActions)\n",
            "  File \"/usr/local/lib/python3.10/dist-packages/pip/_vendor/pyparsing/core.py\", line 3886, in parseImpl\n",
            "    loc, exprtokens = e._parse(instring, loc, doActions)\n",
            "  File \"/usr/local/lib/python3.10/dist-packages/pip/_vendor/pyparsing/core.py\", line 856, in _parseNoCache\n",
            "    tokens = fn(instring, tokens_start, ret_tokens)\n",
            "  File \"/usr/local/lib/python3.10/dist-packages/pip/_vendor/pyparsing/core.py\", line 291, in wrapper\n",
            "    ret = func(*args[limit:])\n",
            "  File \"/usr/local/lib/python3.10/dist-packages/pip/_vendor/packaging/requirements.py\", line 71, in <lambda>\n",
            "    lambda s, l, t: Marker(s[t._original_start : t._original_end])\n",
            "  File \"/usr/local/lib/python3.10/dist-packages/pip/_vendor/packaging/markers.py\", line 278, in __init__\n",
            "    self._markers = _coerce_parse_result(MARKER.parseString(marker))\n",
            "  File \"/usr/local/lib/python3.10/dist-packages/pip/_vendor/pyparsing/core.py\", line 1076, in parse_string\n",
            "    def parse_string(\n",
            "KeyboardInterrupt\n",
            "\n",
            "During handling of the above exception, another exception occurred:\n",
            "\n",
            "Traceback (most recent call last):\n",
            "  File \"/usr/local/bin/pip3\", line 8, in <module>\n",
            "    sys.exit(main())\n",
            "  File \"/usr/local/lib/python3.10/dist-packages/pip/_internal/cli/main.py\", line 79, in main\n",
            "    return command.main(cmd_args)\n",
            "  File \"/usr/local/lib/python3.10/dist-packages/pip/_internal/cli/base_command.py\", line 101, in main\n",
            "    return self._main(args)\n",
            "  File \"/usr/local/lib/python3.10/dist-packages/pip/_internal/cli/base_command.py\", line 223, in _main\n",
            "    return run(options, args)\n",
            "  File \"/usr/local/lib/python3.10/dist-packages/pip/_internal/cli/base_command.py\", line 206, in exc_logging_wrapper\n",
            "    logger.critical(\"Operation cancelled by user\")\n",
            "  File \"/usr/lib/python3.10/logging/__init__.py\", line 1514, in critical\n",
            "    def critical(self, msg, *args, **kwargs):\n",
            "KeyboardInterrupt\n",
            "^C\n",
            "Requirement already satisfied: mosestokenizer in /usr/local/lib/python3.10/dist-packages (1.2.1)\n",
            "Requirement already satisfied: subword-nmt in /usr/local/lib/python3.10/dist-packages (0.3.8)\n",
            "Requirement already satisfied: docopt in /usr/local/lib/python3.10/dist-packages (from mosestokenizer) (0.6.2)\n",
            "Requirement already satisfied: openfile in /usr/local/lib/python3.10/dist-packages (from mosestokenizer) (0.0.7)\n",
            "Requirement already satisfied: uctools in /usr/local/lib/python3.10/dist-packages (from mosestokenizer) (1.3.0)\n",
            "Requirement already satisfied: toolwrapper in /usr/local/lib/python3.10/dist-packages (from mosestokenizer) (2.1.0)\n",
            "Requirement already satisfied: mock in /usr/local/lib/python3.10/dist-packages (from subword-nmt) (5.1.0)\n",
            "Requirement already satisfied: tqdm in /usr/local/lib/python3.10/dist-packages (from subword-nmt) (4.66.4)\n",
            "\u001b[31mERROR: Operation cancelled by user\u001b[0m\u001b[31m\n",
            "\u001b[0mCloning into 'fairseq'...\n",
            "remote: Enumerating objects: 35203, done.\u001b[K\n",
            "remote: Counting objects: 100% (120/120), done.\u001b[K\n",
            "remote: Compressing objects: 100% (72/72), done.\u001b[K\n",
            "remote: Total 35203 (delta 66), reused 80 (delta 48), pack-reused 35083\u001b[K\n",
            "Receiving objects: 100% (35203/35203), 25.23 MiB | 19.01 MiB/s, done.\n"
          ]
        }
      ],
      "source": [
        "# clone the repo for running evaluation\n",
        "!git clone https://github.com/AI4Bharat/indicTrans.git\n",
        "%cd indicTrans\n",
        "# clone requirements repositories\n",
        "!git clone https://github.com/anoopkunchukuttan/indic_nlp_library.git\n",
        "!git clone https://github.com/anoopkunchukuttan/indic_nlp_resources.git\n",
        "!git clone https://github.com/rsennrich/subword-nmt.git\n",
        "%cd ..\n",
        "# Install requirements\n",
        "!pip install sacremoses pandas mock sacrebleu tensorboardX pyarrow indic-nlp-library\n",
        "!pip install mosestokenizer subword-nmt\n",
        "# Install fairseq from source\n",
        "!git clone https://github.com/pytorch/fairseq.git\n",
        "%cd fairseq\n",
        "# xformers\n",
        "!pip install ./\n",
        "! pip install xformers\n",
        "%cd ..\n",
        "# download the en2indic model\n",
        "!wget https://ai4b-public-nlu-nlg.objectstore.e2enetworks.net/en2indic.zip\n",
        "!unzip en2indic.zip\n",
        "%cd indicTrans\n",
        "# add fairseq folder to python path\n",
        "import os\n",
        "os.environ['PYTHONPATH'] += \":/content/fairseq/\"\n",
        "# sanity check to see if fairseq is installed\n",
        "from fairseq import checkpoint_utils, distributed_utils, options, tasks, utils\n",
        "from indicTrans.inference.engine import Model\n",
        "en2indic_model = Model(expdir='../en-indic')"
      ]
    },
    {
      "cell_type": "code",
      "execution_count": 13,
      "metadata": {
        "id": "ZZ79obB74oL8"
      },
      "outputs": [],
      "source": [
        "def translate_text(text, dest_language='kn'):  # Change 'kn' to your desired language code\n",
        "    try:\n",
        "        translated = en2indic_model.translate_paragraph(text, 'en', dest_language)\n",
        "        print(\"Translated:\", translated)\n",
        "        return translated\n",
        "    except Exception as e:\n",
        "        print(f\"Error in translation: {e}\")\n",
        "        return text"
      ]
    },
    {
      "cell_type": "code",
      "source": [
        "# # Function to extract text and its positions from a PDF\n",
        "# def extract_text_positions(pdf_path):\n",
        "#     doc = fitz.open(pdf_path)\n",
        "#     text_positions = []\n",
        "#     for page_num in range(len(doc)):\n",
        "#         page = doc.load_page(page_num)\n",
        "#         blocks = page.get_text(\"dict\")[\"blocks\"]\n",
        "#         for b in blocks:\n",
        "#             if \"lines\" in b:\n",
        "#                 for l in b[\"lines\"]:\n",
        "#                     for s in l[\"spans\"]:\n",
        "#                         text_positions.append({\n",
        "#                             \"text\": s[\"text\"],\n",
        "#                             \"x\": s[\"bbox\"][0],\n",
        "#                             \"y\": s[\"bbox\"][1],\n",
        "#                             \"page_num\": page_num\n",
        "#                         })\n",
        "#     return text_positions"
      ],
      "metadata": {
        "id": "jl3zqt2GXEjJ"
      },
      "execution_count": 14,
      "outputs": []
    },
    {
      "cell_type": "code",
      "execution_count": 15,
      "metadata": {
        "id": "jYFCel1m4uLr",
        "colab": {
          "base_uri": "https://localhost:8080/"
        },
        "outputId": "83a5eaa0-1681-4e9c-a6c1-eaf4095782c4"
      },
      "outputs": [
        {
          "output_type": "stream",
          "name": "stdout",
          "text": [
            "Error in translation: name 'en2indic_model' is not defined\n",
            "Error in translation: name 'en2indic_model' is not defined\n",
            "Error in translation: name 'en2indic_model' is not defined\n",
            "Error in translation: name 'en2indic_model' is not defined\n",
            "Error in translation: name 'en2indic_model' is not defined\n",
            "Error in translation: name 'en2indic_model' is not defined\n",
            "Error in translation: name 'en2indic_model' is not defined\n",
            "Error in translation: name 'en2indic_model' is not defined\n",
            "Error in translation: name 'en2indic_model' is not defined\n",
            "Error in translation: name 'en2indic_model' is not defined\n",
            "Error in translation: name 'en2indic_model' is not defined\n",
            "Error in translation: name 'en2indic_model' is not defined\n",
            "Error in translation: name 'en2indic_model' is not defined\n",
            "Error in translation: name 'en2indic_model' is not defined\n",
            "Error in translation: name 'en2indic_model' is not defined\n",
            "Error in translation: name 'en2indic_model' is not defined\n",
            "Error in translation: name 'en2indic_model' is not defined\n",
            "Error in translation: name 'en2indic_model' is not defined\n",
            "Error in translation: name 'en2indic_model' is not defined\n",
            "Error in translation: name 'en2indic_model' is not defined\n",
            "Error in translation: name 'en2indic_model' is not defined\n",
            "Error in translation: name 'en2indic_model' is not defined\n",
            "Error in translation: name 'en2indic_model' is not defined\n",
            "Error in translation: name 'en2indic_model' is not defined\n",
            "Error in translation: name 'en2indic_model' is not defined\n",
            "Error in translation: name 'en2indic_model' is not defined\n",
            "Error in translation: name 'en2indic_model' is not defined\n",
            "Error in translation: name 'en2indic_model' is not defined\n",
            "Error in translation: name 'en2indic_model' is not defined\n",
            "Error in translation: name 'en2indic_model' is not defined\n",
            "Error in translation: name 'en2indic_model' is not defined\n",
            "Error in translation: name 'en2indic_model' is not defined\n",
            "Error in translation: name 'en2indic_model' is not defined\n",
            "Error in translation: name 'en2indic_model' is not defined\n",
            "Error in translation: name 'en2indic_model' is not defined\n",
            "Error in translation: name 'en2indic_model' is not defined\n",
            "Error in translation: name 'en2indic_model' is not defined\n",
            "Error in translation: name 'en2indic_model' is not defined\n",
            "Error in translation: name 'en2indic_model' is not defined\n",
            "Error in translation: name 'en2indic_model' is not defined\n",
            "Error in translation: name 'en2indic_model' is not defined\n",
            "Error in translation: name 'en2indic_model' is not defined\n",
            "Error in translation: name 'en2indic_model' is not defined\n",
            "Error in translation: name 'en2indic_model' is not defined\n",
            "Error in translation: name 'en2indic_model' is not defined\n",
            "Error in translation: name 'en2indic_model' is not defined\n",
            "Error in translation: name 'en2indic_model' is not defined\n",
            "Error in translation: name 'en2indic_model' is not defined\n",
            "Error in translation: name 'en2indic_model' is not defined\n",
            "Error in translation: name 'en2indic_model' is not defined\n",
            "Error in translation: name 'en2indic_model' is not defined\n",
            "Error in translation: name 'en2indic_model' is not defined\n",
            "Error in translation: name 'en2indic_model' is not defined\n",
            "Error in translation: name 'en2indic_model' is not defined\n",
            "Error in translation: name 'en2indic_model' is not defined\n",
            "Error in translation: name 'en2indic_model' is not defined\n",
            "Error in translation: name 'en2indic_model' is not defined\n"
          ]
        }
      ],
      "source": [
        "for i in range(doc.page_count):\n",
        "    # Get the original page\n",
        "    original_page = doc.load_page(i)\n",
        "\n",
        "    # Get the corresponding page in the new document\n",
        "    new_page = new_doc.load_page(i)\n",
        "\n",
        "    # Extract text blocks from the original page\n",
        "    blocks = original_page.get_text(\"blocks\")\n",
        "\n",
        "    # Add translated text with coordinates to the new page\n",
        "    for b in blocks:\n",
        "        try:\n",
        "            # Extract text and coordinates\n",
        "            text = b[4]\n",
        "            x0, y0, x1, y1 = b[:4]\n",
        "\n",
        "            # Translate the text to Kannada\n",
        "            translated_text = translate_text(text)\n",
        "\n",
        "            # Ensure UTF-8 encoding\n",
        "            translated_text = translated_text.encode('utf-8').decode('utf-8')\n",
        "\n",
        "            # Define the text box rectangle\n",
        "            rect = fitz.Rect(x0, y0, x1, y1)\n",
        "\n",
        "            # Draw translated text in the text box with the font buffer\n",
        "            new_page.insert_textbox(\n",
        "                rect,\n",
        "                translated_text,\n",
        "                fontname='NotoSans-Kannada',\n",
        "                fontfile=noto_sans_kannada_path,\n",
        "                fontsize=10,\n",
        "                color=(0, 0, 0)\n",
        "            )\n",
        "        except Exception as e:\n",
        "            print(f\"Error processing text block: {e}\")"
      ]
    },
    {
      "cell_type": "code",
      "execution_count": 25,
      "metadata": {
        "id": "VekIkmNa4-qV"
      },
      "outputs": [],
      "source": [
        "# new_doc.save(\"/content/Translated_OurPast_Chapter1.pdf\")\n",
        "new_doc.saveIncr()"
      ]
    },
    {
      "cell_type": "code",
      "execution_count": 26,
      "metadata": {
        "id": "94XwmSkr5C2d"
      },
      "outputs": [],
      "source": [
        "# doc.close()\n",
        "# new_doc.close()"
      ]
    },
    {
      "cell_type": "code",
      "execution_count": 27,
      "metadata": {
        "id": "kcMK87eqOyGQ",
        "colab": {
          "base_uri": "https://localhost:8080/"
        },
        "outputId": "9c2ea25c-d4ee-48ba-9b31-4bf7566ba9bf"
      },
      "outputs": [
        {
          "output_type": "stream",
          "name": "stdout",
          "text": [
            "Requirement already satisfied: convertapi in /usr/local/lib/python3.10/dist-packages (1.8.0)\n",
            "Requirement already satisfied: requests>=2.4.2 in /usr/local/lib/python3.10/dist-packages (from convertapi) (2.31.0)\n",
            "Requirement already satisfied: charset-normalizer<4,>=2 in /usr/local/lib/python3.10/dist-packages (from requests>=2.4.2->convertapi) (3.3.2)\n",
            "Requirement already satisfied: idna<4,>=2.5 in /usr/local/lib/python3.10/dist-packages (from requests>=2.4.2->convertapi) (3.7)\n",
            "Requirement already satisfied: urllib3<3,>=1.21.1 in /usr/local/lib/python3.10/dist-packages (from requests>=2.4.2->convertapi) (2.0.7)\n",
            "Requirement already satisfied: certifi>=2017.4.17 in /usr/local/lib/python3.10/dist-packages (from requests>=2.4.2->convertapi) (2024.7.4)\n"
          ]
        }
      ],
      "source": [
        "!pip install convertapi\n",
        "import convertapi"
      ]
    },
    {
      "cell_type": "code",
      "execution_count": 28,
      "metadata": {
        "id": "ujb6R9GPOtJu"
      },
      "outputs": [],
      "source": [
        "convertapi.api_secret = '4OYbALQ2RREClhvm'"
      ]
    },
    {
      "cell_type": "code",
      "execution_count": 29,
      "metadata": {
        "id": "BBkMA7hQ14En"
      },
      "outputs": [],
      "source": [
        "docf = '/content/Translated_OurPast_Chapter1' #-----------------> new_pdf_path ***but without extension***"
      ]
    },
    {
      "cell_type": "code",
      "execution_count": null,
      "metadata": {
        "id": "wqkDYe4r5HQn"
      },
      "outputs": [],
      "source": [
        "convertapi.convert('docx', {\n",
        "    'File': f'{docf}.pdf'\n",
        "}, from_format = 'pdf').save_files('/content/')"
      ]
    },
    {
      "cell_type": "code",
      "execution_count": null,
      "metadata": {
        "id": "_X2CLoFKRBLT"
      },
      "outputs": [],
      "source": [
        "convertapi.convert('pdf', {\n",
        "    'File': f'{docf}.docx'\n",
        "}, from_format = 'docx').save_files('/content/')"
      ]
    },
    {
      "cell_type": "code",
      "execution_count": null,
      "metadata": {
        "id": "HYnFC7a9SYNP"
      },
      "outputs": [],
      "source": [
        "print(\"New PDF and Docx with translated content generated successfully.\")"
      ]
    }
  ],
  "metadata": {
    "colab": {
      "provenance": [],
      "include_colab_link": true
    },
    "kernelspec": {
      "display_name": "Python 3",
      "name": "python3"
    },
    "language_info": {
      "name": "python"
    }
  },
  "nbformat": 4,
  "nbformat_minor": 0
}